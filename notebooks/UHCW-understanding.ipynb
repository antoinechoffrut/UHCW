{
 "cells": [
  {
   "cell_type": "markdown",
   "metadata": {},
   "source": [
    "# Understanding the *UHCW* dataset\n",
    "The [University Hospitals - Coventry & Warwickshire](https://www.uhcw.nhs.uk) (UHCW) has set up an online [portal](https://www.swiftqueue.co.uk/uhcw.php) to facilitate the booking of blood tests appointments in 18 centers around Coventry (UK).  \n",
    "\n",
    "\n",
    "Available appointments have been recorded in the dataset `appointments.csv`. \n",
    "In this notebook we take a first look at this dataset.  \n",
    "\n",
    "For speed and since this is still preliminary work, this notebook uses a relatively smaller subset, `sample_appointments.csv`.\n",
    "\n",
    "---\n",
    "\n",
    "## Summary of findings\n",
    "- There are:\n",
    " - 18 test centers,\n",
    " - serving 2 age groups (\"adult\" and \"child\"),\n",
    " - delivering a total of 5 different test types, labeled:\n",
    "   - 'Blood Test'\n",
    "   - 'INR Test',\n",
    "   - 'Fasting Bloods',\n",
    "   - 'Non Fasting Bloods',\n",
    "   - 'Glucose Tolerance Test'\n",
    "- Each test center serves only 1 age group.\n",
    "- Each center delivers 1, 2, or 3 different types of test.\n",
    "- The centers open their appointments for booking with a varying number of days ahead of time, between 52 and 125.\n",
    "- Most centers which deliver tests of multiple types put the appointments for all types at the same time.  \n",
    "\n",
    "In the first part of this notebook, we will display the operations on the dataframes.  In the second part we will invoke the custom class `UHCW`.\n",
    "\n",
    "\n",
    "## Remark on the code##  \n",
    "In later notebooks we will use custom functions and classes.  Here we deliberately stick to standard modules.\n",
    "\n",
    "---"
   ]
  },
  {
   "cell_type": "markdown",
   "metadata": {},
   "source": [
    "## Imports"
   ]
  },
  {
   "cell_type": "code",
   "execution_count": 1,
   "metadata": {},
   "outputs": [],
   "source": [
    "import os\n",
    "import pytz\n",
    "import pandas as pd\n",
    "import datetime\n",
    "import matplotlib.pyplot as plt\n",
    "%matplotlib inline"
   ]
  },
  {
   "cell_type": "markdown",
   "metadata": {},
   "source": [
    "Record time of beginning of script:"
   ]
  },
  {
   "cell_type": "code",
   "execution_count": 2,
   "metadata": {},
   "outputs": [],
   "source": [
    "beg_script = datetime.datetime.now()"
   ]
  },
  {
   "cell_type": "markdown",
   "metadata": {},
   "source": [
    "## Constants"
   ]
  },
  {
   "cell_type": "code",
   "execution_count": 3,
   "metadata": {},
   "outputs": [],
   "source": [
    "tz_utc = pytz.timezone(\"UTC\")  # grab timestamp is in UTC standard\n",
    "tz_london = pytz.timezone(\"Europe/London\")  # test centers are in Coventry, UK\n",
    "\n",
    "IMG_DIR = os.path.join(os.path.expanduser(\"~\"), \"Projects/UHCW/IMAGE_FILES\")"
   ]
  },
  {
   "cell_type": "markdown",
   "metadata": {},
   "source": [
    "## Data\n",
    "Read in the `csv` file."
   ]
  },
  {
   "cell_type": "code",
   "execution_count": 4,
   "metadata": {
    "scrolled": true
   },
   "outputs": [
    {
     "name": "stdout",
     "output_type": "stream",
     "text": [
      "Time: 12:24:50\n",
      "Size of data file: 291MB.\n",
      "Loading data...\n",
      "CPU times: user 3.88 s, sys: 379 ms, total: 4.26 s\n",
      "Wall time: 4.26 s\n"
     ]
    }
   ],
   "source": [
    "%%time\n",
    "print(datetime.datetime.now().strftime(\"Time: %H:%M:%S\"))\n",
    "foldername = 'Projects/UHCW/datasets'\n",
    "# Choose from among datasets of various sizes (various collection periods or centers)\n",
    "# filename = 'appointments-tiny.csv'\n",
    "# filename = 'appointments-less-tiny.csv'\n",
    "# filename = 'appointments-one-week-two-centers.csv'\n",
    "filename = 'appointments-24-hours.csv'\n",
    "# filename = 'appointments-one-week.csv'\n",
    "# filename = 'appointments-three-weeks.csv'filepath = os.path.join(os.path.expanduser(\"~\"), foldername, filename)\n",
    "\n",
    "filepath = os.path.join(os.path.expanduser(\"~\"), foldername, filename)\n",
    "filesize = os.path.getsize(filepath)\n",
    "if filesize > 1e6:\n",
    "    print(\"Size of data file: {}MB.\".format(filesize//1000000))\n",
    "elif filesize > 1e3:\n",
    "    print(\"Size of data file: {}KB.\".format(filesize//1000))\n",
    "else:\n",
    "    print(\"Size of data file: {}B.\".format(filesize))\n",
    "print(\"Loading data...\")\n",
    "raw_data = pd.read_csv(filepath, sep=';')\n",
    "raw_data.rename(\n",
    "    index=str,\n",
    "    columns={\n",
    "        'center id': 'id',\n",
    "        'test type': 'test',\n",
    "        'appointment timestamp': 'appointment',\n",
    "        'center age group': 'age group',\n",
    "        'grab timestamp': 'grab'\n",
    "    },\n",
    "    inplace=True\n",
    ")"
   ]
  },
  {
   "cell_type": "markdown",
   "metadata": {},
   "source": [
    "## The working dataframe `schedule`\n",
    "Let's look at the dataframe `raw_data`:"
   ]
  },
  {
   "cell_type": "code",
   "execution_count": 5,
   "metadata": {},
   "outputs": [
    {
     "name": "stdout",
     "output_type": "stream",
     "text": [
      "<class 'pandas.core.frame.DataFrame'>\n",
      "Index: 5117059 entries, 0 to 5117058\n",
      "Data columns (total 5 columns):\n",
      "appointment    object\n",
      "age group      object\n",
      "id             int64\n",
      "test           object\n",
      "grab           object\n",
      "dtypes: int64(1), object(4)\n",
      "memory usage: 234.2+ MB\n"
     ]
    }
   ],
   "source": [
    "raw_data.info()"
   ]
  },
  {
   "cell_type": "markdown",
   "metadata": {},
   "source": [
    "Each row contains information about an available appointment at the time the data was collected:  \n",
    "- the `appointment` column gives the timestamp (in the local timezone, Coventry, UK) of the appointment;\n",
    "- the `grab` column gives the timestamp (in the UTC standard) when the data was collected;\n",
    "- the `id` column gives the id number of the test center of the appointment;\n",
    "- the `age group` column gives the age group of the population served (\"adult\" or \"child\");\n",
    "- the `test` column gives the type of test administered.\n",
    "\n",
    "We will work with a copy, `schedule`, and perform type conversion.  \n",
    "\n",
    "**Note.** The timestamp localization and conversion may take some time on a regular computer (several minutes for 5117059 records)."
   ]
  },
  {
   "cell_type": "code",
   "execution_count": 6,
   "metadata": {},
   "outputs": [
    {
     "name": "stdout",
     "output_type": "stream",
     "text": [
      "CPU times: user 4min 21s, sys: 3.5 s, total: 4min 24s\n",
      "Wall time: 4min 22s\n"
     ]
    }
   ],
   "source": [
    "%%time\n",
    "schedule = raw_data.copy()\n",
    "\n",
    "schedule['appointment'] = pd.to_datetime(schedule['appointment'])\n",
    "schedule['grab'] = pd.to_datetime(schedule['grab'])\n",
    "\n",
    "schedule = schedule[['id', 'test', 'age group', 'grab', 'appointment']]\n",
    "\n",
    "schedule['appointment'] = schedule['appointment'].apply(\n",
    "    lambda ts: ts.tz_localize(tz_london)\n",
    ")\n",
    "schedule['grab'] = schedule['grab'].apply(\n",
    "    lambda ts: ts.tz_localize(tz_utc).tz_convert(tz_london)\n",
    ")"
   ]
  },
  {
   "cell_type": "code",
   "execution_count": 7,
   "metadata": {},
   "outputs": [
    {
     "name": "stdout",
     "output_type": "stream",
     "text": [
      "<class 'pandas.core.frame.DataFrame'>\n",
      "Index: 5117059 entries, 0 to 5117058\n",
      "Data columns (total 5 columns):\n",
      "id             int64\n",
      "test           object\n",
      "age group      object\n",
      "grab           datetime64[ns, Europe/London]\n",
      "appointment    datetime64[ns, Europe/London]\n",
      "dtypes: datetime64[ns, Europe/London](2), int64(1), object(2)\n",
      "memory usage: 234.2+ MB\n"
     ]
    }
   ],
   "source": [
    "schedule.info()"
   ]
  },
  {
   "cell_type": "markdown",
   "metadata": {},
   "source": [
    "For emphasis, in the new dataframe `schedule`,  both the `appointment` and `grab` timestamps are in the local timezone (London, UK), and they are both in the format \"YYYY-MM-DD hh:mm:ss\".  "
   ]
  },
  {
   "cell_type": "markdown",
   "metadata": {},
   "source": [
    "---\n",
    "## First observations\n",
    "\n",
    "There are 18 test centers serving 2 age groups and delivering a total of 5 types of blood tests:"
   ]
  },
  {
   "cell_type": "code",
   "execution_count": 8,
   "metadata": {},
   "outputs": [
    {
     "data": {
      "text/html": [
       "<div>\n",
       "<style scoped>\n",
       "    .dataframe tbody tr th:only-of-type {\n",
       "        vertical-align: middle;\n",
       "    }\n",
       "\n",
       "    .dataframe tbody tr th {\n",
       "        vertical-align: top;\n",
       "    }\n",
       "\n",
       "    .dataframe thead th {\n",
       "        text-align: right;\n",
       "    }\n",
       "</style>\n",
       "<table border=\"1\" class=\"dataframe\">\n",
       "  <thead>\n",
       "    <tr style=\"text-align: right;\">\n",
       "      <th></th>\n",
       "      <th>count</th>\n",
       "    </tr>\n",
       "  </thead>\n",
       "  <tbody>\n",
       "    <tr>\n",
       "      <th>id</th>\n",
       "      <td>18</td>\n",
       "    </tr>\n",
       "    <tr>\n",
       "      <th>age group</th>\n",
       "      <td>2</td>\n",
       "    </tr>\n",
       "    <tr>\n",
       "      <th>test</th>\n",
       "      <td>5</td>\n",
       "    </tr>\n",
       "  </tbody>\n",
       "</table>\n",
       "</div>"
      ],
      "text/plain": [
       "           count\n",
       "id            18\n",
       "age group      2\n",
       "test           5"
      ]
     },
     "execution_count": 8,
     "metadata": {},
     "output_type": "execute_result"
    }
   ],
   "source": [
    "schedule[['id', 'age group', 'test']].nunique().rename(\"count\").to_frame()"
   ]
  },
  {
   "cell_type": "markdown",
   "metadata": {},
   "source": [
    "The two categories in the `age group`:"
   ]
  },
  {
   "cell_type": "code",
   "execution_count": 9,
   "metadata": {},
   "outputs": [
    {
     "name": "stdout",
     "output_type": "stream",
     "text": [
      "adult\n",
      "child\n"
     ]
    }
   ],
   "source": [
    "print(\"\\n\".join(list(schedule['age group'].unique())))"
   ]
  },
  {
   "cell_type": "markdown",
   "metadata": {},
   "source": [
    "The `test type`s are:"
   ]
  },
  {
   "cell_type": "code",
   "execution_count": 10,
   "metadata": {},
   "outputs": [
    {
     "name": "stdout",
     "output_type": "stream",
     "text": [
      "Blood Test\n",
      "INR Test\n",
      "Fasting Bloods\n",
      "Non Fasting Bloods\n",
      "Glucose Tolerance Test\n"
     ]
    }
   ],
   "source": [
    "print(\"\\n\".join(list(schedule['test'].unique())))"
   ]
  },
  {
   "cell_type": "markdown",
   "metadata": {},
   "source": [
    "Each test center serves only one age group:"
   ]
  },
  {
   "cell_type": "code",
   "execution_count": 11,
   "metadata": {
    "scrolled": true
   },
   "outputs": [
    {
     "data": {
      "text/html": [
       "<div>\n",
       "<style scoped>\n",
       "    .dataframe tbody tr th:only-of-type {\n",
       "        vertical-align: middle;\n",
       "    }\n",
       "\n",
       "    .dataframe tbody tr th {\n",
       "        vertical-align: top;\n",
       "    }\n",
       "\n",
       "    .dataframe thead th {\n",
       "        text-align: right;\n",
       "    }\n",
       "</style>\n",
       "<table border=\"1\" class=\"dataframe\">\n",
       "  <thead>\n",
       "    <tr style=\"text-align: right;\">\n",
       "      <th></th>\n",
       "      <th>age group</th>\n",
       "    </tr>\n",
       "    <tr>\n",
       "      <th>id</th>\n",
       "      <th></th>\n",
       "    </tr>\n",
       "  </thead>\n",
       "  <tbody>\n",
       "    <tr>\n",
       "      <th>10136</th>\n",
       "      <td>[adult]</td>\n",
       "    </tr>\n",
       "    <tr>\n",
       "      <th>10137</th>\n",
       "      <td>[adult]</td>\n",
       "    </tr>\n",
       "    <tr>\n",
       "      <th>10138</th>\n",
       "      <td>[adult]</td>\n",
       "    </tr>\n",
       "    <tr>\n",
       "      <th>10188</th>\n",
       "      <td>[adult]</td>\n",
       "    </tr>\n",
       "    <tr>\n",
       "      <th>10207</th>\n",
       "      <td>[adult]</td>\n",
       "    </tr>\n",
       "    <tr>\n",
       "      <th>10243</th>\n",
       "      <td>[adult]</td>\n",
       "    </tr>\n",
       "    <tr>\n",
       "      <th>10244</th>\n",
       "      <td>[adult]</td>\n",
       "    </tr>\n",
       "    <tr>\n",
       "      <th>10250</th>\n",
       "      <td>[adult]</td>\n",
       "    </tr>\n",
       "    <tr>\n",
       "      <th>10254</th>\n",
       "      <td>[child]</td>\n",
       "    </tr>\n",
       "    <tr>\n",
       "      <th>10263</th>\n",
       "      <td>[adult]</td>\n",
       "    </tr>\n",
       "    <tr>\n",
       "      <th>10266</th>\n",
       "      <td>[adult]</td>\n",
       "    </tr>\n",
       "    <tr>\n",
       "      <th>10294</th>\n",
       "      <td>[child]</td>\n",
       "    </tr>\n",
       "    <tr>\n",
       "      <th>10299</th>\n",
       "      <td>[adult]</td>\n",
       "    </tr>\n",
       "    <tr>\n",
       "      <th>10301</th>\n",
       "      <td>[child]</td>\n",
       "    </tr>\n",
       "    <tr>\n",
       "      <th>10336</th>\n",
       "      <td>[child]</td>\n",
       "    </tr>\n",
       "    <tr>\n",
       "      <th>10341</th>\n",
       "      <td>[adult]</td>\n",
       "    </tr>\n",
       "    <tr>\n",
       "      <th>10352</th>\n",
       "      <td>[adult]</td>\n",
       "    </tr>\n",
       "    <tr>\n",
       "      <th>10449</th>\n",
       "      <td>[adult]</td>\n",
       "    </tr>\n",
       "  </tbody>\n",
       "</table>\n",
       "</div>"
      ],
      "text/plain": [
       "      age group\n",
       "id             \n",
       "10136   [adult]\n",
       "10137   [adult]\n",
       "10138   [adult]\n",
       "10188   [adult]\n",
       "10207   [adult]\n",
       "10243   [adult]\n",
       "10244   [adult]\n",
       "10250   [adult]\n",
       "10254   [child]\n",
       "10263   [adult]\n",
       "10266   [adult]\n",
       "10294   [child]\n",
       "10299   [adult]\n",
       "10301   [child]\n",
       "10336   [child]\n",
       "10341   [adult]\n",
       "10352   [adult]\n",
       "10449   [adult]"
      ]
     },
     "execution_count": 11,
     "metadata": {},
     "output_type": "execute_result"
    }
   ],
   "source": [
    "schedule.groupby('id')['age group'].unique().rename(\"age group\").to_frame()"
   ]
  },
  {
   "cell_type": "markdown",
   "metadata": {},
   "source": [
    " but delivers up to three types of blood test.  These are:"
   ]
  },
  {
   "cell_type": "code",
   "execution_count": 12,
   "metadata": {},
   "outputs": [
    {
     "data": {
      "text/html": [
       "<div>\n",
       "<style scoped>\n",
       "    .dataframe tbody tr th:only-of-type {\n",
       "        vertical-align: middle;\n",
       "    }\n",
       "\n",
       "    .dataframe tbody tr th {\n",
       "        vertical-align: top;\n",
       "    }\n",
       "\n",
       "    .dataframe thead th {\n",
       "        text-align: right;\n",
       "    }\n",
       "</style>\n",
       "<table border=\"1\" class=\"dataframe\">\n",
       "  <thead>\n",
       "    <tr style=\"text-align: right;\">\n",
       "      <th></th>\n",
       "      <th>test types</th>\n",
       "    </tr>\n",
       "    <tr>\n",
       "      <th>id</th>\n",
       "      <th></th>\n",
       "    </tr>\n",
       "  </thead>\n",
       "  <tbody>\n",
       "    <tr>\n",
       "      <th>10136</th>\n",
       "      <td>[Fasting Bloods, Non Fasting Bloods, INR Test]</td>\n",
       "    </tr>\n",
       "    <tr>\n",
       "      <th>10137</th>\n",
       "      <td>[Blood Test]</td>\n",
       "    </tr>\n",
       "    <tr>\n",
       "      <th>10138</th>\n",
       "      <td>[Blood Test]</td>\n",
       "    </tr>\n",
       "    <tr>\n",
       "      <th>10188</th>\n",
       "      <td>[Blood Test, INR Test]</td>\n",
       "    </tr>\n",
       "    <tr>\n",
       "      <th>10207</th>\n",
       "      <td>[Blood Test]</td>\n",
       "    </tr>\n",
       "    <tr>\n",
       "      <th>10243</th>\n",
       "      <td>[Blood Test, INR Test]</td>\n",
       "    </tr>\n",
       "    <tr>\n",
       "      <th>10244</th>\n",
       "      <td>[Blood Test, INR Test]</td>\n",
       "    </tr>\n",
       "    <tr>\n",
       "      <th>10250</th>\n",
       "      <td>[Blood Test, INR Test]</td>\n",
       "    </tr>\n",
       "    <tr>\n",
       "      <th>10254</th>\n",
       "      <td>[Blood Test]</td>\n",
       "    </tr>\n",
       "    <tr>\n",
       "      <th>10263</th>\n",
       "      <td>[Blood Test, INR Test]</td>\n",
       "    </tr>\n",
       "    <tr>\n",
       "      <th>10266</th>\n",
       "      <td>[Blood Test, INR Test]</td>\n",
       "    </tr>\n",
       "    <tr>\n",
       "      <th>10294</th>\n",
       "      <td>[Blood Test]</td>\n",
       "    </tr>\n",
       "    <tr>\n",
       "      <th>10299</th>\n",
       "      <td>[Glucose Tolerance Test]</td>\n",
       "    </tr>\n",
       "    <tr>\n",
       "      <th>10301</th>\n",
       "      <td>[Blood Test]</td>\n",
       "    </tr>\n",
       "    <tr>\n",
       "      <th>10336</th>\n",
       "      <td>[Blood Test]</td>\n",
       "    </tr>\n",
       "    <tr>\n",
       "      <th>10341</th>\n",
       "      <td>[Blood Test]</td>\n",
       "    </tr>\n",
       "    <tr>\n",
       "      <th>10352</th>\n",
       "      <td>[Blood Test, INR Test]</td>\n",
       "    </tr>\n",
       "    <tr>\n",
       "      <th>10449</th>\n",
       "      <td>[Blood Test]</td>\n",
       "    </tr>\n",
       "  </tbody>\n",
       "</table>\n",
       "</div>"
      ],
      "text/plain": [
       "                                           test types\n",
       "id                                                   \n",
       "10136  [Fasting Bloods, Non Fasting Bloods, INR Test]\n",
       "10137                                    [Blood Test]\n",
       "10138                                    [Blood Test]\n",
       "10188                          [Blood Test, INR Test]\n",
       "10207                                    [Blood Test]\n",
       "10243                          [Blood Test, INR Test]\n",
       "10244                          [Blood Test, INR Test]\n",
       "10250                          [Blood Test, INR Test]\n",
       "10254                                    [Blood Test]\n",
       "10263                          [Blood Test, INR Test]\n",
       "10266                          [Blood Test, INR Test]\n",
       "10294                                    [Blood Test]\n",
       "10299                        [Glucose Tolerance Test]\n",
       "10301                                    [Blood Test]\n",
       "10336                                    [Blood Test]\n",
       "10341                                    [Blood Test]\n",
       "10352                          [Blood Test, INR Test]\n",
       "10449                                    [Blood Test]"
      ]
     },
     "execution_count": 12,
     "metadata": {},
     "output_type": "execute_result"
    }
   ],
   "source": [
    "center_test_types = schedule.groupby('id')['test'].unique().rename(\"test types\").to_frame()\n",
    "center_test_types"
   ]
  },
  {
   "cell_type": "markdown",
   "metadata": {},
   "source": [
    "## Dropping the column `age group`\n",
    "We will no longer be using the column `age group`:"
   ]
  },
  {
   "cell_type": "code",
   "execution_count": 13,
   "metadata": {},
   "outputs": [],
   "source": [
    "schedule.drop('age group', axis=1, inplace=True)"
   ]
  },
  {
   "cell_type": "markdown",
   "metadata": {},
   "source": [
    "## Ordering the data by test center\n",
    "\n",
    "### Order centers by number of test types\n",
    "\n",
    "We can sort the test centers by the number of test types:"
   ]
  },
  {
   "cell_type": "code",
   "execution_count": 14,
   "metadata": {},
   "outputs": [
    {
     "data": {
      "text/html": [
       "<div>\n",
       "<style scoped>\n",
       "    .dataframe tbody tr th:only-of-type {\n",
       "        vertical-align: middle;\n",
       "    }\n",
       "\n",
       "    .dataframe tbody tr th {\n",
       "        vertical-align: top;\n",
       "    }\n",
       "\n",
       "    .dataframe thead th {\n",
       "        text-align: right;\n",
       "    }\n",
       "</style>\n",
       "<table border=\"1\" class=\"dataframe\">\n",
       "  <thead>\n",
       "    <tr style=\"text-align: right;\">\n",
       "      <th></th>\n",
       "      <th>nb of test types</th>\n",
       "    </tr>\n",
       "    <tr>\n",
       "      <th>center id</th>\n",
       "      <th></th>\n",
       "    </tr>\n",
       "  </thead>\n",
       "  <tbody>\n",
       "    <tr>\n",
       "      <th>10137</th>\n",
       "      <td>1</td>\n",
       "    </tr>\n",
       "    <tr>\n",
       "      <th>10138</th>\n",
       "      <td>1</td>\n",
       "    </tr>\n",
       "    <tr>\n",
       "      <th>10207</th>\n",
       "      <td>1</td>\n",
       "    </tr>\n",
       "    <tr>\n",
       "      <th>10254</th>\n",
       "      <td>1</td>\n",
       "    </tr>\n",
       "    <tr>\n",
       "      <th>10294</th>\n",
       "      <td>1</td>\n",
       "    </tr>\n",
       "    <tr>\n",
       "      <th>10299</th>\n",
       "      <td>1</td>\n",
       "    </tr>\n",
       "    <tr>\n",
       "      <th>10301</th>\n",
       "      <td>1</td>\n",
       "    </tr>\n",
       "    <tr>\n",
       "      <th>10336</th>\n",
       "      <td>1</td>\n",
       "    </tr>\n",
       "    <tr>\n",
       "      <th>10341</th>\n",
       "      <td>1</td>\n",
       "    </tr>\n",
       "    <tr>\n",
       "      <th>10449</th>\n",
       "      <td>1</td>\n",
       "    </tr>\n",
       "    <tr>\n",
       "      <th>10188</th>\n",
       "      <td>2</td>\n",
       "    </tr>\n",
       "    <tr>\n",
       "      <th>10243</th>\n",
       "      <td>2</td>\n",
       "    </tr>\n",
       "    <tr>\n",
       "      <th>10244</th>\n",
       "      <td>2</td>\n",
       "    </tr>\n",
       "    <tr>\n",
       "      <th>10250</th>\n",
       "      <td>2</td>\n",
       "    </tr>\n",
       "    <tr>\n",
       "      <th>10263</th>\n",
       "      <td>2</td>\n",
       "    </tr>\n",
       "    <tr>\n",
       "      <th>10266</th>\n",
       "      <td>2</td>\n",
       "    </tr>\n",
       "    <tr>\n",
       "      <th>10352</th>\n",
       "      <td>2</td>\n",
       "    </tr>\n",
       "    <tr>\n",
       "      <th>10136</th>\n",
       "      <td>3</td>\n",
       "    </tr>\n",
       "  </tbody>\n",
       "</table>\n",
       "</div>"
      ],
      "text/plain": [
       "           nb of test types\n",
       "center id                  \n",
       "10137                     1\n",
       "10138                     1\n",
       "10207                     1\n",
       "10254                     1\n",
       "10294                     1\n",
       "10299                     1\n",
       "10301                     1\n",
       "10336                     1\n",
       "10341                     1\n",
       "10449                     1\n",
       "10188                     2\n",
       "10243                     2\n",
       "10244                     2\n",
       "10250                     2\n",
       "10263                     2\n",
       "10266                     2\n",
       "10352                     2\n",
       "10136                     3"
      ]
     },
     "execution_count": 14,
     "metadata": {},
     "output_type": "execute_result"
    }
   ],
   "source": [
    "centers_ordered_by_test_types = schedule.groupby('id')['test'].nunique().reset_index().sort_values(\n",
    "    ['test', 'id']).rename(\n",
    "    index=str, columns={'id': 'center id', 'test': 'nb of test types'}\n",
    ").set_index(\"center id\")\n",
    "centers_ordered_by_test_types"
   ]
  },
  {
   "cell_type": "code",
   "execution_count": 15,
   "metadata": {},
   "outputs": [
    {
     "data": {
      "image/png": "[encoded data removed]",
      "text/plain": [
       "<Figure size 432x288 with 1 Axes>"
      ]
     },
     "metadata": {
      "needs_background": "light"
     },
     "output_type": "display_data"
    }
   ],
   "source": [
    "fig, ax = plt.subplots()\n",
    "centers_ordered_by_test_types['nb of test types'].hist(range=(0.5, 3.5), bins=9);\n",
    "ax.set_title(\"Number of test types delivered per center\", fontsize=18);\n",
    "ax.set_xlabel(\"Number of test types\");\n",
    "ax.set_xticks([1, 2, 3]);\n",
    "ax.set_ylabel(\"Frequency\");\n",
    "ax.grid();"
   ]
  },
  {
   "cell_type": "markdown",
   "metadata": {},
   "source": [
    "### Order centers by number of records\n",
    "\n",
    "We can sort the centers by the number of records:"
   ]
  },
  {
   "cell_type": "code",
   "execution_count": 16,
   "metadata": {},
   "outputs": [
    {
     "data": {
      "text/html": [
       "<div>\n",
       "<style scoped>\n",
       "    .dataframe tbody tr th:only-of-type {\n",
       "        vertical-align: middle;\n",
       "    }\n",
       "\n",
       "    .dataframe tbody tr th {\n",
       "        vertical-align: top;\n",
       "    }\n",
       "\n",
       "    .dataframe thead th {\n",
       "        text-align: right;\n",
       "    }\n",
       "</style>\n",
       "<table border=\"1\" class=\"dataframe\">\n",
       "  <thead>\n",
       "    <tr style=\"text-align: right;\">\n",
       "      <th></th>\n",
       "      <th>nb of records</th>\n",
       "    </tr>\n",
       "    <tr>\n",
       "      <th>center id</th>\n",
       "      <th></th>\n",
       "    </tr>\n",
       "  </thead>\n",
       "  <tbody>\n",
       "    <tr>\n",
       "      <th>10254</th>\n",
       "      <td>25479</td>\n",
       "    </tr>\n",
       "    <tr>\n",
       "      <th>10336</th>\n",
       "      <td>32729</td>\n",
       "    </tr>\n",
       "    <tr>\n",
       "      <th>10299</th>\n",
       "      <td>34530</td>\n",
       "    </tr>\n",
       "    <tr>\n",
       "      <th>10294</th>\n",
       "      <td>40068</td>\n",
       "    </tr>\n",
       "    <tr>\n",
       "      <th>10301</th>\n",
       "      <td>49209</td>\n",
       "    </tr>\n",
       "    <tr>\n",
       "      <th>10138</th>\n",
       "      <td>118360</td>\n",
       "    </tr>\n",
       "    <tr>\n",
       "      <th>10263</th>\n",
       "      <td>157930</td>\n",
       "    </tr>\n",
       "    <tr>\n",
       "      <th>10341</th>\n",
       "      <td>179054</td>\n",
       "    </tr>\n",
       "    <tr>\n",
       "      <th>10449</th>\n",
       "      <td>212447</td>\n",
       "    </tr>\n",
       "    <tr>\n",
       "      <th>10137</th>\n",
       "      <td>249141</td>\n",
       "    </tr>\n",
       "    <tr>\n",
       "      <th>10352</th>\n",
       "      <td>275392</td>\n",
       "    </tr>\n",
       "    <tr>\n",
       "      <th>10250</th>\n",
       "      <td>310930</td>\n",
       "    </tr>\n",
       "    <tr>\n",
       "      <th>10207</th>\n",
       "      <td>380060</td>\n",
       "    </tr>\n",
       "    <tr>\n",
       "      <th>10244</th>\n",
       "      <td>392522</td>\n",
       "    </tr>\n",
       "    <tr>\n",
       "      <th>10266</th>\n",
       "      <td>448616</td>\n",
       "    </tr>\n",
       "    <tr>\n",
       "      <th>10188</th>\n",
       "      <td>542420</td>\n",
       "    </tr>\n",
       "    <tr>\n",
       "      <th>10136</th>\n",
       "      <td>733797</td>\n",
       "    </tr>\n",
       "    <tr>\n",
       "      <th>10243</th>\n",
       "      <td>934375</td>\n",
       "    </tr>\n",
       "  </tbody>\n",
       "</table>\n",
       "</div>"
      ],
      "text/plain": [
       "           nb of records\n",
       "center id               \n",
       "10254              25479\n",
       "10336              32729\n",
       "10299              34530\n",
       "10294              40068\n",
       "10301              49209\n",
       "10138             118360\n",
       "10263             157930\n",
       "10341             179054\n",
       "10449             212447\n",
       "10137             249141\n",
       "10352             275392\n",
       "10250             310930\n",
       "10207             380060\n",
       "10244             392522\n",
       "10266             448616\n",
       "10188             542420\n",
       "10136             733797\n",
       "10243             934375"
      ]
     },
     "execution_count": 16,
     "metadata": {},
     "output_type": "execute_result"
    }
   ],
   "source": [
    "centers_ordered_by_records = schedule.groupby('id')['test'].count().reset_index().sort_values(\n",
    "    ['test', 'id']).rename(\n",
    "    index=str, columns={'id': 'center id', 'test': 'nb of records'}\n",
    ").set_index(\"center id\")\n",
    "centers_ordered_by_records"
   ]
  },
  {
   "cell_type": "code",
   "execution_count": 17,
   "metadata": {},
   "outputs": [
    {
     "data": {
      "image/png": "[encoded data removed]",
      "text/plain": [
       "<Figure size 1152x432 with 1 Axes>"
      ]
     },
     "metadata": {
      "needs_background": "light"
     },
     "output_type": "display_data"
    }
   ],
   "source": [
    "fig, ax = plt.subplots(figsize=(16, 6))\n",
    "centers_ordered_by_records['nb of records'].hist(ax=ax, range=(0, 1*1e6), bins=80);\n",
    "ax.set_title(\"Number of records per center\", fontsize=18);\n",
    "ax.set_xlabel(\"Number of records\");\n",
    "ax.set_xticklabels([\"{0}K\".format(int(x//1e3)) for x in ax.get_xticks()])\n",
    "ax.set_ylabel(\"Frequency\");\n",
    "ax.set_yticks(range(5))\n",
    "ax.grid();\n",
    "#plt.savefig(\"number-of-records-per-center-distribution.png\")"
   ]
  },
  {
   "cell_type": "markdown",
   "metadata": {},
   "source": [
    "We can combine these two in a new dataframe:"
   ]
  },
  {
   "cell_type": "code",
   "execution_count": 18,
   "metadata": {
    "scrolled": true
   },
   "outputs": [
    {
     "data": {
      "text/html": [
       "<div>\n",
       "<style scoped>\n",
       "    .dataframe tbody tr th:only-of-type {\n",
       "        vertical-align: middle;\n",
       "    }\n",
       "\n",
       "    .dataframe tbody tr th {\n",
       "        vertical-align: top;\n",
       "    }\n",
       "\n",
       "    .dataframe thead th {\n",
       "        text-align: right;\n",
       "    }\n",
       "</style>\n",
       "<table border=\"1\" class=\"dataframe\">\n",
       "  <thead>\n",
       "    <tr style=\"text-align: right;\">\n",
       "      <th></th>\n",
       "      <th>nb of test types</th>\n",
       "      <th>nb of records</th>\n",
       "    </tr>\n",
       "    <tr>\n",
       "      <th>center id</th>\n",
       "      <th></th>\n",
       "      <th></th>\n",
       "    </tr>\n",
       "  </thead>\n",
       "  <tbody>\n",
       "    <tr>\n",
       "      <th>10254</th>\n",
       "      <td>1</td>\n",
       "      <td>25479</td>\n",
       "    </tr>\n",
       "    <tr>\n",
       "      <th>10336</th>\n",
       "      <td>1</td>\n",
       "      <td>32729</td>\n",
       "    </tr>\n",
       "    <tr>\n",
       "      <th>10299</th>\n",
       "      <td>1</td>\n",
       "      <td>34530</td>\n",
       "    </tr>\n",
       "    <tr>\n",
       "      <th>10294</th>\n",
       "      <td>1</td>\n",
       "      <td>40068</td>\n",
       "    </tr>\n",
       "    <tr>\n",
       "      <th>10301</th>\n",
       "      <td>1</td>\n",
       "      <td>49209</td>\n",
       "    </tr>\n",
       "    <tr>\n",
       "      <th>10138</th>\n",
       "      <td>1</td>\n",
       "      <td>118360</td>\n",
       "    </tr>\n",
       "    <tr>\n",
       "      <th>10341</th>\n",
       "      <td>1</td>\n",
       "      <td>179054</td>\n",
       "    </tr>\n",
       "    <tr>\n",
       "      <th>10449</th>\n",
       "      <td>1</td>\n",
       "      <td>212447</td>\n",
       "    </tr>\n",
       "    <tr>\n",
       "      <th>10137</th>\n",
       "      <td>1</td>\n",
       "      <td>249141</td>\n",
       "    </tr>\n",
       "    <tr>\n",
       "      <th>10207</th>\n",
       "      <td>1</td>\n",
       "      <td>380060</td>\n",
       "    </tr>\n",
       "    <tr>\n",
       "      <th>10263</th>\n",
       "      <td>2</td>\n",
       "      <td>157930</td>\n",
       "    </tr>\n",
       "    <tr>\n",
       "      <th>10352</th>\n",
       "      <td>2</td>\n",
       "      <td>275392</td>\n",
       "    </tr>\n",
       "    <tr>\n",
       "      <th>10250</th>\n",
       "      <td>2</td>\n",
       "      <td>310930</td>\n",
       "    </tr>\n",
       "    <tr>\n",
       "      <th>10244</th>\n",
       "      <td>2</td>\n",
       "      <td>392522</td>\n",
       "    </tr>\n",
       "    <tr>\n",
       "      <th>10266</th>\n",
       "      <td>2</td>\n",
       "      <td>448616</td>\n",
       "    </tr>\n",
       "    <tr>\n",
       "      <th>10188</th>\n",
       "      <td>2</td>\n",
       "      <td>542420</td>\n",
       "    </tr>\n",
       "    <tr>\n",
       "      <th>10243</th>\n",
       "      <td>2</td>\n",
       "      <td>934375</td>\n",
       "    </tr>\n",
       "    <tr>\n",
       "      <th>10136</th>\n",
       "      <td>3</td>\n",
       "      <td>733797</td>\n",
       "    </tr>\n",
       "  </tbody>\n",
       "</table>\n",
       "</div>"
      ],
      "text/plain": [
       "           nb of test types  nb of records\n",
       "center id                                 \n",
       "10254                     1          25479\n",
       "10336                     1          32729\n",
       "10299                     1          34530\n",
       "10294                     1          40068\n",
       "10301                     1          49209\n",
       "10138                     1         118360\n",
       "10341                     1         179054\n",
       "10449                     1         212447\n",
       "10137                     1         249141\n",
       "10207                     1         380060\n",
       "10263                     2         157930\n",
       "10352                     2         275392\n",
       "10250                     2         310930\n",
       "10244                     2         392522\n",
       "10266                     2         448616\n",
       "10188                     2         542420\n",
       "10243                     2         934375\n",
       "10136                     3         733797"
      ]
     },
     "execution_count": 18,
     "metadata": {},
     "output_type": "execute_result"
    }
   ],
   "source": [
    "grouped_cid = schedule.groupby('id')\n",
    "df1 = grouped_cid['test'].nunique().reset_index()\n",
    "df1['count'] = grouped_cid['test'].count().reset_index()['test']\n",
    "\n",
    "df1.sort_values(by=['test', 'count']).rename(\n",
    "    index=str, columns={'id': 'center id', 'test': 'nb of test types', 'count': 'nb of records'}\n",
    ").set_index(\"center id\")"
   ]
  },
  {
   "cell_type": "code",
   "execution_count": 19,
   "metadata": {},
   "outputs": [
    {
     "name": "stdout",
     "output_type": "stream",
     "text": [
      "<class 'pandas.core.frame.DataFrame'>\n",
      "Index: 5117059 entries, 0 to 5117058\n",
      "Data columns (total 4 columns):\n",
      "id             int64\n",
      "test           object\n",
      "grab           datetime64[ns, Europe/London]\n",
      "appointment    datetime64[ns, Europe/London]\n",
      "dtypes: datetime64[ns, Europe/London](2), int64(1), object(1)\n",
      "memory usage: 355.2+ MB\n"
     ]
    }
   ],
   "source": [
    "schedule.info()"
   ]
  },
  {
   "cell_type": "code",
   "execution_count": null,
   "metadata": {},
   "outputs": [],
   "source": []
  },
  {
   "cell_type": "markdown",
   "metadata": {},
   "source": [
    "---\n",
    "## Times the appointments go online\n",
    "\n",
    "The next figure gives a graphical representation of the data for a specific center and test type.  "
   ]
  },
  {
   "cell_type": "code",
   "execution_count": 20,
   "metadata": {},
   "outputs": [
    {
     "data": {
      "image/png": "[encoded data removed]",
      "text/plain": [
       "<Figure size 1152x432 with 1 Axes>"
      ]
     },
     "metadata": {
      "needs_background": "light"
     },
     "output_type": "display_data"
    }
   ],
   "source": [
    "cid = 10188\n",
    "test_type = 'Blood Test'\n",
    "s0 = schedule.loc[(schedule['id'] == cid) & (schedule['test'] == test_type), ['id', 'test', 'appointment', 'grab']]\n",
    "fig, ax = plt.subplots(figsize=(16, 6));\n",
    "ax.plot(s0['appointment'], s0['grab'], **{'marker': '.', 'markersize': 3, \"linestyle\": \"\"});\n",
    "ax.grid();\n",
    "ax.set_title('Available appointments for center {0},  type \"{1}\"'.format(cid, test_type), fontsize=18);\n",
    "ax.set_xlabel(\"Appointment time\", fontsize=14);\n",
    "ax.set_ylabel(\"Time of visit\", fontsize=14);"
   ]
  },
  {
   "cell_type": "markdown",
   "metadata": {},
   "source": [
    "Not all appointments in the future are accessible online at all times.  In this section of the notebook we will investigate how many days the appointments are posted ahead of time across all centers and test types.  \n",
    "\n",
    "### Main questions\n",
    "\n",
    "1. Do all appointments on a new day go online at the same time?\n",
    "1. If so, how many days ahead, and at what time?\n",
    "1. Do all test centers follow the same rule?\n",
    "\n",
    "### Data collection period spans 24 hours. \n",
    "The dataset that is used in this notebook is relatively small and correponds to data collected over a period of roughly 24 hours.  This remark will be important when we investigate when the appointments go online and when we compute the timestamps of `first appearance`.  \n",
    "\n",
    "### Timestamps of `first appearance`\n",
    "We calculate the timestamps of `first appearance`, that is, the `grab` timestamp when an `appointment` first appears in `schedule`.  Except for the very first results, this should indicate when the `appointment` first appeared online.  \n",
    "\n",
    "(Remark: the `groupby` method performs type conversion, and in order to avoid errors when converting back to timezone aware datetime objects, it is safer to convert timestamps to the UTC standard.)"
   ]
  },
  {
   "cell_type": "code",
   "execution_count": 21,
   "metadata": {},
   "outputs": [
    {
     "name": "stdout",
     "output_type": "stream",
     "text": [
      "<class 'pandas.core.frame.DataFrame'>\n",
      "RangeIndex: 54780 entries, 0 to 54779\n",
      "Data columns (total 4 columns):\n",
      "id                  54780 non-null int64\n",
      "test                54780 non-null object\n",
      "appointment         54780 non-null datetime64[ns, Europe/London]\n",
      "first appearance    54780 non-null datetime64[ns, Europe/London]\n",
      "dtypes: datetime64[ns, Europe/London](2), int64(1), object(1)\n",
      "memory usage: 1.7+ MB\n"
     ]
    }
   ],
   "source": [
    "first_appearance = schedule.copy()\n",
    "first_appearance['appointment'] = first_appearance['appointment'].apply(\n",
    "    lambda ts: ts.tz_convert(tz_utc)\n",
    ")\n",
    "\n",
    "first_appearance = first_appearance.groupby(\n",
    "    ['id', 'test', 'appointment']\n",
    ")[['grab']].min()\n",
    "first_appearance.rename(\n",
    "    index=str,\n",
    "    columns={'grab': 'first appearance'},\n",
    "    inplace=True\n",
    ")\n",
    "\n",
    "\n",
    "first_appearance.reset_index(inplace=True)\n",
    "first_appearance['appointment'] = pd.to_datetime(\n",
    "    first_appearance['appointment']\n",
    ")\n",
    "first_appearance['appointment'] = \\\n",
    "    first_appearance['appointment'].apply(\n",
    "        lambda ts: ts.tz_localize(tz_utc).tz_convert(tz_london)\n",
    "    )\n",
    "first_appearance['id'] = first_appearance['id'].astype(int)\n",
    "\n",
    "first_appearance.info()"
   ]
  },
  {
   "cell_type": "code",
   "execution_count": null,
   "metadata": {},
   "outputs": [],
   "source": []
  },
  {
   "cell_type": "markdown",
   "metadata": {},
   "source": [
    "We add three columns, where the `open window` column records the number of days the `first appearance` occurs before the `appointment date`:"
   ]
  },
  {
   "cell_type": "code",
   "execution_count": 22,
   "metadata": {},
   "outputs": [
    {
     "data": {
      "text/html": [
       "<div>\n",
       "<style scoped>\n",
       "    .dataframe tbody tr th:only-of-type {\n",
       "        vertical-align: middle;\n",
       "    }\n",
       "\n",
       "    .dataframe tbody tr th {\n",
       "        vertical-align: top;\n",
       "    }\n",
       "\n",
       "    .dataframe thead th {\n",
       "        text-align: right;\n",
       "    }\n",
       "</style>\n",
       "<table border=\"1\" class=\"dataframe\">\n",
       "  <thead>\n",
       "    <tr style=\"text-align: right;\">\n",
       "      <th></th>\n",
       "      <th>id</th>\n",
       "      <th>test</th>\n",
       "      <th>appointment</th>\n",
       "      <th>first appearance</th>\n",
       "      <th>appointment date</th>\n",
       "      <th>first appearance date</th>\n",
       "      <th>open window</th>\n",
       "    </tr>\n",
       "  </thead>\n",
       "  <tbody>\n",
       "    <tr>\n",
       "      <th>0</th>\n",
       "      <td>10136</td>\n",
       "      <td>Fasting Bloods</td>\n",
       "      <td>2019-01-17 07:20:00+00:00</td>\n",
       "      <td>2019-01-15 13:40:00+00:00</td>\n",
       "      <td>2019-01-17</td>\n",
       "      <td>2019-01-15</td>\n",
       "      <td>2 days</td>\n",
       "    </tr>\n",
       "    <tr>\n",
       "      <th>1</th>\n",
       "      <td>10136</td>\n",
       "      <td>Fasting Bloods</td>\n",
       "      <td>2019-01-17 07:25:00+00:00</td>\n",
       "      <td>2019-01-15 13:40:00+00:00</td>\n",
       "      <td>2019-01-17</td>\n",
       "      <td>2019-01-15</td>\n",
       "      <td>2 days</td>\n",
       "    </tr>\n",
       "    <tr>\n",
       "      <th>2</th>\n",
       "      <td>10136</td>\n",
       "      <td>Fasting Bloods</td>\n",
       "      <td>2019-01-17 07:30:00+00:00</td>\n",
       "      <td>2019-01-15 13:40:00+00:00</td>\n",
       "      <td>2019-01-17</td>\n",
       "      <td>2019-01-15</td>\n",
       "      <td>2 days</td>\n",
       "    </tr>\n",
       "    <tr>\n",
       "      <th>3</th>\n",
       "      <td>10136</td>\n",
       "      <td>Fasting Bloods</td>\n",
       "      <td>2019-01-17 07:35:00+00:00</td>\n",
       "      <td>2019-01-15 13:40:00+00:00</td>\n",
       "      <td>2019-01-17</td>\n",
       "      <td>2019-01-15</td>\n",
       "      <td>2 days</td>\n",
       "    </tr>\n",
       "    <tr>\n",
       "      <th>4</th>\n",
       "      <td>10136</td>\n",
       "      <td>Fasting Bloods</td>\n",
       "      <td>2019-01-17 07:40:00+00:00</td>\n",
       "      <td>2019-01-15 13:40:00+00:00</td>\n",
       "      <td>2019-01-17</td>\n",
       "      <td>2019-01-15</td>\n",
       "      <td>2 days</td>\n",
       "    </tr>\n",
       "  </tbody>\n",
       "</table>\n",
       "</div>"
      ],
      "text/plain": [
       "      id            test               appointment          first appearance  \\\n",
       "0  10136  Fasting Bloods 2019-01-17 07:20:00+00:00 2019-01-15 13:40:00+00:00   \n",
       "1  10136  Fasting Bloods 2019-01-17 07:25:00+00:00 2019-01-15 13:40:00+00:00   \n",
       "2  10136  Fasting Bloods 2019-01-17 07:30:00+00:00 2019-01-15 13:40:00+00:00   \n",
       "3  10136  Fasting Bloods 2019-01-17 07:35:00+00:00 2019-01-15 13:40:00+00:00   \n",
       "4  10136  Fasting Bloods 2019-01-17 07:40:00+00:00 2019-01-15 13:40:00+00:00   \n",
       "\n",
       "  appointment date first appearance date open window  \n",
       "0       2019-01-17            2019-01-15      2 days  \n",
       "1       2019-01-17            2019-01-15      2 days  \n",
       "2       2019-01-17            2019-01-15      2 days  \n",
       "3       2019-01-17            2019-01-15      2 days  \n",
       "4       2019-01-17            2019-01-15      2 days  "
      ]
     },
     "execution_count": 22,
     "metadata": {},
     "output_type": "execute_result"
    }
   ],
   "source": [
    "first_appearance['appointment date'] = first_appearance['appointment'].apply(\n",
    "    lambda ts: ts.date()\n",
    ")\n",
    "first_appearance['first appearance date'] = first_appearance['first appearance'].apply(\n",
    "    lambda ts: ts.date()\n",
    ")\n",
    "first_appearance['open window'] = first_appearance['appointment date'] - first_appearance['first appearance date']\n",
    "first_appearance.head()"
   ]
  },
  {
   "cell_type": "markdown",
   "metadata": {},
   "source": [
    "With it, we find that for most appointment *dates*, there is only one `first appearance` timestamp:"
   ]
  },
  {
   "cell_type": "code",
   "execution_count": 23,
   "metadata": {},
   "outputs": [
    {
     "data": {
      "text/html": [
       "<div>\n",
       "<style scoped>\n",
       "    .dataframe tbody tr th:only-of-type {\n",
       "        vertical-align: middle;\n",
       "    }\n",
       "\n",
       "    .dataframe tbody tr th {\n",
       "        vertical-align: top;\n",
       "    }\n",
       "\n",
       "    .dataframe thead th {\n",
       "        text-align: right;\n",
       "    }\n",
       "</style>\n",
       "<table border=\"1\" class=\"dataframe\">\n",
       "  <thead>\n",
       "    <tr style=\"text-align: right;\">\n",
       "      <th></th>\n",
       "      <th>nb of occurrences</th>\n",
       "    </tr>\n",
       "    <tr>\n",
       "      <th>nb of first appearance timestamps on a given day</th>\n",
       "      <th></th>\n",
       "    </tr>\n",
       "  </thead>\n",
       "  <tbody>\n",
       "    <tr>\n",
       "      <th>1</th>\n",
       "      <td>1354</td>\n",
       "    </tr>\n",
       "    <tr>\n",
       "      <th>2</th>\n",
       "      <td>19</td>\n",
       "    </tr>\n",
       "    <tr>\n",
       "      <th>3</th>\n",
       "      <td>4</td>\n",
       "    </tr>\n",
       "    <tr>\n",
       "      <th>4</th>\n",
       "      <td>3</td>\n",
       "    </tr>\n",
       "    <tr>\n",
       "      <th>8</th>\n",
       "      <td>2</td>\n",
       "    </tr>\n",
       "    <tr>\n",
       "      <th>9</th>\n",
       "      <td>1</td>\n",
       "    </tr>\n",
       "    <tr>\n",
       "      <th>5</th>\n",
       "      <td>1</td>\n",
       "    </tr>\n",
       "  </tbody>\n",
       "</table>\n",
       "</div>"
      ],
      "text/plain": [
       "                                                  nb of occurrences\n",
       "nb of first appearance timestamps on a given day                   \n",
       "1                                                              1354\n",
       "2                                                                19\n",
       "3                                                                 4\n",
       "4                                                                 3\n",
       "8                                                                 2\n",
       "9                                                                 1\n",
       "5                                                                 1"
      ]
     },
     "execution_count": 23,
     "metadata": {},
     "output_type": "execute_result"
    }
   ],
   "source": [
    "first_appearance.groupby(\n",
    "    ['id', 'test', 'appointment date'])['first appearance'].nunique(\n",
    ").to_frame(\n",
    ")['first appearance'].value_counts().to_frame().rename_axis(\n",
    "    \"nb of first appearance timestamps on a given day\"\n",
    ").rename(index=str, columns={\"first appearance\": \"nb of occurrences\"})"
   ]
  },
  {
   "cell_type": "markdown",
   "metadata": {},
   "source": [
    "In fact, given the size the dataframe `first_appearance`, there are few distinct `first appearance` timestamps (keeping in mind that the data collection period is roughly 24 hours):"
   ]
  },
  {
   "cell_type": "code",
   "execution_count": 24,
   "metadata": {},
   "outputs": [
    {
     "data": {
      "text/plain": [
       "36"
      ]
     },
     "execution_count": 24,
     "metadata": {},
     "output_type": "execute_result"
    }
   ],
   "source": [
    "first_appearance['first appearance'].nunique()"
   ]
  },
  {
   "cell_type": "markdown",
   "metadata": {},
   "source": [
    "Let's look at the top 5 most occurring `first appearance` timestamps:"
   ]
  },
  {
   "cell_type": "code",
   "execution_count": 25,
   "metadata": {},
   "outputs": [
    {
     "data": {
      "text/html": [
       "<div>\n",
       "<style scoped>\n",
       "    .dataframe tbody tr th:only-of-type {\n",
       "        vertical-align: middle;\n",
       "    }\n",
       "\n",
       "    .dataframe tbody tr th {\n",
       "        vertical-align: top;\n",
       "    }\n",
       "\n",
       "    .dataframe thead th {\n",
       "        text-align: right;\n",
       "    }\n",
       "</style>\n",
       "<table border=\"1\" class=\"dataframe\">\n",
       "  <thead>\n",
       "    <tr style=\"text-align: right;\">\n",
       "      <th></th>\n",
       "      <th>nb of occurrences</th>\n",
       "    </tr>\n",
       "    <tr>\n",
       "      <th>first appearance timestamp</th>\n",
       "      <th></th>\n",
       "    </tr>\n",
       "  </thead>\n",
       "  <tbody>\n",
       "    <tr>\n",
       "      <th>2019-01-15 13:40:00+00:00</th>\n",
       "      <td>53761</td>\n",
       "    </tr>\n",
       "    <tr>\n",
       "      <th>2019-01-16 00:00:00+00:00</th>\n",
       "      <td>660</td>\n",
       "    </tr>\n",
       "    <tr>\n",
       "      <th>2019-01-15 14:50:00+00:00</th>\n",
       "      <td>288</td>\n",
       "    </tr>\n",
       "    <tr>\n",
       "      <th>2019-01-16 08:00:00+00:00</th>\n",
       "      <td>7</td>\n",
       "    </tr>\n",
       "    <tr>\n",
       "      <th>2019-01-16 09:50:00+00:00</th>\n",
       "      <td>6</td>\n",
       "    </tr>\n",
       "  </tbody>\n",
       "</table>\n",
       "</div>"
      ],
      "text/plain": [
       "                            nb of occurrences\n",
       "first appearance timestamp                   \n",
       "2019-01-15 13:40:00+00:00               53761\n",
       "2019-01-16 00:00:00+00:00                 660\n",
       "2019-01-15 14:50:00+00:00                 288\n",
       "2019-01-16 08:00:00+00:00                   7\n",
       "2019-01-16 09:50:00+00:00                   6"
      ]
     },
     "execution_count": 25,
     "metadata": {},
     "output_type": "execute_result"
    }
   ],
   "source": [
    "first_appearance['first appearance'].value_counts()[0:5].to_frame().rename_axis(\n",
    "\"first appearance timestamp\"\n",
    ").rename(index=str, columns={'first appearance': \"nb of occurrences\"})"
   ]
  },
  {
   "cell_type": "markdown",
   "metadata": {},
   "source": [
    "The most occurring timestamp corresponds to the first `grab` timestamp in the dataframe `schedule`:"
   ]
  },
  {
   "cell_type": "code",
   "execution_count": 26,
   "metadata": {},
   "outputs": [
    {
     "data": {
      "text/plain": [
       "Timestamp('2019-01-15 13:40:00+0000', tz='Europe/London')"
      ]
     },
     "execution_count": 26,
     "metadata": {},
     "output_type": "execute_result"
    }
   ],
   "source": [
    "schedule['grab'].min()"
   ]
  },
  {
   "cell_type": "markdown",
   "metadata": {},
   "source": [
    "We will ignore this timestamp since it most likely is an artefact of the data collection having to start when the system is already in place.  \n",
    "\n",
    "Our next goal is to verify that all appointments on a new date (in a given test center and for a given test type) start to be available at the same time.\n",
    "\n",
    "### Classifying centers by `first appearance` timestamps\n",
    "We record the two most occurring `first appearance` timestamps:"
   ]
  },
  {
   "cell_type": "code",
   "execution_count": 27,
   "metadata": {},
   "outputs": [],
   "source": [
    "new_posting_timestamp_1 = first_appearance['first appearance'].value_counts().index[1]\n",
    "new_posting_timestamp_2 = first_appearance['first appearance'].value_counts().index[2]"
   ]
  },
  {
   "cell_type": "markdown",
   "metadata": {},
   "source": [
    "Next we look at the test centers with these `first appearance` values appearing in their data:\n",
    "\n",
    "These two timestamps split the centers into two disjoint subsets:"
   ]
  },
  {
   "cell_type": "code",
   "execution_count": 28,
   "metadata": {},
   "outputs": [
    {
     "data": {
      "text/html": [
       "<div>\n",
       "<style scoped>\n",
       "    .dataframe tbody tr th:only-of-type {\n",
       "        vertical-align: middle;\n",
       "    }\n",
       "\n",
       "    .dataframe tbody tr th {\n",
       "        vertical-align: top;\n",
       "    }\n",
       "\n",
       "    .dataframe thead th {\n",
       "        text-align: right;\n",
       "    }\n",
       "</style>\n",
       "<table border=\"1\" class=\"dataframe\">\n",
       "  <thead>\n",
       "    <tr style=\"text-align: right;\">\n",
       "      <th></th>\n",
       "      <th>id</th>\n",
       "    </tr>\n",
       "  </thead>\n",
       "  <tbody>\n",
       "  </tbody>\n",
       "</table>\n",
       "</div>"
      ],
      "text/plain": [
       "Empty DataFrame\n",
       "Columns: [id]\n",
       "Index: []"
      ]
     },
     "execution_count": 28,
     "metadata": {},
     "output_type": "execute_result"
    }
   ],
   "source": [
    "df_centers_1 = first_appearance[first_appearance['first appearance'] == new_posting_timestamp_1]['id'].drop_duplicates().to_frame().reset_index(drop=True)\n",
    "df_centers_2 = first_appearance[first_appearance['first appearance'] == new_posting_timestamp_2]['id'].drop_duplicates().to_frame().reset_index(drop=True)\n",
    "\n",
    "pd.merge(df_centers_1, df_centers_2, how='inner', on='id')"
   ]
  },
  {
   "cell_type": "markdown",
   "metadata": {},
   "source": [
    "The resulting dataframe is empty, showing that the two sets are disjoint."
   ]
  },
  {
   "cell_type": "markdown",
   "metadata": {},
   "source": [
    "### Appointments with most occurring `first appearance` timestamp"
   ]
  },
  {
   "cell_type": "markdown",
   "metadata": {},
   "source": [
    "The next most occuring `first appearance` timestamp falls at midnight:"
   ]
  },
  {
   "cell_type": "code",
   "execution_count": 29,
   "metadata": {},
   "outputs": [
    {
     "data": {
      "text/plain": [
       "Timestamp('2019-01-16 00:00:00+0000', tz='Europe/London')"
      ]
     },
     "execution_count": 29,
     "metadata": {},
     "output_type": "execute_result"
    }
   ],
   "source": [
    "new_posting_timestamp_1"
   ]
  },
  {
   "cell_type": "markdown",
   "metadata": {},
   "source": [
    "  This strongly suggests that all appointments on a new day go online at midnight a certain number of days ahead (which we will calculate later).  \n",
    "  \n",
    "We test this conjecture by looking at the dates of the appointments for which this is indeed the first appearance:"
   ]
  },
  {
   "cell_type": "code",
   "execution_count": 30,
   "metadata": {},
   "outputs": [
    {
     "data": {
      "text/html": [
       "<div>\n",
       "<style scoped>\n",
       "    .dataframe tbody tr th:only-of-type {\n",
       "        vertical-align: middle;\n",
       "    }\n",
       "\n",
       "    .dataframe tbody tr th {\n",
       "        vertical-align: top;\n",
       "    }\n",
       "\n",
       "    .dataframe thead th {\n",
       "        text-align: right;\n",
       "    }\n",
       "</style>\n",
       "<table border=\"1\" class=\"dataframe\">\n",
       "  <thead>\n",
       "    <tr style=\"text-align: right;\">\n",
       "      <th></th>\n",
       "      <th></th>\n",
       "      <th>appointment date</th>\n",
       "    </tr>\n",
       "    <tr>\n",
       "      <th>id</th>\n",
       "      <th>test</th>\n",
       "      <th></th>\n",
       "    </tr>\n",
       "  </thead>\n",
       "  <tbody>\n",
       "    <tr>\n",
       "      <th rowspan=\"2\" valign=\"top\">10188</th>\n",
       "      <th>Blood Test</th>\n",
       "      <td>[2019-01-16, 2019-03-09]</td>\n",
       "    </tr>\n",
       "    <tr>\n",
       "      <th>INR Test</th>\n",
       "      <td>[2019-01-16, 2019-03-20]</td>\n",
       "    </tr>\n",
       "    <tr>\n",
       "      <th>10207</th>\n",
       "      <th>Blood Test</th>\n",
       "      <td>[2019-03-20]</td>\n",
       "    </tr>\n",
       "    <tr>\n",
       "      <th rowspan=\"2\" valign=\"top\">10243</th>\n",
       "      <th>Blood Test</th>\n",
       "      <td>[2019-05-21]</td>\n",
       "    </tr>\n",
       "    <tr>\n",
       "      <th>INR Test</th>\n",
       "      <td>[2019-05-21]</td>\n",
       "    </tr>\n",
       "    <tr>\n",
       "      <th rowspan=\"2\" valign=\"top\">10244</th>\n",
       "      <th>Blood Test</th>\n",
       "      <td>[2019-04-11]</td>\n",
       "    </tr>\n",
       "    <tr>\n",
       "      <th>INR Test</th>\n",
       "      <td>[2019-04-11]</td>\n",
       "    </tr>\n",
       "    <tr>\n",
       "      <th rowspan=\"2\" valign=\"top\">10250</th>\n",
       "      <th>Blood Test</th>\n",
       "      <td>[2019-04-10]</td>\n",
       "    </tr>\n",
       "    <tr>\n",
       "      <th>INR Test</th>\n",
       "      <td>[2019-04-10]</td>\n",
       "    </tr>\n",
       "    <tr>\n",
       "      <th>10254</th>\n",
       "      <th>Blood Test</th>\n",
       "      <td>[2019-03-20]</td>\n",
       "    </tr>\n",
       "    <tr>\n",
       "      <th>10263</th>\n",
       "      <th>Blood Test</th>\n",
       "      <td>[2019-03-11]</td>\n",
       "    </tr>\n",
       "    <tr>\n",
       "      <th rowspan=\"2\" valign=\"top\">10266</th>\n",
       "      <th>Blood Test</th>\n",
       "      <td>[2019-04-11]</td>\n",
       "    </tr>\n",
       "    <tr>\n",
       "      <th>INR Test</th>\n",
       "      <td>[2019-04-11]</td>\n",
       "    </tr>\n",
       "    <tr>\n",
       "      <th>10299</th>\n",
       "      <th>Glucose Tolerance Test</th>\n",
       "      <td>[2019-05-21]</td>\n",
       "    </tr>\n",
       "    <tr>\n",
       "      <th>10301</th>\n",
       "      <th>Blood Test</th>\n",
       "      <td>[2019-03-20]</td>\n",
       "    </tr>\n",
       "    <tr>\n",
       "      <th rowspan=\"2\" valign=\"top\">10352</th>\n",
       "      <th>Blood Test</th>\n",
       "      <td>[2019-04-11]</td>\n",
       "    </tr>\n",
       "    <tr>\n",
       "      <th>INR Test</th>\n",
       "      <td>[2019-04-11]</td>\n",
       "    </tr>\n",
       "    <tr>\n",
       "      <th>10449</th>\n",
       "      <th>Blood Test</th>\n",
       "      <td>[2019-04-11]</td>\n",
       "    </tr>\n",
       "  </tbody>\n",
       "</table>\n",
       "</div>"
      ],
      "text/plain": [
       "                                      appointment date\n",
       "id    test                                            \n",
       "10188 Blood Test              [2019-01-16, 2019-03-09]\n",
       "      INR Test                [2019-01-16, 2019-03-20]\n",
       "10207 Blood Test                          [2019-03-20]\n",
       "10243 Blood Test                          [2019-05-21]\n",
       "      INR Test                            [2019-05-21]\n",
       "10244 Blood Test                          [2019-04-11]\n",
       "      INR Test                            [2019-04-11]\n",
       "10250 Blood Test                          [2019-04-10]\n",
       "      INR Test                            [2019-04-10]\n",
       "10254 Blood Test                          [2019-03-20]\n",
       "10263 Blood Test                          [2019-03-11]\n",
       "10266 Blood Test                          [2019-04-11]\n",
       "      INR Test                            [2019-04-11]\n",
       "10299 Glucose Tolerance Test              [2019-05-21]\n",
       "10301 Blood Test                          [2019-03-20]\n",
       "10352 Blood Test                          [2019-04-11]\n",
       "      INR Test                            [2019-04-11]\n",
       "10449 Blood Test                          [2019-04-11]"
      ]
     },
     "execution_count": 30,
     "metadata": {},
     "output_type": "execute_result"
    }
   ],
   "source": [
    "first_appearance[first_appearance['first appearance'] == new_posting_timestamp_1].groupby(\n",
    "    ['id', 'test']\n",
    ")['appointment date'].unique().to_frame()"
   ]
  },
  {
   "cell_type": "markdown",
   "metadata": {},
   "source": [
    "A majority of the test centers (12 out of 18) appear in this table.\n",
    "If we discard the appointments with a date `2019-01-16` (which occurs soon after the start of data collection), all appointments in this table with a `first appearance` timestamp of `2019-01-16 00:00:00` are on the same day (taking each test center and test type individually).  We should keep in mind that the data collection spanned a period of 24 hours.  \n",
    "\n",
    "This table also shows that the different test centers choose to open their appointments with a different number of days ahead of time.  \n",
    "\n",
    "On the other hand, again ignoring the `appointment` date of `2019-01-16`, all test centers, except center `10188`, choose to open their appointments for all test types at the same time.  This follows directly by inspection, or programmatically with:"
   ]
  },
  {
   "cell_type": "code",
   "execution_count": 31,
   "metadata": {},
   "outputs": [
    {
     "data": {
      "text/html": [
       "<div>\n",
       "<style scoped>\n",
       "    .dataframe tbody tr th:only-of-type {\n",
       "        vertical-align: middle;\n",
       "    }\n",
       "\n",
       "    .dataframe tbody tr th {\n",
       "        vertical-align: top;\n",
       "    }\n",
       "\n",
       "    .dataframe thead th {\n",
       "        text-align: right;\n",
       "    }\n",
       "</style>\n",
       "<table border=\"1\" class=\"dataframe\">\n",
       "  <thead>\n",
       "    <tr style=\"text-align: right;\">\n",
       "      <th></th>\n",
       "      <th>appointment date</th>\n",
       "    </tr>\n",
       "    <tr>\n",
       "      <th>id</th>\n",
       "      <th></th>\n",
       "    </tr>\n",
       "  </thead>\n",
       "  <tbody>\n",
       "    <tr>\n",
       "      <th>10188</th>\n",
       "      <td>[2019-01-16, 2019-03-09, 2019-03-20]</td>\n",
       "    </tr>\n",
       "    <tr>\n",
       "      <th>10207</th>\n",
       "      <td>[2019-03-20]</td>\n",
       "    </tr>\n",
       "    <tr>\n",
       "      <th>10243</th>\n",
       "      <td>[2019-05-21]</td>\n",
       "    </tr>\n",
       "    <tr>\n",
       "      <th>10244</th>\n",
       "      <td>[2019-04-11]</td>\n",
       "    </tr>\n",
       "    <tr>\n",
       "      <th>10250</th>\n",
       "      <td>[2019-04-10]</td>\n",
       "    </tr>\n",
       "    <tr>\n",
       "      <th>10254</th>\n",
       "      <td>[2019-03-20]</td>\n",
       "    </tr>\n",
       "    <tr>\n",
       "      <th>10263</th>\n",
       "      <td>[2019-03-11]</td>\n",
       "    </tr>\n",
       "    <tr>\n",
       "      <th>10266</th>\n",
       "      <td>[2019-04-11]</td>\n",
       "    </tr>\n",
       "    <tr>\n",
       "      <th>10299</th>\n",
       "      <td>[2019-05-21]</td>\n",
       "    </tr>\n",
       "    <tr>\n",
       "      <th>10301</th>\n",
       "      <td>[2019-03-20]</td>\n",
       "    </tr>\n",
       "    <tr>\n",
       "      <th>10352</th>\n",
       "      <td>[2019-04-11]</td>\n",
       "    </tr>\n",
       "    <tr>\n",
       "      <th>10449</th>\n",
       "      <td>[2019-04-11]</td>\n",
       "    </tr>\n",
       "  </tbody>\n",
       "</table>\n",
       "</div>"
      ],
      "text/plain": [
       "                           appointment date\n",
       "id                                         \n",
       "10188  [2019-01-16, 2019-03-09, 2019-03-20]\n",
       "10207                          [2019-03-20]\n",
       "10243                          [2019-05-21]\n",
       "10244                          [2019-04-11]\n",
       "10250                          [2019-04-10]\n",
       "10254                          [2019-03-20]\n",
       "10263                          [2019-03-11]\n",
       "10266                          [2019-04-11]\n",
       "10299                          [2019-05-21]\n",
       "10301                          [2019-03-20]\n",
       "10352                          [2019-04-11]\n",
       "10449                          [2019-04-11]"
      ]
     },
     "execution_count": 31,
     "metadata": {},
     "output_type": "execute_result"
    }
   ],
   "source": [
    "first_appearance[first_appearance['first appearance'] == new_posting_timestamp_1].groupby(\n",
    "    ['id'])['appointment date'].unique().to_frame()"
   ]
  },
  {
   "cell_type": "markdown",
   "metadata": {},
   "source": [
    "Let's look at the number of days the appointments are put online ahead of time."
   ]
  },
  {
   "cell_type": "code",
   "execution_count": 32,
   "metadata": {},
   "outputs": [
    {
     "data": {
      "text/html": [
       "<div>\n",
       "<style scoped>\n",
       "    .dataframe tbody tr th:only-of-type {\n",
       "        vertical-align: middle;\n",
       "    }\n",
       "\n",
       "    .dataframe tbody tr th {\n",
       "        vertical-align: top;\n",
       "    }\n",
       "\n",
       "    .dataframe thead th {\n",
       "        text-align: right;\n",
       "    }\n",
       "</style>\n",
       "<table border=\"1\" class=\"dataframe\">\n",
       "  <thead>\n",
       "    <tr style=\"text-align: right;\">\n",
       "      <th></th>\n",
       "      <th></th>\n",
       "      <th>open window</th>\n",
       "    </tr>\n",
       "    <tr>\n",
       "      <th>id</th>\n",
       "      <th>test</th>\n",
       "      <th></th>\n",
       "    </tr>\n",
       "  </thead>\n",
       "  <tbody>\n",
       "    <tr>\n",
       "      <th rowspan=\"2\" valign=\"top\">10188</th>\n",
       "      <th>Blood Test</th>\n",
       "      <td>52 days</td>\n",
       "    </tr>\n",
       "    <tr>\n",
       "      <th>INR Test</th>\n",
       "      <td>63 days</td>\n",
       "    </tr>\n",
       "    <tr>\n",
       "      <th>10207</th>\n",
       "      <th>Blood Test</th>\n",
       "      <td>63 days</td>\n",
       "    </tr>\n",
       "    <tr>\n",
       "      <th rowspan=\"2\" valign=\"top\">10243</th>\n",
       "      <th>Blood Test</th>\n",
       "      <td>125 days</td>\n",
       "    </tr>\n",
       "    <tr>\n",
       "      <th>INR Test</th>\n",
       "      <td>125 days</td>\n",
       "    </tr>\n",
       "    <tr>\n",
       "      <th rowspan=\"2\" valign=\"top\">10244</th>\n",
       "      <th>Blood Test</th>\n",
       "      <td>85 days</td>\n",
       "    </tr>\n",
       "    <tr>\n",
       "      <th>INR Test</th>\n",
       "      <td>85 days</td>\n",
       "    </tr>\n",
       "    <tr>\n",
       "      <th rowspan=\"2\" valign=\"top\">10250</th>\n",
       "      <th>Blood Test</th>\n",
       "      <td>84 days</td>\n",
       "    </tr>\n",
       "    <tr>\n",
       "      <th>INR Test</th>\n",
       "      <td>84 days</td>\n",
       "    </tr>\n",
       "    <tr>\n",
       "      <th>10254</th>\n",
       "      <th>Blood Test</th>\n",
       "      <td>63 days</td>\n",
       "    </tr>\n",
       "    <tr>\n",
       "      <th>10263</th>\n",
       "      <th>Blood Test</th>\n",
       "      <td>54 days</td>\n",
       "    </tr>\n",
       "    <tr>\n",
       "      <th rowspan=\"2\" valign=\"top\">10266</th>\n",
       "      <th>Blood Test</th>\n",
       "      <td>85 days</td>\n",
       "    </tr>\n",
       "    <tr>\n",
       "      <th>INR Test</th>\n",
       "      <td>85 days</td>\n",
       "    </tr>\n",
       "    <tr>\n",
       "      <th>10299</th>\n",
       "      <th>Glucose Tolerance Test</th>\n",
       "      <td>125 days</td>\n",
       "    </tr>\n",
       "    <tr>\n",
       "      <th>10301</th>\n",
       "      <th>Blood Test</th>\n",
       "      <td>63 days</td>\n",
       "    </tr>\n",
       "    <tr>\n",
       "      <th rowspan=\"2\" valign=\"top\">10352</th>\n",
       "      <th>Blood Test</th>\n",
       "      <td>85 days</td>\n",
       "    </tr>\n",
       "    <tr>\n",
       "      <th>INR Test</th>\n",
       "      <td>85 days</td>\n",
       "    </tr>\n",
       "    <tr>\n",
       "      <th>10449</th>\n",
       "      <th>Blood Test</th>\n",
       "      <td>85 days</td>\n",
       "    </tr>\n",
       "  </tbody>\n",
       "</table>\n",
       "</div>"
      ],
      "text/plain": [
       "                             open window\n",
       "id    test                              \n",
       "10188 Blood Test                 52 days\n",
       "      INR Test                   63 days\n",
       "10207 Blood Test                 63 days\n",
       "10243 Blood Test                125 days\n",
       "      INR Test                  125 days\n",
       "10244 Blood Test                 85 days\n",
       "      INR Test                   85 days\n",
       "10250 Blood Test                 84 days\n",
       "      INR Test                   84 days\n",
       "10254 Blood Test                 63 days\n",
       "10263 Blood Test                 54 days\n",
       "10266 Blood Test                 85 days\n",
       "      INR Test                   85 days\n",
       "10299 Glucose Tolerance Test    125 days\n",
       "10301 Blood Test                 63 days\n",
       "10352 Blood Test                 85 days\n",
       "      INR Test                   85 days\n",
       "10449 Blood Test                 85 days"
      ]
     },
     "execution_count": 32,
     "metadata": {},
     "output_type": "execute_result"
    }
   ],
   "source": [
    "df_open_window_1 = first_appearance[first_appearance['first appearance'] == new_posting_timestamp_1].groupby(\n",
    "    ['id', 'test'])['open window'].unique().to_frame()['open window'].apply(\n",
    "    lambda ow: ow[-1]).to_frame()\n",
    "df_open_window_1"
   ]
  },
  {
   "cell_type": "code",
   "execution_count": 33,
   "metadata": {},
   "outputs": [
    {
     "data": {
      "image/png": "[encoded data removed]",
      "text/plain": [
       "<Figure size 1152x432 with 1 Axes>"
      ]
     },
     "metadata": {
      "needs_background": "light"
     },
     "output_type": "display_data"
    }
   ],
   "source": [
    "fig, ax = plt.subplots(figsize=(16, 6))\n",
    "df_open_window_1['open window'].apply(lambda dt: dt.days).astype(int).hist(bins=80, range=(0, 160), ax=ax);\n",
    "ax.set_title(\"Number of days appointments go online before date\", fontsize=20)\n",
    "ax.set_xlabel(\"Number of days\");\n",
    "ax.set_ylabel(\"Frequency\");"
   ]
  },
  {
   "cell_type": "markdown",
   "metadata": {},
   "source": [
    "### Appointments with next most occurring `first appearance` timestamp\n",
    "We now perform the same analysis for the next most occurring `first appearance` timestamp:"
   ]
  },
  {
   "cell_type": "code",
   "execution_count": 34,
   "metadata": {},
   "outputs": [
    {
     "data": {
      "text/plain": [
       "Timestamp('2019-01-15 14:50:00+0000', tz='Europe/London')"
      ]
     },
     "execution_count": 34,
     "metadata": {},
     "output_type": "execute_result"
    }
   ],
   "source": [
    "new_posting_timestamp_2"
   ]
  },
  {
   "cell_type": "markdown",
   "metadata": {},
   "source": [
    "The time of `14:50` is quite unusual.\n",
    "Remember that the data was collected at discrete times:"
   ]
  },
  {
   "cell_type": "code",
   "execution_count": 35,
   "metadata": {},
   "outputs": [
    {
     "data": {
      "text/plain": [
       "array([Timestamp('2019-01-15 14:40:00+0000', tz='Europe/London'),\n",
       "       Timestamp('2019-01-15 14:50:00+0000', tz='Europe/London'),\n",
       "       Timestamp('2019-01-15 15:00:00+0000', tz='Europe/London')],\n",
       "      dtype=object)"
      ]
     },
     "execution_count": 35,
     "metadata": {},
     "output_type": "execute_result"
    }
   ],
   "source": [
    "schedule['grab'].unique()[6:9]"
   ]
  },
  {
   "cell_type": "markdown",
   "metadata": {},
   "source": [
    "Thus, the corresponding appointments have been posted any time between `14:40` and `14:50`.\n",
    "\n",
    "As earlier, let's look at the appointment dates for which `new_posting_timestamp_2` is the `first appearance` timestamp:"
   ]
  },
  {
   "cell_type": "code",
   "execution_count": 36,
   "metadata": {},
   "outputs": [
    {
     "data": {
      "text/html": [
       "<div>\n",
       "<style scoped>\n",
       "    .dataframe tbody tr th:only-of-type {\n",
       "        vertical-align: middle;\n",
       "    }\n",
       "\n",
       "    .dataframe tbody tr th {\n",
       "        vertical-align: top;\n",
       "    }\n",
       "\n",
       "    .dataframe thead th {\n",
       "        text-align: right;\n",
       "    }\n",
       "</style>\n",
       "<table border=\"1\" class=\"dataframe\">\n",
       "  <thead>\n",
       "    <tr style=\"text-align: right;\">\n",
       "      <th></th>\n",
       "      <th></th>\n",
       "      <th>appointment date</th>\n",
       "    </tr>\n",
       "    <tr>\n",
       "      <th>id</th>\n",
       "      <th>test</th>\n",
       "      <th></th>\n",
       "    </tr>\n",
       "  </thead>\n",
       "  <tbody>\n",
       "    <tr>\n",
       "      <th rowspan=\"3\" valign=\"top\">10136</th>\n",
       "      <th>Fasting Bloods</th>\n",
       "      <td>[2019-03-20]</td>\n",
       "    </tr>\n",
       "    <tr>\n",
       "      <th>INR Test</th>\n",
       "      <td>[2019-01-16, 2019-04-04]</td>\n",
       "    </tr>\n",
       "    <tr>\n",
       "      <th>Non Fasting Bloods</th>\n",
       "      <td>[2019-01-16, 2019-03-20]</td>\n",
       "    </tr>\n",
       "    <tr>\n",
       "      <th>10137</th>\n",
       "      <th>Blood Test</th>\n",
       "      <td>[2019-05-03]</td>\n",
       "    </tr>\n",
       "    <tr>\n",
       "      <th>10138</th>\n",
       "      <th>Blood Test</th>\n",
       "      <td>[2019-03-21]</td>\n",
       "    </tr>\n",
       "    <tr>\n",
       "      <th>10294</th>\n",
       "      <th>Blood Test</th>\n",
       "      <td>[2019-03-20]</td>\n",
       "    </tr>\n",
       "    <tr>\n",
       "      <th>10341</th>\n",
       "      <th>Blood Test</th>\n",
       "      <td>[2019-05-02]</td>\n",
       "    </tr>\n",
       "  </tbody>\n",
       "</table>\n",
       "</div>"
      ],
      "text/plain": [
       "                                  appointment date\n",
       "id    test                                        \n",
       "10136 Fasting Bloods                  [2019-03-20]\n",
       "      INR Test            [2019-01-16, 2019-04-04]\n",
       "      Non Fasting Bloods  [2019-01-16, 2019-03-20]\n",
       "10137 Blood Test                      [2019-05-03]\n",
       "10138 Blood Test                      [2019-03-21]\n",
       "10294 Blood Test                      [2019-03-20]\n",
       "10341 Blood Test                      [2019-05-02]"
      ]
     },
     "execution_count": 36,
     "metadata": {},
     "output_type": "execute_result"
    }
   ],
   "source": [
    "first_appearance[first_appearance['first appearance'] == new_posting_timestamp_2].groupby(\n",
    "    ['id', 'test'])['appointment date'].unique().to_frame()"
   ]
  },
  {
   "cell_type": "markdown",
   "metadata": {},
   "source": [
    "We see that 5 out of the remaining 6 test centers appear in this table.\n",
    "Similar conclusions hold: ignoring the date of `2019-01-16`, for any given test center and test type, all appointments with a `first appearance` timestamp of `2019-01-15 14:50:00` occur on the same day.\n",
    "\n",
    "Let's look at the number of days the appointments are put online ahead of time:"
   ]
  },
  {
   "cell_type": "code",
   "execution_count": 37,
   "metadata": {},
   "outputs": [
    {
     "data": {
      "text/html": [
       "<div>\n",
       "<style scoped>\n",
       "    .dataframe tbody tr th:only-of-type {\n",
       "        vertical-align: middle;\n",
       "    }\n",
       "\n",
       "    .dataframe tbody tr th {\n",
       "        vertical-align: top;\n",
       "    }\n",
       "\n",
       "    .dataframe thead th {\n",
       "        text-align: right;\n",
       "    }\n",
       "</style>\n",
       "<table border=\"1\" class=\"dataframe\">\n",
       "  <thead>\n",
       "    <tr style=\"text-align: right;\">\n",
       "      <th></th>\n",
       "      <th></th>\n",
       "      <th>open window</th>\n",
       "    </tr>\n",
       "    <tr>\n",
       "      <th>id</th>\n",
       "      <th>test</th>\n",
       "      <th></th>\n",
       "    </tr>\n",
       "  </thead>\n",
       "  <tbody>\n",
       "    <tr>\n",
       "      <th rowspan=\"3\" valign=\"top\">10136</th>\n",
       "      <th>Fasting Bloods</th>\n",
       "      <td>64 days</td>\n",
       "    </tr>\n",
       "    <tr>\n",
       "      <th>INR Test</th>\n",
       "      <td>79 days</td>\n",
       "    </tr>\n",
       "    <tr>\n",
       "      <th>Non Fasting Bloods</th>\n",
       "      <td>64 days</td>\n",
       "    </tr>\n",
       "    <tr>\n",
       "      <th>10137</th>\n",
       "      <th>Blood Test</th>\n",
       "      <td>108 days</td>\n",
       "    </tr>\n",
       "    <tr>\n",
       "      <th>10138</th>\n",
       "      <th>Blood Test</th>\n",
       "      <td>65 days</td>\n",
       "    </tr>\n",
       "    <tr>\n",
       "      <th>10294</th>\n",
       "      <th>Blood Test</th>\n",
       "      <td>64 days</td>\n",
       "    </tr>\n",
       "    <tr>\n",
       "      <th>10341</th>\n",
       "      <th>Blood Test</th>\n",
       "      <td>107 days</td>\n",
       "    </tr>\n",
       "  </tbody>\n",
       "</table>\n",
       "</div>"
      ],
      "text/plain": [
       "                         open window\n",
       "id    test                          \n",
       "10136 Fasting Bloods         64 days\n",
       "      INR Test               79 days\n",
       "      Non Fasting Bloods     64 days\n",
       "10137 Blood Test            108 days\n",
       "10138 Blood Test             65 days\n",
       "10294 Blood Test             64 days\n",
       "10341 Blood Test            107 days"
      ]
     },
     "execution_count": 37,
     "metadata": {},
     "output_type": "execute_result"
    }
   ],
   "source": [
    "df_open_window_2 = first_appearance[first_appearance['first appearance'] == new_posting_timestamp_2].groupby(\n",
    "    ['id', 'test'])['open window'].unique().to_frame()['open window'].apply(\n",
    "    lambda ow: ow[-1]).to_frame()\n",
    "df_open_window_2"
   ]
  },
  {
   "cell_type": "code",
   "execution_count": 38,
   "metadata": {},
   "outputs": [
    {
     "data": {
      "image/png": "[encoded data removed]",
      "text/plain": [
       "<Figure size 1152x432 with 1 Axes>"
      ]
     },
     "metadata": {
      "needs_background": "light"
     },
     "output_type": "display_data"
    }
   ],
   "source": [
    "fig, ax = plt.subplots(figsize=(16, 6))\n",
    "df_open_window_2['open window'].apply(lambda dt: dt.days).astype(int).hist(bins=60, range=(0, 120), ax=ax);\n",
    "ax.set_title(\"Number of days appointments go online before date\", fontsize=20)\n",
    "ax.set_xlabel(\"Number of days\");\n",
    "ax.set_ylabel(\"Frequency\");"
   ]
  },
  {
   "cell_type": "markdown",
   "metadata": {},
   "source": [
    "We collect the two figures above into the one below:"
   ]
  },
  {
   "cell_type": "code",
   "execution_count": 39,
   "metadata": {},
   "outputs": [
    {
     "data": {
      "image/png": "[encoded data removed]",
      "text/plain": [
       "<Figure size 1152x432 with 1 Axes>"
      ]
     },
     "metadata": {
      "needs_background": "light"
     },
     "output_type": "display_data"
    }
   ],
   "source": [
    "fig, ax = plt.subplots(figsize=(16, 6))\n",
    "\n",
    "first_appearance[\n",
    "    (first_appearance['first appearance'] == new_posting_timestamp_1)\n",
    "    | (first_appearance['first appearance'] == new_posting_timestamp_2)].groupby(\n",
    "    ['id', 'test'])['open window'].unique().to_frame()['open window'].apply(\n",
    "    lambda ow: ow[-1]).to_frame()['open window'].apply(lambda dt: dt.days).astype(int).hist(bins=80, range=(0, 160), ax=ax);\n",
    "ax.set_title(\"Number of days appointments go online before date\", fontsize=20)\n",
    "ax.set_xlabel(\"Number of days\");\n",
    "ax.set_ylabel(\"Frequency\");\n",
    "# plt.savefig('online-posting-period-distribution.png')"
   ]
  },
  {
   "cell_type": "markdown",
   "metadata": {},
   "source": [
    "### The remaining test center\n",
    "Let's now find the remaining center:"
   ]
  },
  {
   "cell_type": "code",
   "execution_count": 40,
   "metadata": {},
   "outputs": [
    {
     "data": {
      "text/plain": [
       "10336"
      ]
     },
     "execution_count": 40,
     "metadata": {},
     "output_type": "execute_result"
    }
   ],
   "source": [
    "all_centers = set(schedule['id'].values)\n",
    "centers_1 = set(df_centers_1['id'])\n",
    "centers_2 = set(df_centers_2['id'])\n",
    "remaining_center = list(all_centers.difference(centers_1.union(centers_2)))[0]\n",
    "remaining_center"
   ]
  },
  {
   "cell_type": "markdown",
   "metadata": {},
   "source": [
    "Let's look at its data.  We already know that it delivers one test type:"
   ]
  },
  {
   "cell_type": "code",
   "execution_count": 41,
   "metadata": {},
   "outputs": [
    {
     "data": {
      "text/plain": [
       "['Blood Test']"
      ]
     },
     "execution_count": 41,
     "metadata": {},
     "output_type": "execute_result"
    }
   ],
   "source": [
    "list(schedule[schedule['id'] == remaining_center]['test'].unique())"
   ]
  },
  {
   "cell_type": "markdown",
   "metadata": {},
   "source": [
    "Save it in a separate dataframe, for convenience:"
   ]
  },
  {
   "cell_type": "code",
   "execution_count": 42,
   "metadata": {},
   "outputs": [],
   "source": [
    "schedule0 = schedule.loc[schedule['id'] == remaining_center, :].reset_index(drop=True)"
   ]
  },
  {
   "cell_type": "markdown",
   "metadata": {},
   "source": [
    "We follow the procedure we used earlier for the entire dataframe `schedule` and  construct the dataframe `first_appearance0`:"
   ]
  },
  {
   "cell_type": "code",
   "execution_count": 43,
   "metadata": {},
   "outputs": [
    {
     "name": "stdout",
     "output_type": "stream",
     "text": [
      "<class 'pandas.core.frame.DataFrame'>\n",
      "RangeIndex: 351 entries, 0 to 350\n",
      "Data columns (total 4 columns):\n",
      "id                  351 non-null int64\n",
      "test                351 non-null object\n",
      "appointment         351 non-null datetime64[ns, Europe/London]\n",
      "first appearance    351 non-null datetime64[ns, Europe/London]\n",
      "dtypes: datetime64[ns, Europe/London](2), int64(1), object(1)\n",
      "memory usage: 11.0+ KB\n"
     ]
    }
   ],
   "source": [
    "first_appearance0 = schedule0.copy()\n",
    "first_appearance0['appointment'] = first_appearance0['appointment'].apply(\n",
    "    lambda ts: ts.tz_convert(tz_utc)\n",
    ")\n",
    "\n",
    "first_appearance0 = first_appearance0.groupby(\n",
    "    ['id', 'test', 'appointment']\n",
    ")[['grab']].min()\n",
    "first_appearance0.rename(\n",
    "    index=str,\n",
    "    columns={'grab': 'first appearance'},\n",
    "    inplace=True\n",
    ")\n",
    "\n",
    "\n",
    "first_appearance0.reset_index(inplace=True)\n",
    "first_appearance0['appointment'] = pd.to_datetime(\n",
    "    first_appearance0['appointment']\n",
    ")\n",
    "first_appearance0['appointment'] = \\\n",
    "    first_appearance0['appointment'].apply(\n",
    "        lambda ts: ts.tz_localize(tz_utc).tz_convert(tz_london)\n",
    "    )\n",
    "first_appearance0['id'] = first_appearance0['id'].astype(int)\n",
    "\n",
    "first_appearance0.info()"
   ]
  },
  {
   "cell_type": "code",
   "execution_count": null,
   "metadata": {},
   "outputs": [],
   "source": []
  },
  {
   "cell_type": "code",
   "execution_count": 44,
   "metadata": {},
   "outputs": [
    {
     "data": {
      "text/html": [
       "<div>\n",
       "<style scoped>\n",
       "    .dataframe tbody tr th:only-of-type {\n",
       "        vertical-align: middle;\n",
       "    }\n",
       "\n",
       "    .dataframe tbody tr th {\n",
       "        vertical-align: top;\n",
       "    }\n",
       "\n",
       "    .dataframe thead th {\n",
       "        text-align: right;\n",
       "    }\n",
       "</style>\n",
       "<table border=\"1\" class=\"dataframe\">\n",
       "  <thead>\n",
       "    <tr style=\"text-align: right;\">\n",
       "      <th></th>\n",
       "      <th>appointment</th>\n",
       "      <th>first appearance</th>\n",
       "      <th>appointment date</th>\n",
       "      <th>first appearance date</th>\n",
       "      <th>open window</th>\n",
       "    </tr>\n",
       "  </thead>\n",
       "  <tbody>\n",
       "    <tr>\n",
       "      <th>0</th>\n",
       "      <td>2019-01-16 08:15:00+00:00</td>\n",
       "      <td>2019-01-15 13:40:00+00:00</td>\n",
       "      <td>2019-01-16</td>\n",
       "      <td>2019-01-15</td>\n",
       "      <td>1 days</td>\n",
       "    </tr>\n",
       "    <tr>\n",
       "      <th>1</th>\n",
       "      <td>2019-01-16 13:00:00+00:00</td>\n",
       "      <td>2019-01-15 13:40:00+00:00</td>\n",
       "      <td>2019-01-16</td>\n",
       "      <td>2019-01-15</td>\n",
       "      <td>1 days</td>\n",
       "    </tr>\n",
       "    <tr>\n",
       "      <th>2</th>\n",
       "      <td>2019-01-17 08:15:00+00:00</td>\n",
       "      <td>2019-01-15 13:40:00+00:00</td>\n",
       "      <td>2019-01-17</td>\n",
       "      <td>2019-01-15</td>\n",
       "      <td>2 days</td>\n",
       "    </tr>\n",
       "    <tr>\n",
       "      <th>3</th>\n",
       "      <td>2019-01-17 08:30:00+00:00</td>\n",
       "      <td>2019-01-15 13:40:00+00:00</td>\n",
       "      <td>2019-01-17</td>\n",
       "      <td>2019-01-15</td>\n",
       "      <td>2 days</td>\n",
       "    </tr>\n",
       "    <tr>\n",
       "      <th>4</th>\n",
       "      <td>2019-01-17 10:00:00+00:00</td>\n",
       "      <td>2019-01-15 13:40:00+00:00</td>\n",
       "      <td>2019-01-17</td>\n",
       "      <td>2019-01-15</td>\n",
       "      <td>2 days</td>\n",
       "    </tr>\n",
       "  </tbody>\n",
       "</table>\n",
       "</div>"
      ],
      "text/plain": [
       "                appointment          first appearance appointment date  \\\n",
       "0 2019-01-16 08:15:00+00:00 2019-01-15 13:40:00+00:00       2019-01-16   \n",
       "1 2019-01-16 13:00:00+00:00 2019-01-15 13:40:00+00:00       2019-01-16   \n",
       "2 2019-01-17 08:15:00+00:00 2019-01-15 13:40:00+00:00       2019-01-17   \n",
       "3 2019-01-17 08:30:00+00:00 2019-01-15 13:40:00+00:00       2019-01-17   \n",
       "4 2019-01-17 10:00:00+00:00 2019-01-15 13:40:00+00:00       2019-01-17   \n",
       "\n",
       "  first appearance date open window  \n",
       "0            2019-01-15      1 days  \n",
       "1            2019-01-15      1 days  \n",
       "2            2019-01-15      2 days  \n",
       "3            2019-01-15      2 days  \n",
       "4            2019-01-15      2 days  "
      ]
     },
     "execution_count": 44,
     "metadata": {},
     "output_type": "execute_result"
    }
   ],
   "source": [
    "first_appearance0['appointment date'] = first_appearance0['appointment'].apply(\n",
    "    lambda ts: ts.date()\n",
    ")\n",
    "first_appearance0['first appearance date'] = first_appearance0['first appearance'].apply(\n",
    "    lambda ts: ts.date()\n",
    ")\n",
    "first_appearance0['open window'] = first_appearance0['appointment date'] - first_appearance0['first appearance date']\n",
    "first_appearance0.drop(['id', 'test'], axis=1, inplace=True)\n",
    "first_appearance0.head()"
   ]
  },
  {
   "cell_type": "markdown",
   "metadata": {},
   "source": [
    "For this center, *all* appointments appeared in `schedule0` at the same time (keeping in mind, as we have done all along, that the data was collected over a period of 24 hours):"
   ]
  },
  {
   "cell_type": "code",
   "execution_count": 45,
   "metadata": {},
   "outputs": [
    {
     "data": {
      "text/plain": [
       "array([Timestamp('2019-01-15 13:40:00+0000', tz='Europe/London')],\n",
       "      dtype=object)"
      ]
     },
     "execution_count": 45,
     "metadata": {},
     "output_type": "execute_result"
    }
   ],
   "source": [
    "first_appearance0['first appearance'].unique()"
   ]
  },
  {
   "cell_type": "markdown",
   "metadata": {},
   "source": [
    "Record time of end of script:"
   ]
  },
  {
   "cell_type": "code",
   "execution_count": 46,
   "metadata": {},
   "outputs": [
    {
     "data": {
      "text/plain": [
       "datetime.timedelta(seconds=285, microseconds=892362)"
      ]
     },
     "execution_count": 46,
     "metadata": {},
     "output_type": "execute_result"
    }
   ],
   "source": [
    "end_script = datetime.datetime.now()\n",
    "\n",
    "run_time = end_script - beg_script\n",
    "run_time"
   ]
  },
  {
   "cell_type": "code",
   "execution_count": 47,
   "metadata": {},
   "outputs": [
    {
     "name": "stdout",
     "output_type": "stream",
     "text": [
      "This script ran for: 4min 45sec.\n"
     ]
    }
   ],
   "source": [
    "print(\"This script ran for: {0}min {1}sec.\".format(run_time.seconds//60, run_time.seconds%60))"
   ]
  }
 ],
 "metadata": {
  "kernelspec": {
   "display_name": "Python 3",
   "language": "python",
   "name": "python3"
  },
  "language_info": {
   "codemirror_mode": {
    "name": "ipython",
    "version": 3
   },
   "file_extension": ".py",
   "mimetype": "text/x-python",
   "name": "python",
   "nbconvert_exporter": "python",
   "pygments_lexer": "ipython3",
   "version": "3.7.1"
  }
 },
 "nbformat": 4,
 "nbformat_minor": 2
}

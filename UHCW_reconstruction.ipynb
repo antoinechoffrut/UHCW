{
 "cells": [
  {
   "cell_type": "markdown",
   "metadata": {},
   "source": [
    "# Reconstructing the booking history of the *UHCW* dataset\n",
    "The [University Hospitals - Coventry & Warwickshire](https://www.uhcw.nhs.uk) (UHCW) has set up an online [portal](https://www.swiftqueue.co.uk/uhcw.php) to facilitate the booking of blood tests appointments in 18 centers around Coventry (UK).  \n",
    "\n",
    "\n",
    "Available appointments have been recorded in the dataset `appointments.csv`.  A preliminary investigation of the dataset is done in `UHCW_EDA.ipynb`.\n",
    "\n",
    "In this notebook we reconstruct the booking history of all appointments in all centers."
   ]
  },
  {
   "cell_type": "markdown",
   "metadata": {},
   "source": [
    "## Imports"
   ]
  },
  {
   "cell_type": "code",
   "execution_count": 1,
   "metadata": {},
   "outputs": [],
   "source": [
    "import os\n",
    "import pandas as pd\n",
    "import datetime\n",
    "import pytz\n",
    "import matplotlib.pyplot as plt\n",
    "import UHCW\n",
    "%matplotlib inline"
   ]
  },
  {
   "cell_type": "markdown",
   "metadata": {},
   "source": [
    "Record time of beginning of script:"
   ]
  },
  {
   "cell_type": "code",
   "execution_count": 2,
   "metadata": {},
   "outputs": [],
   "source": [
    "beg_script = datetime.datetime.now()"
   ]
  },
  {
   "cell_type": "markdown",
   "metadata": {},
   "source": [
    "## Data\n",
    "Read in the `csv` file."
   ]
  },
  {
   "cell_type": "code",
   "execution_count": 3,
   "metadata": {},
   "outputs": [
    {
     "name": "stdout",
     "output_type": "stream",
     "text": [
      "Time: 23:01:31\n",
      "Size of data file: 291MB.\n",
      "Loading data...\n",
      "Number of records: 5117059.\n",
      "Column names:\n",
      "appointment timestamp\n",
      "center age group\n",
      "center id\n",
      "test type\n",
      "grab timestamp\n",
      "CPU times: user 2.52 s, sys: 190 ms, total: 2.71 s\n",
      "Wall time: 2.71 s\n"
     ]
    }
   ],
   "source": [
    "%%time\n",
    "print(datetime.datetime.now().strftime(\"Time: %H:%M:%S\"))\n",
    "filename = 'sample_appointments.csv'  # appointments.csv\n",
    "foldername = 'Projects/UHCW'\n",
    "# filename = 'appointments.csv'\n",
    "# foldername = 'Data/UHCW'\n",
    "filepath = os.path.join(os.path.expanduser(\"~\"), foldername, filename)\n",
    "\n",
    "filesize = os.path.getsize(filepath)\n",
    "if filesize > 1e6:\n",
    "    print(\"Size of data file: {}MB.\".format(filesize//1000000))\n",
    "elif filesize > 1e3:\n",
    "    print(\"Size of data file: {}KB.\".format(filesize//1000))\n",
    "else:\n",
    "    print(\"Size of data file: {}B.\".format(filesize))\n",
    "print(\"Loading data...\")\n",
    "raw_data = pd.read_csv(filepath, sep=';')\n",
    "print(\"Number of records: {0}.\".format(raw_data.shape[0]))\n",
    "print(\"Column names:\\n{}\".format(\"\\n\".join(raw_data.columns)))"
   ]
  },
  {
   "cell_type": "markdown",
   "metadata": {},
   "source": [
    "Work with a copy, `df`, do some preprocessing.  \n",
    "**Note.** The timestamp localization and conversion may take some time on a regular computer (several minutes for 5117059 records)."
   ]
  },
  {
   "cell_type": "code",
   "execution_count": 4,
   "metadata": {},
   "outputs": [
    {
     "name": "stdout",
     "output_type": "stream",
     "text": [
      "Time: 23:01:33\n",
      "CPU times: user 4min 23s, sys: 4.79 s, total: 4min 28s\n",
      "Wall time: 4min 24s\n"
     ]
    }
   ],
   "source": [
    "%%time\n",
    "print(datetime.datetime.now().strftime(\"Time: %H:%M:%S\"))\n",
    "df = UHCW.prepare_UHCW_dataframe(raw_data, timezone_conversion=True)"
   ]
  },
  {
   "cell_type": "markdown",
   "metadata": {},
   "source": [
    "## Drop column `age group` \n",
    "In `UHCW_EDA.ipynb` we have noted that each center serves exactly one age group, so we will ignore the column `age group`:"
   ]
  },
  {
   "cell_type": "code",
   "execution_count": 5,
   "metadata": {},
   "outputs": [],
   "source": [
    "df.drop('age group', axis=1, inplace=True)"
   ]
  },
  {
   "cell_type": "markdown",
   "metadata": {},
   "source": [
    "## List of centers with their test types"
   ]
  },
  {
   "cell_type": "code",
   "execution_count": 6,
   "metadata": {},
   "outputs": [
    {
     "data": {
      "text/html": [
       "<div>\n",
       "<style scoped>\n",
       "    .dataframe tbody tr th:only-of-type {\n",
       "        vertical-align: middle;\n",
       "    }\n",
       "\n",
       "    .dataframe tbody tr th {\n",
       "        vertical-align: top;\n",
       "    }\n",
       "\n",
       "    .dataframe thead th {\n",
       "        text-align: right;\n",
       "    }\n",
       "</style>\n",
       "<table border=\"1\" class=\"dataframe\">\n",
       "  <thead>\n",
       "    <tr style=\"text-align: right;\">\n",
       "      <th></th>\n",
       "      <th>test types</th>\n",
       "    </tr>\n",
       "    <tr>\n",
       "      <th>id</th>\n",
       "      <th></th>\n",
       "    </tr>\n",
       "  </thead>\n",
       "  <tbody>\n",
       "    <tr>\n",
       "      <th>10136</th>\n",
       "      <td>[Fasting Bloods, Non Fasting Bloods, INR Test]</td>\n",
       "    </tr>\n",
       "    <tr>\n",
       "      <th>10137</th>\n",
       "      <td>[Blood Test]</td>\n",
       "    </tr>\n",
       "    <tr>\n",
       "      <th>10138</th>\n",
       "      <td>[Blood Test]</td>\n",
       "    </tr>\n",
       "    <tr>\n",
       "      <th>10188</th>\n",
       "      <td>[Blood Test, INR Test]</td>\n",
       "    </tr>\n",
       "    <tr>\n",
       "      <th>10207</th>\n",
       "      <td>[Blood Test]</td>\n",
       "    </tr>\n",
       "    <tr>\n",
       "      <th>10243</th>\n",
       "      <td>[Blood Test, INR Test]</td>\n",
       "    </tr>\n",
       "    <tr>\n",
       "      <th>10244</th>\n",
       "      <td>[Blood Test, INR Test]</td>\n",
       "    </tr>\n",
       "    <tr>\n",
       "      <th>10250</th>\n",
       "      <td>[Blood Test, INR Test]</td>\n",
       "    </tr>\n",
       "    <tr>\n",
       "      <th>10254</th>\n",
       "      <td>[Blood Test]</td>\n",
       "    </tr>\n",
       "    <tr>\n",
       "      <th>10263</th>\n",
       "      <td>[Blood Test, INR Test]</td>\n",
       "    </tr>\n",
       "    <tr>\n",
       "      <th>10266</th>\n",
       "      <td>[Blood Test, INR Test]</td>\n",
       "    </tr>\n",
       "    <tr>\n",
       "      <th>10294</th>\n",
       "      <td>[Blood Test]</td>\n",
       "    </tr>\n",
       "    <tr>\n",
       "      <th>10299</th>\n",
       "      <td>[Glucose Tolerance Test]</td>\n",
       "    </tr>\n",
       "    <tr>\n",
       "      <th>10301</th>\n",
       "      <td>[Blood Test]</td>\n",
       "    </tr>\n",
       "    <tr>\n",
       "      <th>10336</th>\n",
       "      <td>[Blood Test]</td>\n",
       "    </tr>\n",
       "    <tr>\n",
       "      <th>10341</th>\n",
       "      <td>[Blood Test]</td>\n",
       "    </tr>\n",
       "    <tr>\n",
       "      <th>10352</th>\n",
       "      <td>[Blood Test, INR Test]</td>\n",
       "    </tr>\n",
       "    <tr>\n",
       "      <th>10449</th>\n",
       "      <td>[Blood Test]</td>\n",
       "    </tr>\n",
       "  </tbody>\n",
       "</table>\n",
       "</div>"
      ],
      "text/plain": [
       "                                           test types\n",
       "id                                                   \n",
       "10136  [Fasting Bloods, Non Fasting Bloods, INR Test]\n",
       "10137                                    [Blood Test]\n",
       "10138                                    [Blood Test]\n",
       "10188                          [Blood Test, INR Test]\n",
       "10207                                    [Blood Test]\n",
       "10243                          [Blood Test, INR Test]\n",
       "10244                          [Blood Test, INR Test]\n",
       "10250                          [Blood Test, INR Test]\n",
       "10254                                    [Blood Test]\n",
       "10263                          [Blood Test, INR Test]\n",
       "10266                          [Blood Test, INR Test]\n",
       "10294                                    [Blood Test]\n",
       "10299                        [Glucose Tolerance Test]\n",
       "10301                                    [Blood Test]\n",
       "10336                                    [Blood Test]\n",
       "10341                                    [Blood Test]\n",
       "10352                          [Blood Test, INR Test]\n",
       "10449                                    [Blood Test]"
      ]
     },
     "execution_count": 6,
     "metadata": {},
     "output_type": "execute_result"
    }
   ],
   "source": [
    "center_test_types = df.groupby('id')['test type'].unique().rename(\"test types\").to_frame()\n",
    "center_test_types"
   ]
  },
  {
   "cell_type": "markdown",
   "metadata": {},
   "source": [
    "## Generating the timegrid\n",
    "We generate the `timegrid` of the dataset, that is, the full list of (`grab`, `appointment`) pairs (where `grab` does not occur after `appointment`) from the original dataset `df`.  "
   ]
  },
  {
   "cell_type": "code",
   "execution_count": 7,
   "metadata": {},
   "outputs": [
    {
     "name": "stdout",
     "output_type": "stream",
     "text": [
      "<class 'pandas.core.frame.DataFrame'>\n",
      "Index: 928075 entries, 0 to 930619\n",
      "Data columns (total 2 columns):\n",
      "grab           928075 non-null datetime64[ns, Europe/London]\n",
      "appointment    928075 non-null datetime64[ns, Europe/London]\n",
      "dtypes: datetime64[ns, Europe/London](2)\n",
      "memory usage: 21.2+ MB\n"
     ]
    }
   ],
   "source": [
    "timegrid = UHCW.get_timegrid(df)\n",
    "timegrid.info()"
   ]
  },
  {
   "cell_type": "markdown",
   "metadata": {},
   "source": [
    "## Restricting to a smaller dataset\n",
    "For **speed**, we will work on a subset of the original dataset."
   ]
  },
  {
   "cell_type": "code",
   "execution_count": 8,
   "metadata": {},
   "outputs": [],
   "source": [
    "selected_centers = [10254, 10263] #[10254] #  list(center_test_types.index)[0:5] # [10254, 10336, 10299]\n",
    "df = df.loc[df['id'].apply(lambda x: x in selected_centers), :]"
   ]
  },
  {
   "cell_type": "markdown",
   "metadata": {},
   "source": [
    "### Calculate history of dataset\n",
    "We calculate the times of booking and cancellations of all appointments in `df`.  \n",
    "*This may take a little while.*"
   ]
  },
  {
   "cell_type": "code",
   "execution_count": 9,
   "metadata": {},
   "outputs": [
    {
     "name": "stdout",
     "output_type": "stream",
     "text": [
      "Time: 23:06:01\n",
      "CPU times: user 1min 20s, sys: 2.03 s, total: 1min 22s\n",
      "Wall time: 1min 21s\n"
     ]
    }
   ],
   "source": [
    "%%time\n",
    "print(datetime.datetime.now().strftime(\"Time: %H:%M:%S\"))\n",
    "df_history = UHCW.get_history(df, timegrid)"
   ]
  },
  {
   "cell_type": "code",
   "execution_count": 10,
   "metadata": {},
   "outputs": [
    {
     "name": "stdout",
     "output_type": "stream",
     "text": [
      "23:07:23\n",
      "Center: 10254\n",
      "Test type: Blood Test\n",
      "Center: 10263\n",
      "Test type: Blood Test\n",
      "Test type: INR Test\n",
      "CPU times: user 107 ms, sys: 4.88 ms, total: 112 ms\n",
      "Wall time: 108 ms\n"
     ]
    },
    {
     "data": {
      "image/png": "[encoded data removed]",
      "text/plain": [
       "<Figure size 1152x432 with 1 Axes>"
      ]
     },
     "metadata": {
      "needs_background": "light"
     },
     "output_type": "display_data"
    },
    {
     "data": {
      "image/png": "[encoded data removed]",
      "text/plain": [
       "<Figure size 1152x432 with 1 Axes>"
      ]
     },
     "metadata": {
      "needs_background": "light"
     },
     "output_type": "display_data"
    },
    {
     "data": {
      "image/png": "[encoded data removed]",
      "text/plain": [
       "<Figure size 1152x432 with 1 Axes>"
      ]
     },
     "metadata": {
      "needs_background": "light"
     },
     "output_type": "display_data"
    }
   ],
   "source": [
    "%%time\n",
    "print(datetime.datetime.now().strftime(\"%H:%M:%S\"))\n",
    "for center_id in selected_centers:\n",
    "    #break\n",
    "    print(\"Center: {0}\".format(center_id))\n",
    "    for test_type in list(center_test_types.loc[center_id])[0]:\n",
    "        print(\"Test type: {0}\".format(test_type))\n",
    "        df_filtered = UHCW.filter_center(df_history, center_id, test_type)\n",
    "        df_filtered.iloc[0]#['id']\n",
    "        UHCW.UHCW_plot(\n",
    "            df_filtered.loc[:, ['id', 'test type', 'appointment', 'grab', 'action']],\n",
    "            x_freq=\"W\",\n",
    "            y_freq=\"H\",\n",
    "            savefigure=False\n",
    "        );"
   ]
  },
  {
   "cell_type": "markdown",
   "metadata": {},
   "source": [
    "Record time of end of script:"
   ]
  },
  {
   "cell_type": "code",
   "execution_count": 11,
   "metadata": {},
   "outputs": [],
   "source": [
    "end_script = datetime.datetime.now()"
   ]
  },
  {
   "cell_type": "code",
   "execution_count": 12,
   "metadata": {},
   "outputs": [],
   "source": [
    "run_time = end_script - beg_script"
   ]
  },
  {
   "cell_type": "code",
   "execution_count": 13,
   "metadata": {},
   "outputs": [
    {
     "name": "stdout",
     "output_type": "stream",
     "text": [
      "5min 53sec\n"
     ]
    }
   ],
   "source": [
    "print(\"{0}min {1}sec\".format(run_time.seconds//60, run_time.seconds%60))"
   ]
  }
 ],
 "metadata": {
  "kernelspec": {
   "display_name": "Python 3",
   "language": "python",
   "name": "python3"
  },
  "language_info": {
   "codemirror_mode": {
    "name": "ipython",
    "version": 3
   },
   "file_extension": ".py",
   "mimetype": "text/x-python",
   "name": "python",
   "nbconvert_exporter": "python",
   "pygments_lexer": "ipython3",
   "version": "3.7.1"
  }
 },
 "nbformat": 4,
 "nbformat_minor": 2
}

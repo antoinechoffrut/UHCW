{
 "cells": [
  {
   "cell_type": "markdown",
   "metadata": {},
   "source": [
    "# Reconstructing the booking history of the *UHCW* dataset\n",
    "The [University Hospitals - Coventry & Warwickshire](https://www.uhcw.nhs.uk) (UHCW) has set up an online [portal](https://www.swiftqueue.co.uk/uhcw.php) to facilitate the booking of blood tests appointments in 18 centers around Coventry (UK).  \n",
    "\n",
    "\n",
    "Available appointments have been recorded in the dataset `appointments.csv`.  A preliminary investigation of the dataset is done in `UHCW_EDA.ipynb`.\n",
    "\n",
    "In this notebook we reconstruct the booking history of all appointments in all centers."
   ]
  },
  {
   "cell_type": "markdown",
   "metadata": {},
   "source": [
    "## Imports"
   ]
  },
  {
   "cell_type": "code",
   "execution_count": 1,
   "metadata": {},
   "outputs": [],
   "source": [
    "import os\n",
    "import pandas as pd\n",
    "import datetime\n",
    "import pytz\n",
    "import matplotlib.pyplot as plt\n",
    "%matplotlib inline"
   ]
  },
  {
   "cell_type": "markdown",
   "metadata": {},
   "source": [
    "Record time of beginning of script:"
   ]
  },
  {
   "cell_type": "code",
   "execution_count": 2,
   "metadata": {},
   "outputs": [],
   "source": [
    "beg_script = datetime.datetime.now()"
   ]
  },
  {
   "cell_type": "markdown",
   "metadata": {},
   "source": [
    "## Constants"
   ]
  },
  {
   "cell_type": "code",
   "execution_count": 3,
   "metadata": {},
   "outputs": [],
   "source": [
    "tz_utc = pytz.timezone(\"UTC\")  # timestamp is in UTC standard\n",
    "tz_london = pytz.timezone(\"Europe/London\")  # test centers are in Coventry, UK\n",
    "\n",
    "IMG_DIR = os.path.join(os.path.expanduser(\"~\"), \"Projects/UHCW/IMAGE_FILES\")"
   ]
  },
  {
   "cell_type": "markdown",
   "metadata": {},
   "source": [
    "## Helper functions"
   ]
  },
  {
   "cell_type": "code",
   "execution_count": 4,
   "metadata": {},
   "outputs": [],
   "source": [
    "def cartesianProduct(left, right):\n",
    "    \"\"\"Returns Cartesian product of dataframe.\n",
    "    From https://stackoverflow.com/a/53699013/9472676 with some arrangement:\n",
    "    \"\"\"\n",
    "    # Rename columns if \"key\" already exists.\n",
    "    if \"key\" in list(left.columns):\n",
    "        key_x = \"key_x\"\n",
    "    else:\n",
    "        key_x = \"\"\n",
    "    if \"key\" in list(right.columns):\n",
    "        key_y = \"key_x\"\n",
    "    else:\n",
    "        key_y = \"\"\n",
    "    new_key = hash(\"\".join(list(left.columns) + list(right.columns)))\n",
    "    left.rename(index=str, columns={\"key\": str(new_key)}, inplace=True)\n",
    "    right.rename(index=str, columns={\"key\": str(new_key)}, inplace=True)\n",
    "    # Calculate Cartesian product\n",
    "    df_cartesian = left.assign(key=1).merge(\n",
    "        right.assign(key=1), on='key'\n",
    "    ).drop('key', 1)\n",
    "    # Rename columns back to \"key\" if they had been changed\n",
    "    left.rename(index=str, columns={str(new_key): \"key\"}, inplace=True)\n",
    "    right.rename(index=str, columns={str(new_key): \"key\"}, inplace=True)\n",
    "    if (key_x != \"\") and (key_y != \"\"):\n",
    "        df_cartesian.rename(index=str, columns={str(new_key)+\"_x\": \"key_x\"}, inplace=True)\n",
    "        df_cartesian.rename(index=str, columns={str(new_key)+\"_y\": \"key_y\"}, inplace=True)\n",
    "    else:\n",
    "        df_cartesian.rename(index=str, columns={str(new_key): \"key\"}, inplace=True)\n",
    "    return df_cartesian\n"
   ]
  },
  {
   "cell_type": "code",
   "execution_count": 5,
   "metadata": {},
   "outputs": [],
   "source": [
    "def get_timegrid(df):\n",
    "    \"\"\"Generate the timegrid from the full dataset.\"\"\"\n",
    "    grabs = df.loc[:, ['grab']].drop_duplicates().reset_index(drop=True).sort_values(by='grab', ascending=True)\n",
    "    appointments = df.loc[:, ['appointment']].drop_duplicates().reset_index(drop=True).sort_values(by='appointment', ascending=True)    \n",
    "    timegrid = cartesianProduct(grabs, appointments)\n",
    "    timegrid.query('grab <= appointment', inplace=True)\n",
    "    return timegrid"
   ]
  },
  {
   "cell_type": "code",
   "execution_count": 6,
   "metadata": {},
   "outputs": [],
   "source": [
    "def dataframe_duplication(df1, df2):\n",
    "    \"\"\"Duplicate a dataframe by size of multiindex of another dataframe.\n",
    "    \n",
    "    Parameters\n",
    "    ----------\n",
    "    df1: dataframe\n",
    "    df2: dataframe with columns including 'id' and 'test type'\n",
    "    \n",
    "    Returns\n",
    "    -------\n",
    "    duplicate: dataframe duplicated as many times as (id, test type) pairs in df\n",
    "    \"\"\"\n",
    "    # Need a copy of `df1` for each (`id`, `test type`) pair in `df2`\n",
    "    df1_duplicate = pd.concat(\n",
    "        [df1.assign(id=id_item).assign(type=type_item)\n",
    "         for id_item in list(df2['id'].unique())\n",
    "         for type_item in list(df2['test type'].unique())\n",
    "        ]\n",
    "    )\n",
    "    df1_duplicate.rename(index=str, columns={'type': 'test type'}, inplace=True)\n",
    "    df1_duplicate = df1_duplicate[['id', 'test type', 'grab', 'appointment']]\n",
    "    df1_duplicate.sort_values(\n",
    "        ['id', 'test type', 'grab', 'appointment'], inplace=True\n",
    "    )\n",
    "    \n",
    "    return df1_duplicate"
   ]
  },
  {
   "cell_type": "code",
   "execution_count": 7,
   "metadata": {},
   "outputs": [],
   "source": [
    "def compare_against_timegrid(df, timegrid):\n",
    "    \"\"\"Compare records of available appointments against timegrid.\n",
    "    \n",
    "    Parameters\n",
    "    ----------\n",
    "    df       : dataframe with records of available appointments\n",
    "    timegrid : timegrid of appointments\n",
    "    \n",
    "    Returns\n",
    "    -------\n",
    "    df_compare : dataframe indicating whether appointments are available at all grab timestamps\n",
    "    \n",
    "    \"\"\"\n",
    "    timegrid_duplicate = dataframe_duplication(timegrid, df)\n",
    "    df_compare = pd.merge(\n",
    "        timegrid_duplicate,\n",
    "        df.assign(key=1),\n",
    "        on=['id', 'test type', 'appointment', 'grab'],\n",
    "        how='outer'\n",
    "    )\n",
    "    df_compare.fillna(0, inplace=True)\n",
    "    df_compare['key'] = df_compare['key'].astype(int)\n",
    "    \n",
    "    return df_compare"
   ]
  },
  {
   "cell_type": "code",
   "execution_count": 8,
   "metadata": {},
   "outputs": [],
   "source": [
    "def label_action(df, col='key'):\n",
    "    \"\"\"\n",
    "    Detects booking and cancellation in dataframe.\n",
    "    \n",
    "    Parameter\n",
    "    ---------\n",
    "    df: dataframe with 0's and 1's\n",
    "    \n",
    "    Returns\n",
    "    -------\n",
    "    df, modified in place, replacing a transition from 0 to 1 with \"cancel\",\n",
    "    a transition from 1 to 0 with \"book\",\n",
    "    and \"none\" otherwise.\n",
    "    \"\"\"\n",
    "    df[col] = df[col] - df[col].shift(1)\n",
    "    df[col].fillna(method='bfill', inplace=True)\n",
    "    df[col] = df[col].astype(int)\n",
    "    df[col] = df[col].apply(lambda delta: \"cancel\" if delta == 1 else (\"book\" if delta == -1 else \"none\"))\n",
    "    return df"
   ]
  },
  {
   "cell_type": "code",
   "execution_count": 9,
   "metadata": {},
   "outputs": [],
   "source": [
    "def get_first_appearance(df):\n",
    "    \"\"\"Calculate date of first appearance for each appointment.\"\"\"\n",
    "    df_first_appearance = df.groupby(['id', 'test type', 'appointment'])[['grab']].min()\n",
    "    df_first_appearance.rename(index=str, columns={'grab': 'first appearance'}, inplace=True)\n",
    "    df_first_appearance.reset_index(inplace=True)\n",
    "    df_first_appearance['appointment'] = pd.to_datetime(df_first_appearance['appointment'])\n",
    "    df_first_appearance['appointment'] = df_first_appearance['appointment'].apply(lambda ts: ts.tz_localize(tz_london))\n",
    "    df_first_appearance['id'] = df_first_appearance['id'].astype(int)\n",
    "    \n",
    "    return df_first_appearance"
   ]
  },
  {
   "cell_type": "code",
   "execution_count": 10,
   "metadata": {},
   "outputs": [],
   "source": [
    "def get_history(df, timegrid):\n",
    "    \"\"\"Calculates history of appointments in dataframe.\"\"\"\n",
    "    df_compare = compare_against_timegrid(df, timegrid)\n",
    "    df_action = df_compare.groupby(['id', 'test type', 'appointment']).apply(label_action)\n",
    "    df_action.rename(index=str, columns={'key': 'action'}, inplace=True)\n",
    "    df_history = df_action.loc[df_action['action'] != \"none\", :]\n",
    "    df_first_appearance = get_first_appearance(df)\n",
    "\n",
    "    # REMOVE ARTEFACTS: appointment marked 'cancel' when first appears on schedule    \n",
    "    df_history = pd.merge(\n",
    "        left=df_history,\n",
    "        right=df_first_appearance,\n",
    "        left_on=['id', 'test type', 'appointment', 'grab'],\n",
    "        right_on=['id', 'test type', 'appointment', 'first appearance'],\n",
    "        how='left'\n",
    "    )\n",
    "    df_history = df_history.loc[\n",
    "        df_history['first appearance'].isna()\n",
    "        | (df_history['action'] == 'book')\n",
    "    ]\n",
    "    df_history.drop('first appearance', axis=1, inplace=True)\n",
    "    return df_history"
   ]
  },
  {
   "cell_type": "code",
   "execution_count": 11,
   "metadata": {},
   "outputs": [],
   "source": [
    "def get_last_bookings(df):\n",
    "    \"\"\"Returns a dataframe with last bookings.\n",
    "    \n",
    "    Parameters\n",
    "    ----------\n",
    "    df: dataframe with four columns 'id', 'test type', 'appointment', 'grab'\n",
    "    \n",
    "    Returns\n",
    "    -------\n",
    "    df_last_booking: dataframe with four columns:\n",
    "                     'id', 'test type', 'appointment', 'last booking',\n",
    "                     where for each row the 'last booking' is the timestamp\n",
    "                     of the last booing of the 'appointment'.\n",
    "    \n",
    "    \"\"\"\n",
    "    last_grab = df['grab'].max()\n",
    "\n",
    "    df_last_bookings = pd.DataFrame()\n",
    "    df_last_bookings['last booking'] = df.groupby(['id', 'test type', 'appointment'])['grab'].max()\n",
    "\n",
    "    df_last_bookings.drop(df_last_bookings[df_last_bookings['last booking'] == last_grab].index, inplace=True)\n",
    "    df_last_bookings.reset_index(inplace=True)\n",
    "    \n",
    "    return df_last_bookings"
   ]
  },
  {
   "cell_type": "code",
   "execution_count": 12,
   "metadata": {},
   "outputs": [],
   "source": [
    "def filter_center(df, center_id, test_type):\n",
    "    \"\"\"Returns records for specified center and test type.\n",
    "    \"\"\"\n",
    "    idxs = (df['id'] == center_id) & (df['test type'] == test_type)\n",
    "    \n",
    "    return df.loc[idxs, :]"
   ]
  },
  {
   "cell_type": "code",
   "execution_count": 13,
   "metadata": {},
   "outputs": [],
   "source": [
    "def get_plot_style(feature=\"schedule\"):\n",
    "    \"\"\"Returns plot style: marker and markersize.\"\"\"\n",
    "    if feature == \"schedule\":\n",
    "        marker = \".\"\n",
    "        markersize = \"3\"\n",
    "    elif feature == \"last booking\":\n",
    "        marker = \"+\"\n",
    "        markersize = \"10\"\n",
    "    elif feature == \"history\":\n",
    "        marker = \"+\"\n",
    "        markersize = \"10\"\n",
    "    return {'marker': marker, 'markersize': markersize, 'linestyle': \"\"}\n",
    "\n",
    "def get_plot_labels(\n",
    "        center_id=None,\n",
    "        test_type=None,\n",
    "        x=\"appointment\",\n",
    "        y=\"grab\",\n",
    "        feature=\"schedule\"\n",
    "):\n",
    "    \"\"\"Returns title, x- and y-axes labels.\"\"\"\n",
    "    # Title\n",
    "    if feature == \"schedule\":\n",
    "        title = \"Available appointments for center {0} ({1})\".format(\n",
    "            center_id,\n",
    "            test_type)\n",
    "    elif feature == \"last booking\":\n",
    "        title = \"Last bookings for center {0} ({1})\".format(\n",
    "            center_id,\n",
    "            test_type)\n",
    "    elif feature == \"history\":\n",
    "        title = \"History for center {0} ({1})\".format(\n",
    "            center_id,\n",
    "            test_type)\n",
    "\n",
    "    # x- and y-axes label\n",
    "    if feature == \"schedule\":\n",
    "        if x == \"appointment\":\n",
    "            x_label = \"Appointment\"\n",
    "            y_label = \"Data collection\"\n",
    "        else:\n",
    "            x_label = \"Data collection\"\n",
    "            y_label = \"Appointment\"\n",
    "    elif feature == \"last booking\":\n",
    "        if x == \"appointment\":\n",
    "            x_label = \"Appointment\"\n",
    "            y_label = \"Last booking\"\n",
    "        else:\n",
    "            x_label = \"Last booking\"\n",
    "            y_label = \"Appointment\"\n",
    "    elif feature == \"history\":\n",
    "        if x == \"appointment\":\n",
    "            x_label = \"Appointment\"\n",
    "            y_label = \"Action\"\n",
    "        else:\n",
    "            x_label = \"Action\"\n",
    "            y_label = \"Appointment\"\n",
    "\n",
    "\n",
    "    return title, x_label, y_label\n",
    "\n",
    "def get_ticks(s, freq):\n",
    "    \"\"\"Returns ticks and tick labels.\"\"\"\n",
    "\n",
    "    if freq in [\"D\", \"W\"]:\n",
    "        fmt = \"%a %d %b\"\n",
    "    elif freq == \"H\":\n",
    "        fmt = \"%a %d %H:%M\"\n",
    "\n",
    "    date_range = get_date_range(s, freq)\n",
    "\n",
    "    if freq == \"W\":\n",
    "        ticklabels = [\n",
    "            pd.to_datetime(ts).strftime(fmt)\n",
    "            if (ts.dayofweek == 0)\n",
    "            or (list(date_range).index(ts) in [0, len(list(date_range))-1])\n",
    "            else \"\"\n",
    "            for ts in date_range\n",
    "        ]\n",
    "    elif freq in \"D\":\n",
    "        ticklabels = [\n",
    "            pd.to_datetime(ts).strftime(fmt)\n",
    "            for ts in date_range\n",
    "        ]\n",
    "    elif freq == \"H\":\n",
    "        ticklabels = [pd.to_datetime(ts).strftime(fmt)\n",
    "                      if ts.hour == 0\n",
    "                      else pd.to_datetime(ts).strftime(\"%H:%M\")\n",
    "                      for ts in date_range]\n",
    "\n",
    "    return date_range, ticklabels\n",
    "\n",
    "def get_date_range(s, freq=\"D\"):\n",
    "    \"\"\"Returns date range for tick labels.\"\"\"\n",
    "    ts_min = s.min()\n",
    "    ts_max = s.max()\n",
    "    if freq == \"W\":\n",
    "        s_date_range = pd.date_range(\n",
    "            pd.Timestamp(ts_min.year, ts_min.month, ts_min.day),\n",
    "            pd.Timestamp(ts_max.year, ts_max.month, ts_max.day),\n",
    "            freq=\"W-MON\"\n",
    "        )\n",
    "        s_date_range = pd.DatetimeIndex([ts_min.date()]).append(\n",
    "            s_date_range).append(\n",
    "            pd.DatetimeIndex([ts_max.date()])\n",
    "        )\n",
    "    elif freq == \"D\":\n",
    "        s_date_range = pd.date_range(\n",
    "            pd.Timestamp(ts_min.year, ts_min.month, ts_min.day),\n",
    "            pd.Timestamp(ts_max.year, ts_max.month, ts_max.day),\n",
    "            freq=\"D\"\n",
    "        )\n",
    "    elif freq == \"H\":\n",
    "        s_date_range = pd.date_range(\n",
    "            pd.Timestamp(\n",
    "                ts_min.year, ts_min.month, ts_min.day, 3*((ts_min.hour-1)//3)\n",
    "            ),\n",
    "            pd.Timestamp(\n",
    "                ts_max.year, ts_max.month, ts_max.day, 3*((ts_max.hour+1)//3)\n",
    "            ),\n",
    "            freq=\"3H\"\n",
    "        )\n",
    "\n",
    "    return s_date_range\n",
    "\n",
    "def UHCW_plot(\n",
    "    df,\n",
    "    x_freq=\"W\",\n",
    "    y_freq=\"H\",\n",
    "    savefigure=False,\n",
    "    figsize=(16, 6)\n",
    "):\n",
    "    \"\"\"Custom dataframe plot.\"\"\"\n",
    "    \n",
    "    # Determine: center id, test type, and feature\n",
    "    center_id = df.iloc[0]['id']\n",
    "    test_type = df.iloc[0]['test type']\n",
    "    df_columns = list(df.columns)\n",
    "    df_columns.pop(df_columns.index('id'))\n",
    "    df_columns.pop(df_columns.index('test type'))\n",
    "    if set(df_columns) == {'appointment', 'grab'}:\n",
    "        feature = \"schedule\"\n",
    "    elif set(df_columns) == {'appointment', 'last booking'}:\n",
    "        feature = \"last booking\"\n",
    "    elif set(df_columns) == {'appointment', 'grab', 'action'}:\n",
    "        feature = \"history\"\n",
    "    \n",
    "    x, y = df_columns[0], df_columns[1]\n",
    "    \n",
    "    # Determine plot style\n",
    "    plot_style = get_plot_style(feature)\n",
    "\n",
    "    # Determine title, x- and y-axes labels\n",
    "    title, x_label, y_label = get_plot_labels(center_id, test_type, x, y, feature)\n",
    "\n",
    "    # x- and y-axes ticks and tick labels\n",
    "    x_date_range, x_tick_labels = get_ticks(df[x], x_freq)\n",
    "    y_date_range, y_tick_labels = get_ticks(df[y], y_freq)\n",
    "\n",
    "\n",
    "    \n",
    "    # Plot\n",
    "    if feature == 'history':\n",
    "        fig, ax = plt.subplots()\n",
    "        legend_text = []\n",
    "        for action in ['book', 'cancel']:\n",
    "            df_aux = df.loc[df['action'] == action, [x, y]]\n",
    "            if not df_aux.empty:\n",
    "                legend_text.append(action)\n",
    "                df_aux.plot(\n",
    "                    x=x,\n",
    "                    y=y,\n",
    "                    **plot_style,\n",
    "                    figsize=figsize,\n",
    "                    ax=ax\n",
    "                )\n",
    "                \n",
    "    else:\n",
    "        ax = df[[x, y]].plot(x=x, y=y, **plot_style, figsize=figsize)\n",
    "    # ax = pd.DataFrame(data=[1, 3, 3, 6, 2]).plot(**plot_style)\n",
    "    ax.set_title(title, fontsize=18)\n",
    "    ax.set_xlabel(x_label)\n",
    "    ax.set_ylabel(y_label)\n",
    "    ax.set_xticks(x_date_range)\n",
    "    ax.set_xticklabels(x_tick_labels)\n",
    "    ax.set_yticks(y_date_range)\n",
    "    ax.set_yticklabels(y_tick_labels)\n",
    "\n",
    "    # Final plot layout \n",
    "    if feature == 'history':\n",
    "        ax.legend(legend_text)\n",
    "    else:\n",
    "        ax.get_legend().remove()\n",
    "    ax.grid()\n",
    "\n",
    "    # Save figure if option chosen\n",
    "    if savefigure:\n",
    "        filename = \"{0}-center-{1}-{2}-{3}.png\".format(\n",
    "            datetime.datetime.now().strftime(\"%Y-%m-%d-%H-%M-%S\"),\n",
    "            center_id,\n",
    "            \"-\".join(test_type.split()),\n",
    "            \"-\".join(feature.split())\n",
    "        )\n",
    "        filepath = os.path.join(IMG_DIR, filename)\n",
    "        plt.savefig(filepath)\n",
    "    else:\n",
    "        filepath = None\n",
    "\n",
    "    return ax, filepath"
   ]
  },
  {
   "cell_type": "markdown",
   "metadata": {},
   "source": [
    "## Data\n",
    "Read in the `csv` file."
   ]
  },
  {
   "cell_type": "code",
   "execution_count": 14,
   "metadata": {},
   "outputs": [
    {
     "name": "stdout",
     "output_type": "stream",
     "text": [
      "Time: 14:02:01\n",
      "Size of data file: 291MB.\n",
      "Loading data...\n",
      "Number of records: 5117059.\n",
      "Column names:\n",
      "appointment timestamp\n",
      "center age group\n",
      "center id\n",
      "test type\n",
      "grab timestamp\n",
      "CPU times: user 2.55 s, sys: 190 ms, total: 2.74 s\n",
      "Wall time: 2.74 s\n"
     ]
    }
   ],
   "source": [
    "%%time\n",
    "print(datetime.datetime.now().strftime(\"Time: %H:%M:%S\"))\n",
    "filename = 'sample_appointments.csv'  # appointments.csv\n",
    "foldername = 'Projects/UHCW'\n",
    "# filename = 'appointments.csv'\n",
    "# foldername = 'Data/UHCW'\n",
    "filepath = os.path.join(os.path.expanduser(\"~\"), foldername, filename)\n",
    "\n",
    "filesize = os.path.getsize(filepath)\n",
    "if filesize > 1e6:\n",
    "    print(\"Size of data file: {}MB.\".format(filesize//1000000))\n",
    "elif filesize > 1e3:\n",
    "    print(\"Size of data file: {}KB.\".format(filesize//1000))\n",
    "else:\n",
    "    print(\"Size of data file: {}B.\".format(filesize))\n",
    "print(\"Loading data...\")\n",
    "raw_data = pd.read_csv(filepath, sep=';')\n",
    "print(\"Number of records: {0}.\".format(raw_data.shape[0]))\n",
    "print(\"Column names:\\n{}\".format(\"\\n\".join(raw_data.columns)))"
   ]
  },
  {
   "cell_type": "markdown",
   "metadata": {},
   "source": [
    "Work with a copy `df` of the `raw_data` dataframe."
   ]
  },
  {
   "cell_type": "code",
   "execution_count": 15,
   "metadata": {},
   "outputs": [
    {
     "name": "stdout",
     "output_type": "stream",
     "text": [
      "Time: 14:02:04\n",
      "CPU times: user 1.81 s, sys: 189 ms, total: 2 s\n",
      "Wall time: 2 s\n"
     ]
    }
   ],
   "source": [
    "%%time\n",
    "print(datetime.datetime.now().strftime(\"Time: %H:%M:%S\"))\n",
    "\n",
    "df = raw_data.copy()\n",
    "df = df[['appointment timestamp', 'center id', 'center age group', 'test type', 'grab timestamp']]\n",
    "df.columns = ['appointment', 'id', 'age group', 'test type', 'grab']\n",
    "df['appointment'] = pd.to_datetime(df['appointment'])\n",
    "df['grab'] = pd.to_datetime(df['grab'])\n",
    "\n",
    "df = df[['id', 'test type', 'age group', 'grab', 'appointment']]"
   ]
  },
  {
   "cell_type": "markdown",
   "metadata": {},
   "source": [
    "**REMARK.**  The following steps of timezone localization and conversion may take a while (e.g. 4-5 minutes if data file is 291MB)."
   ]
  },
  {
   "cell_type": "code",
   "execution_count": 16,
   "metadata": {},
   "outputs": [
    {
     "name": "stdout",
     "output_type": "stream",
     "text": [
      "CPU times: user 2min 56s, sys: 1.76 s, total: 2min 58s\n",
      "Wall time: 2min 57s\n"
     ]
    }
   ],
   "source": [
    "%%time\n",
    "df['appointment'] = df['appointment'].apply(lambda ts: ts.tz_localize(tz_london))"
   ]
  },
  {
   "cell_type": "code",
   "execution_count": 17,
   "metadata": {},
   "outputs": [
    {
     "name": "stdout",
     "output_type": "stream",
     "text": [
      "CPU times: user 1min 24s, sys: 1.36 s, total: 1min 26s\n",
      "Wall time: 1min 25s\n"
     ]
    }
   ],
   "source": [
    "%%time\n",
    "df['grab'] = df['grab'].apply(lambda ts: ts.tz_localize(tz_utc).tz_convert(tz_london))"
   ]
  },
  {
   "cell_type": "markdown",
   "metadata": {},
   "source": [
    "## Drop column `age group` \n",
    "In `UHCW_EDA.ipynb` we have noted that each center serves exactly one age group, so we will ignore the column `age group`:"
   ]
  },
  {
   "cell_type": "code",
   "execution_count": 18,
   "metadata": {},
   "outputs": [],
   "source": [
    "df.drop('age group', axis=1, inplace=True)"
   ]
  },
  {
   "cell_type": "markdown",
   "metadata": {},
   "source": [
    "## List of centers with their test types"
   ]
  },
  {
   "cell_type": "code",
   "execution_count": 19,
   "metadata": {},
   "outputs": [
    {
     "data": {
      "text/html": [
       "<div>\n",
       "<style scoped>\n",
       "    .dataframe tbody tr th:only-of-type {\n",
       "        vertical-align: middle;\n",
       "    }\n",
       "\n",
       "    .dataframe tbody tr th {\n",
       "        vertical-align: top;\n",
       "    }\n",
       "\n",
       "    .dataframe thead th {\n",
       "        text-align: right;\n",
       "    }\n",
       "</style>\n",
       "<table border=\"1\" class=\"dataframe\">\n",
       "  <thead>\n",
       "    <tr style=\"text-align: right;\">\n",
       "      <th></th>\n",
       "      <th>test types</th>\n",
       "    </tr>\n",
       "    <tr>\n",
       "      <th>id</th>\n",
       "      <th></th>\n",
       "    </tr>\n",
       "  </thead>\n",
       "  <tbody>\n",
       "    <tr>\n",
       "      <th>10136</th>\n",
       "      <td>[Fasting Bloods, Non Fasting Bloods, INR Test]</td>\n",
       "    </tr>\n",
       "    <tr>\n",
       "      <th>10137</th>\n",
       "      <td>[Blood Test]</td>\n",
       "    </tr>\n",
       "    <tr>\n",
       "      <th>10138</th>\n",
       "      <td>[Blood Test]</td>\n",
       "    </tr>\n",
       "    <tr>\n",
       "      <th>10188</th>\n",
       "      <td>[Blood Test, INR Test]</td>\n",
       "    </tr>\n",
       "    <tr>\n",
       "      <th>10207</th>\n",
       "      <td>[Blood Test]</td>\n",
       "    </tr>\n",
       "    <tr>\n",
       "      <th>10243</th>\n",
       "      <td>[Blood Test, INR Test]</td>\n",
       "    </tr>\n",
       "    <tr>\n",
       "      <th>10244</th>\n",
       "      <td>[Blood Test, INR Test]</td>\n",
       "    </tr>\n",
       "    <tr>\n",
       "      <th>10250</th>\n",
       "      <td>[Blood Test, INR Test]</td>\n",
       "    </tr>\n",
       "    <tr>\n",
       "      <th>10254</th>\n",
       "      <td>[Blood Test]</td>\n",
       "    </tr>\n",
       "    <tr>\n",
       "      <th>10263</th>\n",
       "      <td>[Blood Test, INR Test]</td>\n",
       "    </tr>\n",
       "    <tr>\n",
       "      <th>10266</th>\n",
       "      <td>[Blood Test, INR Test]</td>\n",
       "    </tr>\n",
       "    <tr>\n",
       "      <th>10294</th>\n",
       "      <td>[Blood Test]</td>\n",
       "    </tr>\n",
       "    <tr>\n",
       "      <th>10299</th>\n",
       "      <td>[Glucose Tolerance Test]</td>\n",
       "    </tr>\n",
       "    <tr>\n",
       "      <th>10301</th>\n",
       "      <td>[Blood Test]</td>\n",
       "    </tr>\n",
       "    <tr>\n",
       "      <th>10336</th>\n",
       "      <td>[Blood Test]</td>\n",
       "    </tr>\n",
       "    <tr>\n",
       "      <th>10341</th>\n",
       "      <td>[Blood Test]</td>\n",
       "    </tr>\n",
       "    <tr>\n",
       "      <th>10352</th>\n",
       "      <td>[Blood Test, INR Test]</td>\n",
       "    </tr>\n",
       "    <tr>\n",
       "      <th>10449</th>\n",
       "      <td>[Blood Test]</td>\n",
       "    </tr>\n",
       "  </tbody>\n",
       "</table>\n",
       "</div>"
      ],
      "text/plain": [
       "                                           test types\n",
       "id                                                   \n",
       "10136  [Fasting Bloods, Non Fasting Bloods, INR Test]\n",
       "10137                                    [Blood Test]\n",
       "10138                                    [Blood Test]\n",
       "10188                          [Blood Test, INR Test]\n",
       "10207                                    [Blood Test]\n",
       "10243                          [Blood Test, INR Test]\n",
       "10244                          [Blood Test, INR Test]\n",
       "10250                          [Blood Test, INR Test]\n",
       "10254                                    [Blood Test]\n",
       "10263                          [Blood Test, INR Test]\n",
       "10266                          [Blood Test, INR Test]\n",
       "10294                                    [Blood Test]\n",
       "10299                        [Glucose Tolerance Test]\n",
       "10301                                    [Blood Test]\n",
       "10336                                    [Blood Test]\n",
       "10341                                    [Blood Test]\n",
       "10352                          [Blood Test, INR Test]\n",
       "10449                                    [Blood Test]"
      ]
     },
     "execution_count": 19,
     "metadata": {},
     "output_type": "execute_result"
    }
   ],
   "source": [
    "center_test_types = df.groupby('id')['test type'].unique().rename(\"test types\").to_frame()\n",
    "center_test_types"
   ]
  },
  {
   "cell_type": "markdown",
   "metadata": {},
   "source": [
    "## Generating the timegrid\n",
    "We generate the `timegrid` of the dataset, that is, the full list of (`grab`, `appointment`) pairs (where `grab` does not occur after `appointment`) from the original dataset `df`.  "
   ]
  },
  {
   "cell_type": "code",
   "execution_count": 20,
   "metadata": {},
   "outputs": [
    {
     "name": "stdout",
     "output_type": "stream",
     "text": [
      "<class 'pandas.core.frame.DataFrame'>\n",
      "Index: 928075 entries, 0 to 930619\n",
      "Data columns (total 2 columns):\n",
      "grab           928075 non-null datetime64[ns, Europe/London]\n",
      "appointment    928075 non-null datetime64[ns, Europe/London]\n",
      "dtypes: datetime64[ns, Europe/London](2)\n",
      "memory usage: 21.2+ MB\n"
     ]
    }
   ],
   "source": [
    "timegrid = get_timegrid(df)\n",
    "timegrid.info()"
   ]
  },
  {
   "cell_type": "markdown",
   "metadata": {},
   "source": [
    "## Restricting to a smaller dataset\n",
    "For **speed**, we will work on a subset of the original dataset."
   ]
  },
  {
   "cell_type": "code",
   "execution_count": 21,
   "metadata": {},
   "outputs": [],
   "source": [
    "selected_centers = [10254, 10263] #[10254] #  list(center_test_types.index)[0:5] # [10254, 10336, 10299]\n",
    "df = df.loc[df['id'].apply(lambda x: x in selected_centers), df.columns]"
   ]
  },
  {
   "cell_type": "markdown",
   "metadata": {},
   "source": [
    "### Calculate history of dataset\n",
    "*This may take a little while.*"
   ]
  },
  {
   "cell_type": "code",
   "execution_count": 22,
   "metadata": {},
   "outputs": [
    {
     "name": "stdout",
     "output_type": "stream",
     "text": [
      "Time: 14:06:33\n",
      "CPU times: user 1min 19s, sys: 2.07 s, total: 1min 21s\n",
      "Wall time: 1min 21s\n"
     ]
    }
   ],
   "source": [
    "%%time\n",
    "print(datetime.datetime.now().strftime(\"Time: %H:%M:%S\"))\n",
    "df_history = get_history(df, timegrid)"
   ]
  },
  {
   "cell_type": "code",
   "execution_count": null,
   "metadata": {},
   "outputs": [],
   "source": []
  },
  {
   "cell_type": "code",
   "execution_count": 23,
   "metadata": {},
   "outputs": [
    {
     "name": "stdout",
     "output_type": "stream",
     "text": [
      "14:07:54\n",
      "Center: 10263\n",
      "Test type: Blood Test\n",
      "Test type: INR Test\n",
      "CPU times: user 74.9 ms, sys: 3.25 ms, total: 78.2 ms\n",
      "Wall time: 75.5 ms\n"
     ]
    },
    {
     "data": {
      "image/png": "[encoded data removed]",
      "text/plain": [
       "<Figure size 1152x432 with 1 Axes>"
      ]
     },
     "metadata": {
      "needs_background": "light"
     },
     "output_type": "display_data"
    },
    {
     "data": {
      "image/png": "[encoded data removed]",
      "text/plain": [
       "<Figure size 1152x432 with 1 Axes>"
      ]
     },
     "metadata": {
      "needs_background": "light"
     },
     "output_type": "display_data"
    }
   ],
   "source": [
    "%%time\n",
    "print(datetime.datetime.now().strftime(\"%H:%M:%S\"))\n",
    "for center_id in selected_centers[1:2]:\n",
    "    #break\n",
    "    print(\"Center: {0}\".format(center_id))\n",
    "    for test_type in list(center_test_types.loc[center_id])[0]:\n",
    "        print(\"Test type: {0}\".format(test_type))\n",
    "        df_filtered = filter_center(df_history, center_id, test_type)\n",
    "        df_filtered.iloc[0]#['id']\n",
    "        UHCW_plot(\n",
    "            df_filtered.loc[:, ['id', 'test type', 'appointment', 'grab', 'action']],\n",
    "            x_freq=\"W\",\n",
    "            y_freq=\"H\",\n",
    "            savefigure=False\n",
    "        );"
   ]
  },
  {
   "cell_type": "markdown",
   "metadata": {},
   "source": [
    "Record time of end of script:"
   ]
  },
  {
   "cell_type": "code",
   "execution_count": 24,
   "metadata": {},
   "outputs": [],
   "source": [
    "end_script = datetime.datetime.now()"
   ]
  },
  {
   "cell_type": "code",
   "execution_count": 25,
   "metadata": {},
   "outputs": [],
   "source": [
    "run_time = end_script - beg_script"
   ]
  },
  {
   "cell_type": "code",
   "execution_count": 26,
   "metadata": {},
   "outputs": [
    {
     "name": "stdout",
     "output_type": "stream",
     "text": [
      "5min 52sec\n"
     ]
    }
   ],
   "source": [
    "print(\"{0}min {1}sec\".format(run_time.seconds//60, run_time.seconds%60))"
   ]
  }
 ],
 "metadata": {
  "kernelspec": {
   "display_name": "Python 3",
   "language": "python",
   "name": "python3"
  },
  "language_info": {
   "codemirror_mode": {
    "name": "ipython",
    "version": 3
   },
   "file_extension": ".py",
   "mimetype": "text/x-python",
   "name": "python",
   "nbconvert_exporter": "python",
   "pygments_lexer": "ipython3",
   "version": "3.7.1"
  }
 },
 "nbformat": 4,
 "nbformat_minor": 2
}

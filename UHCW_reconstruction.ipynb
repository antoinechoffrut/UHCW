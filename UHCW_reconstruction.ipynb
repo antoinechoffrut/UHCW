{
 "cells": [
  {
   "cell_type": "markdown",
   "metadata": {},
   "source": [
    "# Reconstructing the booking history of the *UHCW* dataset\n",
    "The [University Hospitals - Coventry & Warwickshire](https://www.uhcw.nhs.uk) (UHCW) has set up an online [portal](https://www.swiftqueue.co.uk/uhcw.php) to facilitate the booking of blood tests appointments in 18 centers around Coventry (UK).  \n",
    "\n",
    "\n",
    "Available appointments have been recorded in the dataset `appointments.csv`.  A preliminary investigation of the dataset is done in `UHCW_EDA.ipynb`.\n",
    "\n",
    "In this notebook we reconstruct the booking history of all appointments in all centers."
   ]
  },
  {
   "cell_type": "markdown",
   "metadata": {},
   "source": [
    "## Imports"
   ]
  },
  {
   "cell_type": "code",
   "execution_count": 1,
   "metadata": {},
   "outputs": [],
   "source": [
    "import os\n",
    "import pandas as pd\n",
    "import datetime\n",
    "import matplotlib.pyplot as plt\n",
    "%matplotlib inline"
   ]
  },
  {
   "cell_type": "markdown",
   "metadata": {},
   "source": [
    "## Helper functions"
   ]
  },
  {
   "cell_type": "code",
   "execution_count": 2,
   "metadata": {},
   "outputs": [],
   "source": [
    "def cartesianProduct(left, right):\n",
    "    \"\"\"Returns Cartesian product of dataframe.\n",
    "    From https://stackoverflow.com/a/53699013/9472676 with some arrangement:\n",
    "    \"\"\"\n",
    "    # Rename columns if \"key\" already exists.\n",
    "    if \"key\" in list(left.columns):\n",
    "        key_x = \"key_x\"\n",
    "    else:\n",
    "        key_x = \"\"\n",
    "    if \"key\" in list(right.columns):\n",
    "        key_y = \"key_x\"\n",
    "    else:\n",
    "        key_y = \"\"\n",
    "    new_key = hash(\"\".join(list(left.columns) + list(right.columns)))\n",
    "    left.rename(index=str, columns={\"key\": str(new_key)}, inplace=True)\n",
    "    right.rename(index=str, columns={\"key\": str(new_key)}, inplace=True)\n",
    "    # Calculate Cartesian product\n",
    "    df_cartesian = left.assign(key=1).merge(\n",
    "        right.assign(key=1), on='key'\n",
    "    ).drop('key', 1)\n",
    "    # Rename columns back to \"key\" if they had been changed\n",
    "    left.rename(index=str, columns={str(new_key): \"key\"}, inplace=True)\n",
    "    right.rename(index=str, columns={str(new_key): \"key\"}, inplace=True)\n",
    "    if (key_x != \"\") and (key_y != \"\"):\n",
    "        df_cartesian.rename(index=str, columns={str(new_key)+\"_x\": \"key_x\"}, inplace=True)\n",
    "        df_cartesian.rename(index=str, columns={str(new_key)+\"_y\": \"key_y\"}, inplace=True)\n",
    "    else:\n",
    "        df_cartesian.rename(index=str, columns={str(new_key): \"key\"}, inplace=True)\n",
    "    return df_cartesian\n"
   ]
  },
  {
   "cell_type": "code",
   "execution_count": 3,
   "metadata": {},
   "outputs": [],
   "source": [
    "def spot_action(df, col='key'):\n",
    "    \"\"\"\n",
    "    Detects booking and cancellation of dataframe.\n",
    "    \n",
    "    Parameter\n",
    "    ---------\n",
    "    df: dataframe with 0's and 1's\n",
    "    \n",
    "    Returns\n",
    "    -------\n",
    "    df, modified in place, replacing a transition from 0 to 1 with \"cancel\",\n",
    "    a transition from 1 to 0 with \"book\",\n",
    "    and \"none\" otherwise.\n",
    "    \"\"\"\n",
    "    df[col] = df[col] - df[col].shift(1)\n",
    "    df[col].fillna(method='bfill', inplace=True)\n",
    "    df[col] = df[col].astype(int)\n",
    "    df[col] = df[col].apply(lambda delta: \"cancel\" if delta == 1 else (\"book\" if delta == -1 else \"none\"))\n",
    "    return df"
   ]
  },
  {
   "cell_type": "markdown",
   "metadata": {},
   "source": [
    "## Data\n",
    "Read in the `csv` file."
   ]
  },
  {
   "cell_type": "code",
   "execution_count": 4,
   "metadata": {},
   "outputs": [
    {
     "name": "stdout",
     "output_type": "stream",
     "text": [
      "Wednesday 06 February 2019, 10:51:01\n",
      "Size of data file: 291MB.\n",
      "Loading data...\n",
      "Number of records: 5117059.\n",
      "Column names:\n",
      "appointment timestamp\n",
      "center age group\n",
      "center id\n",
      "test type\n",
      "grab timestamp\n",
      "CPU times: user 2.62 s, sys: 191 ms, total: 2.81 s\n",
      "Wall time: 2.81 s\n"
     ]
    }
   ],
   "source": [
    "%%time\n",
    "print(datetime.datetime.now().strftime(\"%A %d %B %Y, %H:%M:%S\"))\n",
    "filename = 'sample_appointments.csv'  # appointments.csv\n",
    "foldername = 'Data/UHCW'\n",
    "filepath = os.path.join(os.path.expanduser(\"~\"), foldername, filename)\n",
    "\n",
    "filesize = os.path.getsize(filepath)\n",
    "if filesize > 1e6:\n",
    "    print(\"Size of data file: {}MB.\".format(filesize//1000000))\n",
    "elif filesize > 1e3:\n",
    "    print(\"Size of data file: {}KB.\".format(filesize//1000))\n",
    "else:\n",
    "    print(\"Size of data file: {}B.\".format(filesize))\n",
    "print(\"Loading data...\")\n",
    "raw_data = pd.read_csv(filepath, sep=';')\n",
    "print(\"Number of records: {0}.\".format(raw_data.shape[0]))\n",
    "print(\"Column names:\\n{}\".format(\"\\n\".join(raw_data.columns)))"
   ]
  },
  {
   "cell_type": "markdown",
   "metadata": {},
   "source": [
    "Work with a copy `df` of the `raw_data` dataframe."
   ]
  },
  {
   "cell_type": "code",
   "execution_count": 5,
   "metadata": {},
   "outputs": [
    {
     "name": "stdout",
     "output_type": "stream",
     "text": [
      "Wednesday 06 February 2019, 10:51:09\n",
      "CPU times: user 1.81 s, sys: 182 ms, total: 2 s\n",
      "Wall time: 1.99 s\n"
     ]
    }
   ],
   "source": [
    "%%time\n",
    "print(datetime.datetime.now().strftime(\"%A %d %B %Y, %H:%M:%S\"))\n",
    "\n",
    "df = raw_data.copy()\n",
    "df = df[['appointment timestamp', 'center id', 'center age group', 'test type', 'grab timestamp']]\n",
    "df.columns = ['appointment', 'id', 'age group', 'test type', 'grab']\n",
    "df['appointment'] = pd.to_datetime(df['appointment'])\n",
    "df['grab'] = pd.to_datetime(df['grab'])\n",
    "df = df[['id', 'test type', 'age group', 'grab', 'appointment']]"
   ]
  },
  {
   "cell_type": "markdown",
   "metadata": {},
   "source": [
    "## Drop *age group* \n",
    "In `UHCW_EDA.ipynb` we have noted that each center serves exactly one age group, so we will ignore the column `age group`:"
   ]
  },
  {
   "cell_type": "code",
   "execution_count": 6,
   "metadata": {},
   "outputs": [],
   "source": [
    "df.drop('age group', axis=1, inplace=True)"
   ]
  },
  {
   "cell_type": "markdown",
   "metadata": {},
   "source": [
    "## Working on a restricted dataset\n",
    "Also in `UHCW_EDA.ipynb`, we have noted that test center `10254` delivers only one test type and has the smallest number of records across all centers.\n",
    "Therefore, for the sake of simplicity, we will begin with a restricted set containing only the data for center `10254`.\n",
    "In a second phase, we will consider center `10352` which delivers two test types and has the smallest number of records given its number of test types."
   ]
  },
  {
   "cell_type": "code",
   "execution_count": 9,
   "metadata": {},
   "outputs": [],
   "source": [
    "selected_centers = [10352] # [10254] # [10254, 10352]"
   ]
  },
  {
   "cell_type": "code",
   "execution_count": null,
   "metadata": {},
   "outputs": [],
   "source": [
    "df0 = df.loc[df['id'].apply(lambda x: x in selected_centers), df.columns]"
   ]
  },
  {
   "cell_type": "markdown",
   "metadata": {},
   "source": [
    "## Sorting for convenience of reading"
   ]
  },
  {
   "cell_type": "code",
   "execution_count": null,
   "metadata": {},
   "outputs": [],
   "source": [
    "df0.sort_values(['id', 'test type', 'appointment', 'grab'], inplace=True)"
   ]
  },
  {
   "cell_type": "markdown",
   "metadata": {},
   "source": [
    "## Selecting an appointment"
   ]
  },
  {
   "cell_type": "markdown",
   "metadata": {},
   "source": [
    "We will sometimes inspect one particular appointment.  Indeed, closer inspection of the dataset (not shown in `UHCW_EDA.ipynb`) reveals that the following appointment has been cancelled - and booked again."
   ]
  },
  {
   "cell_type": "code",
   "execution_count": 8,
   "metadata": {},
   "outputs": [],
   "source": [
    "selected_appointment = datetime.datetime(2019, 1, 17, 11, 30)"
   ]
  },
  {
   "cell_type": "code",
   "execution_count": null,
   "metadata": {},
   "outputs": [],
   "source": [
    "df0[df0['appointment'] == selected_appointment].head()"
   ]
  },
  {
   "cell_type": "markdown",
   "metadata": {},
   "source": [
    "## Generating the \"schedule\"\n",
    "It turns out that the `selected_appointment` was initially not available, butr then later became available.  That is, it had been already booked at the beginning of the dataset and was subsequently cancelled.  To detect this, we generate the `schedule`, that is, the full list of (`grab`, `appointment`) pairs (where `grab` does not occur after `appointment`) from the original dataset `df`.  \n",
    "\n",
    "We first generate the full list of `grab` timestamps:"
   ]
  },
  {
   "cell_type": "code",
   "execution_count": 10,
   "metadata": {},
   "outputs": [
    {
     "name": "stdout",
     "output_type": "stream",
     "text": [
      "Wednesday 06 February 2019, 10:51:55\n",
      "CPU times: user 42.9 ms, sys: 4.56 ms, total: 47.4 ms\n",
      "Wall time: 45.7 ms\n"
     ]
    }
   ],
   "source": [
    "%%time\n",
    "print(datetime.datetime.now().strftime(\"%A %d %B %Y, %H:%M:%S\"))\n",
    "grabs = pd.DataFrame()\n",
    "grabs['grab'] = df['grab'].drop_duplicates().reset_index(drop=True).sort_values(ascending=True)"
   ]
  },
  {
   "cell_type": "markdown",
   "metadata": {},
   "source": [
    "then the full list of `appointment` timestamps:"
   ]
  },
  {
   "cell_type": "code",
   "execution_count": 11,
   "metadata": {},
   "outputs": [
    {
     "name": "stdout",
     "output_type": "stream",
     "text": [
      "Wednesday 06 February 2019, 10:51:57\n",
      "CPU times: user 60.5 ms, sys: 6.44 ms, total: 67 ms\n",
      "Wall time: 64.9 ms\n"
     ]
    }
   ],
   "source": [
    "%%time\n",
    "print(datetime.datetime.now().strftime(\"%A %d %B %Y, %H:%M:%S\"))\n",
    "appointments = pd.DataFrame()\n",
    "appointments['appointment'] = df['appointment'].drop_duplicates().reset_index(drop=True).sort_values(ascending=True)"
   ]
  },
  {
   "cell_type": "markdown",
   "metadata": {},
   "source": [
    "Then we calculate their Cartesian product and keep only the relevant side of the diagonal:"
   ]
  },
  {
   "cell_type": "code",
   "execution_count": 12,
   "metadata": {},
   "outputs": [
    {
     "name": "stdout",
     "output_type": "stream",
     "text": [
      "Wednesday 06 February 2019, 10:52:07\n",
      "CPU times: user 591 ms, sys: 73.1 ms, total: 664 ms\n",
      "Wall time: 662 ms\n"
     ]
    }
   ],
   "source": [
    "%%time\n",
    "print(datetime.datetime.now().strftime(\"%A %d %B %Y, %H:%M:%S\"))\n",
    "schedule = cartesianProduct(grabs, appointments)\n",
    "schedule.query('grab <= appointment', inplace=True)"
   ]
  },
  {
   "cell_type": "markdown",
   "metadata": {},
   "source": [
    "By inspection we may now see the `grab` timestamps which are missing in `df` for the `selected_appointment`:"
   ]
  },
  {
   "cell_type": "code",
   "execution_count": null,
   "metadata": {},
   "outputs": [],
   "source": [
    "schedule[schedule['appointment'] == selected_appointment].head()"
   ]
  },
  {
   "cell_type": "markdown",
   "metadata": {},
   "source": [
    "Now we compare `df0` against `schedule` to spot the missing rows:"
   ]
  },
  {
   "cell_type": "code",
   "execution_count": null,
   "metadata": {},
   "outputs": [],
   "source": [
    "%%time\n",
    "print(datetime.datetime.now().strftime(\"%A %d %B %Y, %H:%M:%S\"))\n",
    "df0_compare = pd.merge(\n",
    "    schedule,\n",
    "    df0[['grab', 'appointment']].assign(key=1),\n",
    "    on=['appointment', 'grab'],\n",
    "    how='outer'\n",
    ")\n",
    "df0_compare.fillna(0, inplace=True)\n",
    "df0_compare['key'] = df0_compare['key'].astype(int)"
   ]
  },
  {
   "cell_type": "markdown",
   "metadata": {},
   "source": [
    "A `0` indicates that the (`grab`, `appointment`) pair is missing in `df0`, and a `1` that it was there.  For instance, we can inspect the records corresponding to the `selected_appointment`:"
   ]
  },
  {
   "cell_type": "code",
   "execution_count": null,
   "metadata": {},
   "outputs": [],
   "source": [
    "df0_compare[df0_compare['appointment'] == selected_appointment].head()"
   ]
  },
  {
   "cell_type": "markdown",
   "metadata": {},
   "source": [
    "A transition from `0` to `1` represents a cancellation, and a transition from `1` to `0` represents a booking:"
   ]
  },
  {
   "cell_type": "code",
   "execution_count": null,
   "metadata": {},
   "outputs": [],
   "source": [
    "%%time\n",
    "print(datetime.datetime.now().strftime(\"%A %d %B %Y, %H:%M:%S\"))\n",
    "\n",
    "df0_action = df0_compare.groupby(['appointment']).apply(spot_action)"
   ]
  },
  {
   "cell_type": "markdown",
   "metadata": {},
   "source": [
    "To get the history we filter out the rows with `none`:"
   ]
  },
  {
   "cell_type": "code",
   "execution_count": null,
   "metadata": {},
   "outputs": [],
   "source": [
    "df0_history = df0_action.loc[df0_action['key'] != \"none\", :]"
   ]
  },
  {
   "cell_type": "markdown",
   "metadata": {},
   "source": [
    "Finally we extract the booking history for the `selected_appointment`:"
   ]
  },
  {
   "cell_type": "code",
   "execution_count": null,
   "metadata": {},
   "outputs": [],
   "source": [
    "df0_history[df0_history['appointment'] == selected_appointment]"
   ]
  },
  {
   "cell_type": "markdown",
   "metadata": {},
   "source": [
    "We can visualize the booking history for all the appointments at the selected center, where bookings are in blue and cancellations in red:"
   ]
  },
  {
   "cell_type": "code",
   "execution_count": null,
   "metadata": {},
   "outputs": [],
   "source": [
    "df0_bookings = df0_history.loc[df0_history['key'] == 'book', ['appointment', 'grab']]\n",
    "df0_cancellations = df0_history.loc[df0_history['key'] == 'cancel', ['appointment', 'grab']]"
   ]
  },
  {
   "cell_type": "code",
   "execution_count": null,
   "metadata": {
    "scrolled": true
   },
   "outputs": [],
   "source": [
    "fig, ax = plt.subplots(figsize=(16, 6));\n",
    "df0_bookings.plot(x='appointment', y='grab', style='.b', ax=ax);\n",
    "df0_cancellations.plot(x='appointment', y='grab', style='.r', ax=ax);\n",
    "ax.set_xlabel(\"appointment\");\n",
    "ax.set_ylabel(\"booking/cancellation\");\n",
    "ax.get_legend().remove()\n",
    "ax.set_title(\"Booking & cancellation history for center {}\".format(selected_centers[0]), fontsize=18);\n",
    "ax.grid()"
   ]
  },
  {
   "cell_type": "markdown",
   "metadata": {},
   "source": [
    "<font size=6>*To be contined.*</font>"
   ]
  },
  {
   "cell_type": "markdown",
   "metadata": {},
   "source": [
    "# Reconstruct *entire* booking history (of *all* appointments in *all* centers)?"
   ]
  },
  {
   "cell_type": "markdown",
   "metadata": {},
   "source": [
    "We will now revisit what we did above for one test center in a way that will make it possible to apply to the entire dataset.  First, we restrict `df` to a smaller subset (e.g. records for one test center):"
   ]
  },
  {
   "cell_type": "code",
   "execution_count": 13,
   "metadata": {},
   "outputs": [],
   "source": [
    "df = df.loc[df['id'].apply(lambda x: x in selected_centers), df.columns]"
   ]
  },
  {
   "cell_type": "markdown",
   "metadata": {},
   "source": [
    "We duplicate `schedule`, one for each (`id`, `test type`) pair: "
   ]
  },
  {
   "cell_type": "code",
   "execution_count": 14,
   "metadata": {},
   "outputs": [
    {
     "name": "stdout",
     "output_type": "stream",
     "text": [
      "Wednesday 06 February 2019, 10:53:41\n",
      "CPU times: user 107 ms, sys: 36 ms, total: 143 ms\n",
      "Wall time: 141 ms\n"
     ]
    }
   ],
   "source": [
    "%%time \n",
    "print(datetime.datetime.now().strftime(\"%A %d %B %Y, %H:%M:%S\"))\n",
    "schedule_duplicate = pd.concat(\n",
    "    [schedule.assign(id=id_item).assign(type=type_item)\n",
    "     for id_item in list(df['id'].unique())\n",
    "     for type_item in list(df['test type'].unique())\n",
    "     ]\n",
    "    )"
   ]
  },
  {
   "cell_type": "code",
   "execution_count": 15,
   "metadata": {},
   "outputs": [
    {
     "name": "stdout",
     "output_type": "stream",
     "text": [
      "Wednesday 06 February 2019, 10:53:44\n",
      "CPU times: user 298 ms, sys: 18.9 ms, total: 317 ms\n",
      "Wall time: 315 ms\n"
     ]
    }
   ],
   "source": [
    "%%time\n",
    "print(datetime.datetime.now().strftime(\"%A %d %B %Y, %H:%M:%S\"))\n",
    "schedule_duplicate.rename(index=str, columns={'type': 'test type'}, inplace=True)"
   ]
  },
  {
   "cell_type": "code",
   "execution_count": 16,
   "metadata": {},
   "outputs": [
    {
     "name": "stdout",
     "output_type": "stream",
     "text": [
      "Wednesday 06 February 2019, 10:53:48\n",
      "CPU times: user 25.2 ms, sys: 4.08 ms, total: 29.2 ms\n",
      "Wall time: 27.5 ms\n"
     ]
    }
   ],
   "source": [
    "%%time\n",
    "print(datetime.datetime.now().strftime(\"%A %d %B %Y, %H:%M:%S\"))\n",
    "schedule_duplicate = schedule_duplicate[['id', 'test type', 'grab', 'appointment']]"
   ]
  },
  {
   "cell_type": "code",
   "execution_count": 17,
   "metadata": {},
   "outputs": [
    {
     "name": "stdout",
     "output_type": "stream",
     "text": [
      "Wednesday 06 February 2019, 10:53:50\n",
      "CPU times: user 391 ms, sys: 90 ms, total: 481 ms\n",
      "Wall time: 478 ms\n"
     ]
    }
   ],
   "source": [
    "%%time\n",
    "print(datetime.datetime.now().strftime(\"%A %d %B %Y, %H:%M:%S\"))\n",
    "schedule_duplicate.sort_values(['id', 'test type', 'grab', 'appointment'],\n",
    "    inplace=True\n",
    ")"
   ]
  },
  {
   "cell_type": "code",
   "execution_count": 18,
   "metadata": {},
   "outputs": [
    {
     "name": "stdout",
     "output_type": "stream",
     "text": [
      "<class 'pandas.core.frame.DataFrame'>\n",
      "Index: 928075 entries, 0 to 930619\n",
      "Data columns (total 2 columns):\n",
      "grab           928075 non-null datetime64[ns]\n",
      "appointment    928075 non-null datetime64[ns]\n",
      "dtypes: datetime64[ns](2)\n",
      "memory usage: 21.2+ MB\n"
     ]
    }
   ],
   "source": [
    "schedule.info()"
   ]
  },
  {
   "cell_type": "code",
   "execution_count": 19,
   "metadata": {},
   "outputs": [
    {
     "name": "stdout",
     "output_type": "stream",
     "text": [
      "<class 'pandas.core.frame.DataFrame'>\n",
      "Index: 1856150 entries, 0 to 930619\n",
      "Data columns (total 4 columns):\n",
      "id             int64\n",
      "test type      object\n",
      "grab           datetime64[ns]\n",
      "appointment    datetime64[ns]\n",
      "dtypes: datetime64[ns](2), int64(1), object(1)\n",
      "memory usage: 70.8+ MB\n"
     ]
    }
   ],
   "source": [
    "schedule_duplicate.info()"
   ]
  },
  {
   "cell_type": "markdown",
   "metadata": {},
   "source": [
    "If we are working with only one test center which delivers only one `test type`, `schedule` and `schedule_duplicate` are essentially the same:"
   ]
  },
  {
   "cell_type": "code",
   "execution_count": null,
   "metadata": {},
   "outputs": [],
   "source": [
    "schedule_duplicate[['grab', 'appointment']].equals(schedule)"
   ]
  },
  {
   "cell_type": "markdown",
   "metadata": {},
   "source": [
    "The only difference is that `schedule_duplicate` contains extra columns with `id` and `test type`:"
   ]
  },
  {
   "cell_type": "code",
   "execution_count": null,
   "metadata": {},
   "outputs": [],
   "source": [
    "schedule_duplicate[schedule_duplicate['appointment'] == selected_appointment].head()"
   ]
  },
  {
   "cell_type": "markdown",
   "metadata": {},
   "source": [
    "We now compare the recorded data in `df` against the schedule:"
   ]
  },
  {
   "cell_type": "code",
   "execution_count": 20,
   "metadata": {},
   "outputs": [
    {
     "name": "stdout",
     "output_type": "stream",
     "text": [
      "Wednesday 06 February 2019, 10:55:48\n",
      "CPU times: user 400 ms, sys: 101 ms, total: 501 ms\n",
      "Wall time: 498 ms\n"
     ]
    }
   ],
   "source": [
    "%%time\n",
    "print(datetime.datetime.now().strftime(\"%A %d %B %Y, %H:%M:%S\"))\n",
    "df_compare = pd.merge(\n",
    "    schedule_duplicate,\n",
    "    df.assign(key=1),\n",
    "    on=['id', 'test type', 'appointment', 'grab'],\n",
    "    how='outer'\n",
    ")\n",
    "df_compare.fillna(0, inplace=True)\n",
    "df_compare['key'] = df_compare['key'].astype(int)"
   ]
  },
  {
   "cell_type": "code",
   "execution_count": 21,
   "metadata": {},
   "outputs": [
    {
     "data": {
      "text/html": [
       "<div>\n",
       "<style scoped>\n",
       "    .dataframe tbody tr th:only-of-type {\n",
       "        vertical-align: middle;\n",
       "    }\n",
       "\n",
       "    .dataframe tbody tr th {\n",
       "        vertical-align: top;\n",
       "    }\n",
       "\n",
       "    .dataframe thead th {\n",
       "        text-align: right;\n",
       "    }\n",
       "</style>\n",
       "<table border=\"1\" class=\"dataframe\">\n",
       "  <thead>\n",
       "    <tr style=\"text-align: right;\">\n",
       "      <th></th>\n",
       "      <th>id</th>\n",
       "      <th>test type</th>\n",
       "      <th>grab</th>\n",
       "      <th>appointment</th>\n",
       "      <th>key</th>\n",
       "    </tr>\n",
       "  </thead>\n",
       "  <tbody>\n",
       "    <tr>\n",
       "      <th>181</th>\n",
       "      <td>10352</td>\n",
       "      <td>Blood Test</td>\n",
       "      <td>2019-01-15 13:40:00</td>\n",
       "      <td>2019-01-17 11:30:00</td>\n",
       "      <td>0</td>\n",
       "    </tr>\n",
       "    <tr>\n",
       "      <th>9977</th>\n",
       "      <td>10352</td>\n",
       "      <td>Blood Test</td>\n",
       "      <td>2019-01-15 13:50:00</td>\n",
       "      <td>2019-01-17 11:30:00</td>\n",
       "      <td>0</td>\n",
       "    </tr>\n",
       "    <tr>\n",
       "      <th>19773</th>\n",
       "      <td>10352</td>\n",
       "      <td>Blood Test</td>\n",
       "      <td>2019-01-15 14:00:00</td>\n",
       "      <td>2019-01-17 11:30:00</td>\n",
       "      <td>0</td>\n",
       "    </tr>\n",
       "    <tr>\n",
       "      <th>29569</th>\n",
       "      <td>10352</td>\n",
       "      <td>Blood Test</td>\n",
       "      <td>2019-01-15 14:10:00</td>\n",
       "      <td>2019-01-17 11:30:00</td>\n",
       "      <td>0</td>\n",
       "    </tr>\n",
       "    <tr>\n",
       "      <th>39365</th>\n",
       "      <td>10352</td>\n",
       "      <td>Blood Test</td>\n",
       "      <td>2019-01-15 14:20:00</td>\n",
       "      <td>2019-01-17 11:30:00</td>\n",
       "      <td>0</td>\n",
       "    </tr>\n",
       "  </tbody>\n",
       "</table>\n",
       "</div>"
      ],
      "text/plain": [
       "          id   test type                grab         appointment  key\n",
       "181    10352  Blood Test 2019-01-15 13:40:00 2019-01-17 11:30:00    0\n",
       "9977   10352  Blood Test 2019-01-15 13:50:00 2019-01-17 11:30:00    0\n",
       "19773  10352  Blood Test 2019-01-15 14:00:00 2019-01-17 11:30:00    0\n",
       "29569  10352  Blood Test 2019-01-15 14:10:00 2019-01-17 11:30:00    0\n",
       "39365  10352  Blood Test 2019-01-15 14:20:00 2019-01-17 11:30:00    0"
      ]
     },
     "execution_count": 21,
     "metadata": {},
     "output_type": "execute_result"
    }
   ],
   "source": [
    "df_compare[\n",
    "    (df_compare['appointment'] == selected_appointment)\n",
    "    & (df_compare['id'] == selected_centers[0])\n",
    "].head()"
   ]
  },
  {
   "cell_type": "markdown",
   "metadata": {},
   "source": [
    "Calculate the booking history:"
   ]
  },
  {
   "cell_type": "code",
   "execution_count": 22,
   "metadata": {},
   "outputs": [
    {
     "name": "stdout",
     "output_type": "stream",
     "text": [
      "Wednesday 06 February 2019, 10:56:18\n",
      "CPU times: user 32.1 s, sys: 585 ms, total: 32.6 s\n",
      "Wall time: 32.4 s\n"
     ]
    }
   ],
   "source": [
    "%%time\n",
    "print(datetime.datetime.now().strftime(\"%A %d %B %Y, %H:%M:%S\"))\n",
    "\n",
    "df_action = df_compare.groupby(['id', 'test type', 'appointment']).apply(spot_action)"
   ]
  },
  {
   "cell_type": "code",
   "execution_count": 23,
   "metadata": {},
   "outputs": [],
   "source": [
    "df_history = df_action.loc[df_action['key'] != \"none\", :]"
   ]
  },
  {
   "cell_type": "code",
   "execution_count": 25,
   "metadata": {},
   "outputs": [
    {
     "name": "stdout",
     "output_type": "stream",
     "text": [
      "<class 'pandas.core.frame.DataFrame'>\n",
      "Int64Index: 97 entries, 30446 to 1846525\n",
      "Data columns (total 5 columns):\n",
      "id             97 non-null int64\n",
      "test type      97 non-null object\n",
      "grab           97 non-null datetime64[ns]\n",
      "appointment    97 non-null datetime64[ns]\n",
      "key            97 non-null object\n",
      "dtypes: datetime64[ns](2), int64(1), object(2)\n",
      "memory usage: 4.5+ KB\n"
     ]
    }
   ],
   "source": [
    "df_history.info()"
   ]
  },
  {
   "cell_type": "code",
   "execution_count": 26,
   "metadata": {},
   "outputs": [],
   "source": [
    "df_bookings = df_history.loc[df_history['key'] == 'book', ['id', 'test type', 'appointment', 'grab']]\n",
    "df_cancellations = df_history.loc[df_history['key'] == 'cancel', ['id', 'test type', 'appointment', 'grab']]"
   ]
  },
  {
   "cell_type": "code",
   "execution_count": 32,
   "metadata": {},
   "outputs": [
    {
     "data": {
      "image/png": "[encoded data removed]",
      "text/plain": [
       "<Figure size 1152x432 with 1 Axes>"
      ]
     },
     "metadata": {
      "needs_background": "light"
     },
     "output_type": "display_data"
    }
   ],
   "source": [
    "fig, ax = plt.subplots(figsize=(16, 6));\n",
    "df_bookings.query('appointment < datetime.datetime(2019, 2, 1)').plot(x='appointment', y='grab', style='+b', ax=ax);\n",
    "df_cancellations.query('appointment < datetime.datetime(2019, 2, 1)').plot(x='appointment', y='grab', style='+r', ax=ax);\n",
    "ax.set_xlabel(\"appointment\");\n",
    "ax.set_ylabel(\"booking/cancellation\");\n",
    "ax.get_legend().remove()\n",
    "ax.set_title(\"Booking & cancellation history for center {}\".format(selected_centers[0]), fontsize=18);\n",
    "ax.grid()"
   ]
  },
  {
   "cell_type": "code",
   "execution_count": null,
   "metadata": {},
   "outputs": [],
   "source": []
  },
  {
   "cell_type": "code",
   "execution_count": null,
   "metadata": {},
   "outputs": [],
   "source": []
  },
  {
   "cell_type": "markdown",
   "metadata": {},
   "source": [
    "==============================================================================="
   ]
  },
  {
   "cell_type": "markdown",
   "metadata": {},
   "source": [
    "==============================================================================="
   ]
  },
  {
   "cell_type": "markdown",
   "metadata": {},
   "source": [
    "Inspect the records for the selected center and selected appointment:"
   ]
  },
  {
   "cell_type": "code",
   "execution_count": null,
   "metadata": {},
   "outputs": [],
   "source": [
    "df_history[\n",
    "    (df_history['appointment'] == selected_appointment)\n",
    "    &\n",
    "    (df_history['id'] == selected_centers[0])\n",
    "].head()"
   ]
  },
  {
   "cell_type": "markdown",
   "metadata": {},
   "source": [
    "We recover the same results as in our preliminary investigation."
   ]
  },
  {
   "cell_type": "markdown",
   "metadata": {},
   "source": [
    "==============================================================================="
   ]
  },
  {
   "cell_type": "code",
   "execution_count": null,
   "metadata": {},
   "outputs": [],
   "source": [
    "df0_cart = schedule_duplicate[schedule_duplicate['appointment'] == selected_appointment]"
   ]
  },
  {
   "cell_type": "code",
   "execution_count": null,
   "metadata": {},
   "outputs": [],
   "source": [
    "df0 = df[df['appointment'] == selected_appointment]"
   ]
  },
  {
   "cell_type": "code",
   "execution_count": null,
   "metadata": {},
   "outputs": [],
   "source": [
    "df0.assign(key=1).head()"
   ]
  },
  {
   "cell_type": "code",
   "execution_count": null,
   "metadata": {},
   "outputs": [],
   "source": [
    "%%time\n",
    "print(datetime.datetime.now().strftime(\"%A %d %B %Y, %H:%M:%S\"))\n",
    "df_compare = pd.merge(\n",
    "    schedule_duplicate,\n",
    "    df.assign(key=1),\n",
    "    on=['id', 'test type', 'appointment', 'grab'],\n",
    "    how='outer'\n",
    ")"
   ]
  },
  {
   "cell_type": "code",
   "execution_count": null,
   "metadata": {},
   "outputs": [],
   "source": [
    "df_compare[df_compare['appointment'] == selected_appointment].head()"
   ]
  },
  {
   "cell_type": "code",
   "execution_count": null,
   "metadata": {},
   "outputs": [],
   "source": [
    "#%%time\n",
    "#print(datetime.datetime.now().strftime(\"%A %d %B %Y, %H:%M:%S\"))\n",
    "#df_compare = pd.merge(\n",
    "#    df.assign(key=1),\n",
    "#    schedule_duplicate,\n",
    "#    how='outer',\n",
    "#    #how='right',\n",
    "#    #left_on=['grab', 'appointment', 'id', 'test type'],\n",
    "#    #right_on=['grab', 'appointment', 'id', 'test type']\n",
    "##    on=['id', 'test type', 'appointment', 'grab']\n",
    "#    #on=['appointment', 'grab']\n",
    "#)"
   ]
  },
  {
   "cell_type": "code",
   "execution_count": null,
   "metadata": {},
   "outputs": [],
   "source": [
    "%%time\n",
    "print(datetime.datetime.now().strftime(\"%A %d %B %Y, %H:%M:%S\"))\n",
    "\n",
    "df_compare.fillna(0, inplace=True)"
   ]
  },
  {
   "cell_type": "code",
   "execution_count": null,
   "metadata": {},
   "outputs": [],
   "source": [
    "df_compare[df_compare['appointment'] == selected_appointment].head()"
   ]
  },
  {
   "cell_type": "code",
   "execution_count": null,
   "metadata": {},
   "outputs": [],
   "source": [
    "%%time\n",
    "print(datetime.datetime.now().strftime(\"%A %d %B %Y, %H:%M:%S\"))\n",
    "df_compare['key'] = df_compare['key'].astype(int)"
   ]
  },
  {
   "cell_type": "code",
   "execution_count": null,
   "metadata": {},
   "outputs": [],
   "source": [
    "df_compare[df_compare['appointment'] == selected_appointment].head()"
   ]
  },
  {
   "cell_type": "code",
   "execution_count": null,
   "metadata": {},
   "outputs": [],
   "source": [
    "%%time\n",
    "print(datetime.datetime.now().strftime(\"%A %d %B %Y, %H:%M:%S\"))\n",
    "\n",
    "df_action = df_compare.groupby(['id', 'test type', 'appointment']).apply(spot_action)"
   ]
  },
  {
   "cell_type": "code",
   "execution_count": null,
   "metadata": {},
   "outputs": [],
   "source": [
    "df_action[df_action['appointment'] == selected_appointment].head()"
   ]
  },
  {
   "cell_type": "code",
   "execution_count": null,
   "metadata": {},
   "outputs": [],
   "source": [
    "df_history = df_action.loc[df_action['key'] != \"none\", :]"
   ]
  },
  {
   "cell_type": "code",
   "execution_count": null,
   "metadata": {},
   "outputs": [],
   "source": [
    "df_history.info()"
   ]
  },
  {
   "cell_type": "code",
   "execution_count": null,
   "metadata": {},
   "outputs": [],
   "source": [
    "df_history[df_history['appointment'] == selected_appointment]"
   ]
  }
 ],
 "metadata": {
  "kernelspec": {
   "display_name": "Python 3",
   "language": "python",
   "name": "python3"
  },
  "language_info": {
   "codemirror_mode": {
    "name": "ipython",
    "version": 3
   },
   "file_extension": ".py",
   "mimetype": "text/x-python",
   "name": "python",
   "nbconvert_exporter": "python",
   "pygments_lexer": "ipython3",
   "version": "3.7.1"
  }
 },
 "nbformat": 4,
 "nbformat_minor": 2
}

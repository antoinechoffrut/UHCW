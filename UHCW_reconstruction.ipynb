{
 "cells": [
  {
   "cell_type": "markdown",
   "metadata": {},
   "source": [
    "# Reconstructing the booking history of the *UHCW* dataset\n",
    "The [University Hospitals - Coventry & Warwickshire](https://www.uhcw.nhs.uk) (UHCW) has set up an online [portal](https://www.swiftqueue.co.uk/uhcw.php) to facilitate the booking of blood tests appointments in 18 centers around Coventry (UK).  \n",
    "\n",
    "\n",
    "Available appointments have been recorded in the dataset `appointments.csv`.  A preliminary investigation of the dataset is done in `UHCW_EDA.ipynb`.\n",
    "\n",
    "In this notebook we reconstruct the booking history of all appointments in all centers."
   ]
  },
  {
   "cell_type": "markdown",
   "metadata": {},
   "source": [
    "## Imports"
   ]
  },
  {
   "cell_type": "code",
   "execution_count": 1,
   "metadata": {},
   "outputs": [],
   "source": [
    "import os\n",
    "import pandas as pd\n",
    "import datetime\n",
    "import pytz\n",
    "import matplotlib.pyplot as plt\n",
    "%matplotlib inline"
   ]
  },
  {
   "cell_type": "markdown",
   "metadata": {},
   "source": [
    "## Constants"
   ]
  },
  {
   "cell_type": "code",
   "execution_count": 2,
   "metadata": {},
   "outputs": [],
   "source": [
    "tz_utc = pytz.timezone(\"UTC\")  # timestamp is in UTC standard\n",
    "tz_london = pytz.timezone(\"Europe/London\")  # test centers are in Coventry, UK"
   ]
  },
  {
   "cell_type": "markdown",
   "metadata": {},
   "source": [
    "## Helper functions"
   ]
  },
  {
   "cell_type": "code",
   "execution_count": 3,
   "metadata": {},
   "outputs": [],
   "source": [
    "def cartesianProduct(left, right):\n",
    "    \"\"\"Returns Cartesian product of dataframe.\n",
    "    From https://stackoverflow.com/a/53699013/9472676 with some arrangement:\n",
    "    \"\"\"\n",
    "    # Rename columns if \"key\" already exists.\n",
    "    if \"key\" in list(left.columns):\n",
    "        key_x = \"key_x\"\n",
    "    else:\n",
    "        key_x = \"\"\n",
    "    if \"key\" in list(right.columns):\n",
    "        key_y = \"key_x\"\n",
    "    else:\n",
    "        key_y = \"\"\n",
    "    new_key = hash(\"\".join(list(left.columns) + list(right.columns)))\n",
    "    left.rename(index=str, columns={\"key\": str(new_key)}, inplace=True)\n",
    "    right.rename(index=str, columns={\"key\": str(new_key)}, inplace=True)\n",
    "    # Calculate Cartesian product\n",
    "    df_cartesian = left.assign(key=1).merge(\n",
    "        right.assign(key=1), on='key'\n",
    "    ).drop('key', 1)\n",
    "    # Rename columns back to \"key\" if they had been changed\n",
    "    left.rename(index=str, columns={str(new_key): \"key\"}, inplace=True)\n",
    "    right.rename(index=str, columns={str(new_key): \"key\"}, inplace=True)\n",
    "    if (key_x != \"\") and (key_y != \"\"):\n",
    "        df_cartesian.rename(index=str, columns={str(new_key)+\"_x\": \"key_x\"}, inplace=True)\n",
    "        df_cartesian.rename(index=str, columns={str(new_key)+\"_y\": \"key_y\"}, inplace=True)\n",
    "    else:\n",
    "        df_cartesian.rename(index=str, columns={str(new_key): \"key\"}, inplace=True)\n",
    "    return df_cartesian\n"
   ]
  },
  {
   "cell_type": "code",
   "execution_count": 4,
   "metadata": {},
   "outputs": [],
   "source": [
    "def spot_action(df, col='key'):\n",
    "    \"\"\"\n",
    "    Detects booking and cancellation of dataframe.\n",
    "    \n",
    "    Parameter\n",
    "    ---------\n",
    "    df: dataframe with 0's and 1's\n",
    "    \n",
    "    Returns\n",
    "    -------\n",
    "    df, modified in place, replacing a transition from 0 to 1 with \"cancel\",\n",
    "    a transition from 1 to 0 with \"book\",\n",
    "    and \"none\" otherwise.\n",
    "    \"\"\"\n",
    "    df[col] = df[col] - df[col].shift(1)\n",
    "    df[col].fillna(method='bfill', inplace=True)\n",
    "    df[col] = df[col].astype(int)\n",
    "    df[col] = df[col].apply(lambda delta: \"cancel\" if delta == 1 else (\"book\" if delta == -1 else \"none\"))\n",
    "    return df"
   ]
  },
  {
   "cell_type": "markdown",
   "metadata": {},
   "source": [
    "## Data\n",
    "Read in the `csv` file."
   ]
  },
  {
   "cell_type": "code",
   "execution_count": 5,
   "metadata": {},
   "outputs": [
    {
     "name": "stdout",
     "output_type": "stream",
     "text": [
      "Thursday 07 February 2019, 23:51:09\n",
      "Size of data file: 291MB.\n",
      "Loading data...\n",
      "Number of records: 5117059.\n",
      "Column names:\n",
      "appointment timestamp\n",
      "center age group\n",
      "center id\n",
      "test type\n",
      "grab timestamp\n",
      "CPU times: user 2.74 s, sys: 220 ms, total: 2.96 s\n",
      "Wall time: 2.96 s\n"
     ]
    }
   ],
   "source": [
    "%%time\n",
    "print(datetime.datetime.now().strftime(\"%A %d %B %Y, %H:%M:%S\"))\n",
    "filename = 'sample_appointments.csv'  # appointments.csv\n",
    "foldername = 'Data/UHCW'\n",
    "filepath = os.path.join(os.path.expanduser(\"~\"), foldername, filename)\n",
    "\n",
    "filesize = os.path.getsize(filepath)\n",
    "if filesize > 1e6:\n",
    "    print(\"Size of data file: {}MB.\".format(filesize//1000000))\n",
    "elif filesize > 1e3:\n",
    "    print(\"Size of data file: {}KB.\".format(filesize//1000))\n",
    "else:\n",
    "    print(\"Size of data file: {}B.\".format(filesize))\n",
    "print(\"Loading data...\")\n",
    "raw_data = pd.read_csv(filepath, sep=';')\n",
    "print(\"Number of records: {0}.\".format(raw_data.shape[0]))\n",
    "print(\"Column names:\\n{}\".format(\"\\n\".join(raw_data.columns)))"
   ]
  },
  {
   "cell_type": "markdown",
   "metadata": {},
   "source": [
    "Work with a copy `df` of the `raw_data` dataframe."
   ]
  },
  {
   "cell_type": "code",
   "execution_count": 6,
   "metadata": {},
   "outputs": [
    {
     "name": "stdout",
     "output_type": "stream",
     "text": [
      "Thursday 07 February 2019, 23:51:12\n",
      "CPU times: user 4min 21s, sys: 4.95 s, total: 4min 26s\n",
      "Wall time: 4min 23s\n"
     ]
    }
   ],
   "source": [
    "%%time\n",
    "print(datetime.datetime.now().strftime(\"%A %d %B %Y, %H:%M:%S\"))\n",
    "\n",
    "df = raw_data.copy()\n",
    "df = df[['appointment timestamp', 'center id', 'center age group', 'test type', 'grab timestamp']]\n",
    "df.columns = ['appointment', 'id', 'age group', 'test type', 'grab']\n",
    "df['appointment'] = pd.to_datetime(df['appointment'])\n",
    "df['appointment'] = df['appointment'].apply(lambda ts: ts.tz_localize(tz_london))\n",
    "df['grab'] = pd.to_datetime(df['grab'])\n",
    "df['grab'] = df['grab'].apply(lambda ts: ts.tz_localize(tz_utc).tz_convert(tz_london))\n",
    "\n",
    "df = df[['id', 'test type', 'age group', 'grab', 'appointment']]"
   ]
  },
  {
   "cell_type": "markdown",
   "metadata": {},
   "source": [
    "## Drop column `age group` \n",
    "In `UHCW_EDA.ipynb` we have noted that each center serves exactly one age group, so we will ignore the column `age group`:"
   ]
  },
  {
   "cell_type": "code",
   "execution_count": 7,
   "metadata": {},
   "outputs": [],
   "source": [
    "df.drop('age group', axis=1, inplace=True)"
   ]
  },
  {
   "cell_type": "markdown",
   "metadata": {},
   "source": [
    "## Working on a restricted dataset\n",
    "Also in `UHCW_EDA.ipynb`, we have noted that test center `10254` delivers only one test type and has the smallest number of records across all centers.\n",
    "Therefore, for the sake of simplicity, we will begin with a restricted set containing only the data for center `10254`.\n",
    "In a second phase, we will consider center `10352` which delivers two test types and has the smallest number of records given its number of test types."
   ]
  },
  {
   "cell_type": "code",
   "execution_count": 8,
   "metadata": {},
   "outputs": [],
   "source": [
    "selected_centers = [10254, 10352] # [10352] # [10254] # "
   ]
  },
  {
   "cell_type": "code",
   "execution_count": 9,
   "metadata": {},
   "outputs": [],
   "source": [
    "df0 = df.loc[df['id'].apply(lambda x: x == selected_centers[0]), df.columns]"
   ]
  },
  {
   "cell_type": "markdown",
   "metadata": {},
   "source": [
    "## Sorting for convenience of reading"
   ]
  },
  {
   "cell_type": "code",
   "execution_count": 10,
   "metadata": {},
   "outputs": [],
   "source": [
    "df0.sort_values(['id', 'test type', 'appointment', 'grab'], inplace=True)"
   ]
  },
  {
   "cell_type": "markdown",
   "metadata": {},
   "source": [
    "## Selecting an appointment"
   ]
  },
  {
   "cell_type": "markdown",
   "metadata": {},
   "source": [
    "We will sometimes inspect one particular appointment.  Indeed, closer inspection of the dataset (not shown in `UHCW_EDA.ipynb`) reveals that the following appointment has been cancelled - and booked again."
   ]
  },
  {
   "cell_type": "code",
   "execution_count": 11,
   "metadata": {},
   "outputs": [],
   "source": [
    "selected_appointment = pd.Timestamp(datetime.datetime(2019, 1, 17, 11, 30)).tz_localize(tz_london)"
   ]
  },
  {
   "cell_type": "code",
   "execution_count": 12,
   "metadata": {},
   "outputs": [
    {
     "data": {
      "text/html": [
       "<div>\n",
       "<style scoped>\n",
       "    .dataframe tbody tr th:only-of-type {\n",
       "        vertical-align: middle;\n",
       "    }\n",
       "\n",
       "    .dataframe tbody tr th {\n",
       "        vertical-align: top;\n",
       "    }\n",
       "\n",
       "    .dataframe thead th {\n",
       "        text-align: right;\n",
       "    }\n",
       "</style>\n",
       "<table border=\"1\" class=\"dataframe\">\n",
       "  <thead>\n",
       "    <tr style=\"text-align: right;\">\n",
       "      <th></th>\n",
       "      <th>id</th>\n",
       "      <th>test type</th>\n",
       "      <th>grab</th>\n",
       "      <th>appointment</th>\n",
       "    </tr>\n",
       "  </thead>\n",
       "  <tbody>\n",
       "    <tr>\n",
       "      <th>213759</th>\n",
       "      <td>10254</td>\n",
       "      <td>Blood Test</td>\n",
       "      <td>2019-01-15 14:10:00+00:00</td>\n",
       "      <td>2019-01-17 11:30:00+00:00</td>\n",
       "    </tr>\n",
       "    <tr>\n",
       "      <th>267453</th>\n",
       "      <td>10254</td>\n",
       "      <td>Blood Test</td>\n",
       "      <td>2019-01-15 14:20:00+00:00</td>\n",
       "      <td>2019-01-17 11:30:00+00:00</td>\n",
       "    </tr>\n",
       "    <tr>\n",
       "      <th>321128</th>\n",
       "      <td>10254</td>\n",
       "      <td>Blood Test</td>\n",
       "      <td>2019-01-15 14:30:00+00:00</td>\n",
       "      <td>2019-01-17 11:30:00+00:00</td>\n",
       "    </tr>\n",
       "    <tr>\n",
       "      <th>374779</th>\n",
       "      <td>10254</td>\n",
       "      <td>Blood Test</td>\n",
       "      <td>2019-01-15 14:40:00+00:00</td>\n",
       "      <td>2019-01-17 11:30:00+00:00</td>\n",
       "    </tr>\n",
       "    <tr>\n",
       "      <th>428669</th>\n",
       "      <td>10254</td>\n",
       "      <td>Blood Test</td>\n",
       "      <td>2019-01-15 14:50:00+00:00</td>\n",
       "      <td>2019-01-17 11:30:00+00:00</td>\n",
       "    </tr>\n",
       "  </tbody>\n",
       "</table>\n",
       "</div>"
      ],
      "text/plain": [
       "           id   test type                      grab               appointment\n",
       "213759  10254  Blood Test 2019-01-15 14:10:00+00:00 2019-01-17 11:30:00+00:00\n",
       "267453  10254  Blood Test 2019-01-15 14:20:00+00:00 2019-01-17 11:30:00+00:00\n",
       "321128  10254  Blood Test 2019-01-15 14:30:00+00:00 2019-01-17 11:30:00+00:00\n",
       "374779  10254  Blood Test 2019-01-15 14:40:00+00:00 2019-01-17 11:30:00+00:00\n",
       "428669  10254  Blood Test 2019-01-15 14:50:00+00:00 2019-01-17 11:30:00+00:00"
      ]
     },
     "execution_count": 12,
     "metadata": {},
     "output_type": "execute_result"
    }
   ],
   "source": [
    "df0[df0['appointment'] == selected_appointment].head()"
   ]
  },
  {
   "cell_type": "markdown",
   "metadata": {},
   "source": [
    "## Generating the \"schedule\"\n",
    "It turns out that the `selected_appointment` was initially not available, butr then later became available.  That is, it had been already booked at the beginning of the dataset and was subsequently cancelled.  To detect this, we generate the `schedule`, that is, the full list of (`grab`, `appointment`) pairs (where `grab` does not occur after `appointment`) from the original dataset `df`.  \n",
    "\n",
    "We first generate the full list of `grab` timestamps:"
   ]
  },
  {
   "cell_type": "code",
   "execution_count": 13,
   "metadata": {},
   "outputs": [
    {
     "name": "stdout",
     "output_type": "stream",
     "text": [
      "Thursday 07 February 2019, 23:55:38\n",
      "CPU times: user 34.6 ms, sys: 8.98 ms, total: 43.6 ms\n",
      "Wall time: 42 ms\n"
     ]
    }
   ],
   "source": [
    "%%time\n",
    "print(datetime.datetime.now().strftime(\"%A %d %B %Y, %H:%M:%S\"))\n",
    "grabs = pd.DataFrame()\n",
    "grabs['grab'] = df['grab'].drop_duplicates().reset_index(drop=True).sort_values(ascending=True)"
   ]
  },
  {
   "cell_type": "markdown",
   "metadata": {},
   "source": [
    "then the full list of `appointment` timestamps:"
   ]
  },
  {
   "cell_type": "code",
   "execution_count": 14,
   "metadata": {},
   "outputs": [
    {
     "name": "stdout",
     "output_type": "stream",
     "text": [
      "Thursday 07 February 2019, 23:55:38\n",
      "CPU times: user 55.5 ms, sys: 5.66 ms, total: 61.2 ms\n",
      "Wall time: 59.5 ms\n"
     ]
    }
   ],
   "source": [
    "%%time\n",
    "print(datetime.datetime.now().strftime(\"%A %d %B %Y, %H:%M:%S\"))\n",
    "appointments = pd.DataFrame()\n",
    "appointments['appointment'] = df['appointment'].drop_duplicates().reset_index(drop=True).sort_values(ascending=True)"
   ]
  },
  {
   "cell_type": "markdown",
   "metadata": {},
   "source": [
    "then their Cartesian product and keep only the relevant side of the diagonal:"
   ]
  },
  {
   "cell_type": "code",
   "execution_count": 15,
   "metadata": {},
   "outputs": [
    {
     "name": "stdout",
     "output_type": "stream",
     "text": [
      "Thursday 07 February 2019, 23:55:38\n",
      "CPU times: user 615 ms, sys: 63.3 ms, total: 679 ms\n",
      "Wall time: 675 ms\n"
     ]
    }
   ],
   "source": [
    "%%time\n",
    "print(datetime.datetime.now().strftime(\"%A %d %B %Y, %H:%M:%S\"))\n",
    "schedule = cartesianProduct(grabs, appointments)\n",
    "schedule.query('grab <= appointment', inplace=True)"
   ]
  },
  {
   "cell_type": "markdown",
   "metadata": {},
   "source": [
    "By inspection we may now see the `grab` timestamps which are missing in `df` for the `selected_appointment`:"
   ]
  },
  {
   "cell_type": "code",
   "execution_count": 16,
   "metadata": {},
   "outputs": [
    {
     "data": {
      "text/html": [
       "<div>\n",
       "<style scoped>\n",
       "    .dataframe tbody tr th:only-of-type {\n",
       "        vertical-align: middle;\n",
       "    }\n",
       "\n",
       "    .dataframe tbody tr th {\n",
       "        vertical-align: top;\n",
       "    }\n",
       "\n",
       "    .dataframe thead th {\n",
       "        text-align: right;\n",
       "    }\n",
       "</style>\n",
       "<table border=\"1\" class=\"dataframe\">\n",
       "  <thead>\n",
       "    <tr style=\"text-align: right;\">\n",
       "      <th></th>\n",
       "      <th>grab</th>\n",
       "      <th>appointment</th>\n",
       "    </tr>\n",
       "  </thead>\n",
       "  <tbody>\n",
       "    <tr>\n",
       "      <th>181</th>\n",
       "      <td>2019-01-15 13:40:00+00:00</td>\n",
       "      <td>2019-01-17 11:30:00+00:00</td>\n",
       "    </tr>\n",
       "    <tr>\n",
       "      <th>9977</th>\n",
       "      <td>2019-01-15 13:50:00+00:00</td>\n",
       "      <td>2019-01-17 11:30:00+00:00</td>\n",
       "    </tr>\n",
       "    <tr>\n",
       "      <th>19773</th>\n",
       "      <td>2019-01-15 14:00:00+00:00</td>\n",
       "      <td>2019-01-17 11:30:00+00:00</td>\n",
       "    </tr>\n",
       "    <tr>\n",
       "      <th>29569</th>\n",
       "      <td>2019-01-15 14:10:00+00:00</td>\n",
       "      <td>2019-01-17 11:30:00+00:00</td>\n",
       "    </tr>\n",
       "    <tr>\n",
       "      <th>39365</th>\n",
       "      <td>2019-01-15 14:20:00+00:00</td>\n",
       "      <td>2019-01-17 11:30:00+00:00</td>\n",
       "    </tr>\n",
       "  </tbody>\n",
       "</table>\n",
       "</div>"
      ],
      "text/plain": [
       "                           grab               appointment\n",
       "181   2019-01-15 13:40:00+00:00 2019-01-17 11:30:00+00:00\n",
       "9977  2019-01-15 13:50:00+00:00 2019-01-17 11:30:00+00:00\n",
       "19773 2019-01-15 14:00:00+00:00 2019-01-17 11:30:00+00:00\n",
       "29569 2019-01-15 14:10:00+00:00 2019-01-17 11:30:00+00:00\n",
       "39365 2019-01-15 14:20:00+00:00 2019-01-17 11:30:00+00:00"
      ]
     },
     "execution_count": 16,
     "metadata": {},
     "output_type": "execute_result"
    }
   ],
   "source": [
    "schedule[schedule['appointment'] == selected_appointment].head()"
   ]
  },
  {
   "cell_type": "markdown",
   "metadata": {},
   "source": [
    "Now we compare `df0` against `schedule` to spot the missing rows:"
   ]
  },
  {
   "cell_type": "code",
   "execution_count": 17,
   "metadata": {},
   "outputs": [
    {
     "name": "stdout",
     "output_type": "stream",
     "text": [
      "Thursday 07 February 2019, 23:55:38\n",
      "CPU times: user 135 ms, sys: 39.4 ms, total: 174 ms\n",
      "Wall time: 173 ms\n"
     ]
    }
   ],
   "source": [
    "%%time\n",
    "print(datetime.datetime.now().strftime(\"%A %d %B %Y, %H:%M:%S\"))\n",
    "df0_compare = pd.merge(\n",
    "    schedule,\n",
    "    df0[['grab', 'appointment']].assign(key=1),\n",
    "    on=['appointment', 'grab'],\n",
    "    how='outer'\n",
    ")\n",
    "df0_compare.fillna(0, inplace=True)\n",
    "df0_compare['key'] = df0_compare['key'].astype(int)"
   ]
  },
  {
   "cell_type": "markdown",
   "metadata": {},
   "source": [
    "A `0` indicates that the (`grab`, `appointment`) pair is missing in `df0`, and a `1` that it was there.  For instance, we can inspect the records corresponding to the `selected_appointment`:"
   ]
  },
  {
   "cell_type": "code",
   "execution_count": 18,
   "metadata": {},
   "outputs": [
    {
     "data": {
      "text/html": [
       "<div>\n",
       "<style scoped>\n",
       "    .dataframe tbody tr th:only-of-type {\n",
       "        vertical-align: middle;\n",
       "    }\n",
       "\n",
       "    .dataframe tbody tr th {\n",
       "        vertical-align: top;\n",
       "    }\n",
       "\n",
       "    .dataframe thead th {\n",
       "        text-align: right;\n",
       "    }\n",
       "</style>\n",
       "<table border=\"1\" class=\"dataframe\">\n",
       "  <thead>\n",
       "    <tr style=\"text-align: right;\">\n",
       "      <th></th>\n",
       "      <th>grab</th>\n",
       "      <th>appointment</th>\n",
       "      <th>key</th>\n",
       "    </tr>\n",
       "  </thead>\n",
       "  <tbody>\n",
       "    <tr>\n",
       "      <th>181</th>\n",
       "      <td>2019-01-15 13:40:00+00:00</td>\n",
       "      <td>2019-01-17 11:30:00+00:00</td>\n",
       "      <td>0</td>\n",
       "    </tr>\n",
       "    <tr>\n",
       "      <th>9977</th>\n",
       "      <td>2019-01-15 13:50:00+00:00</td>\n",
       "      <td>2019-01-17 11:30:00+00:00</td>\n",
       "      <td>0</td>\n",
       "    </tr>\n",
       "    <tr>\n",
       "      <th>19773</th>\n",
       "      <td>2019-01-15 14:00:00+00:00</td>\n",
       "      <td>2019-01-17 11:30:00+00:00</td>\n",
       "      <td>0</td>\n",
       "    </tr>\n",
       "    <tr>\n",
       "      <th>29569</th>\n",
       "      <td>2019-01-15 14:10:00+00:00</td>\n",
       "      <td>2019-01-17 11:30:00+00:00</td>\n",
       "      <td>1</td>\n",
       "    </tr>\n",
       "    <tr>\n",
       "      <th>39365</th>\n",
       "      <td>2019-01-15 14:20:00+00:00</td>\n",
       "      <td>2019-01-17 11:30:00+00:00</td>\n",
       "      <td>1</td>\n",
       "    </tr>\n",
       "  </tbody>\n",
       "</table>\n",
       "</div>"
      ],
      "text/plain": [
       "                           grab               appointment  key\n",
       "181   2019-01-15 13:40:00+00:00 2019-01-17 11:30:00+00:00    0\n",
       "9977  2019-01-15 13:50:00+00:00 2019-01-17 11:30:00+00:00    0\n",
       "19773 2019-01-15 14:00:00+00:00 2019-01-17 11:30:00+00:00    0\n",
       "29569 2019-01-15 14:10:00+00:00 2019-01-17 11:30:00+00:00    1\n",
       "39365 2019-01-15 14:20:00+00:00 2019-01-17 11:30:00+00:00    1"
      ]
     },
     "execution_count": 18,
     "metadata": {},
     "output_type": "execute_result"
    }
   ],
   "source": [
    "df0_compare[df0_compare['appointment'] == selected_appointment].head()"
   ]
  },
  {
   "cell_type": "markdown",
   "metadata": {},
   "source": [
    "A transition from `0` to `1` represents a cancellation, and a transition from `1` to `0` represents a booking:"
   ]
  },
  {
   "cell_type": "code",
   "execution_count": 19,
   "metadata": {},
   "outputs": [
    {
     "name": "stdout",
     "output_type": "stream",
     "text": [
      "Thursday 07 February 2019, 23:55:39\n",
      "CPU times: user 15.1 s, sys: 251 ms, total: 15.3 s\n",
      "Wall time: 15.2 s\n"
     ]
    }
   ],
   "source": [
    "%%time\n",
    "print(datetime.datetime.now().strftime(\"%A %d %B %Y, %H:%M:%S\"))\n",
    "\n",
    "df0_action = df0_compare.groupby(['appointment']).apply(spot_action)"
   ]
  },
  {
   "cell_type": "markdown",
   "metadata": {},
   "source": [
    "To get the history we filter out the rows with `none`:"
   ]
  },
  {
   "cell_type": "code",
   "execution_count": 20,
   "metadata": {},
   "outputs": [],
   "source": [
    "df0_history = df0_action.loc[df0_action['key'] != \"none\", :]"
   ]
  },
  {
   "cell_type": "markdown",
   "metadata": {},
   "source": [
    "Finally we extract the booking history for the `selected_appointment`:"
   ]
  },
  {
   "cell_type": "code",
   "execution_count": 21,
   "metadata": {},
   "outputs": [
    {
     "data": {
      "text/html": [
       "<div>\n",
       "<style scoped>\n",
       "    .dataframe tbody tr th:only-of-type {\n",
       "        vertical-align: middle;\n",
       "    }\n",
       "\n",
       "    .dataframe tbody tr th {\n",
       "        vertical-align: top;\n",
       "    }\n",
       "\n",
       "    .dataframe thead th {\n",
       "        text-align: right;\n",
       "    }\n",
       "</style>\n",
       "<table border=\"1\" class=\"dataframe\">\n",
       "  <thead>\n",
       "    <tr style=\"text-align: right;\">\n",
       "      <th></th>\n",
       "      <th>grab</th>\n",
       "      <th>appointment</th>\n",
       "      <th>key</th>\n",
       "    </tr>\n",
       "  </thead>\n",
       "  <tbody>\n",
       "    <tr>\n",
       "      <th>29569</th>\n",
       "      <td>2019-01-15 14:10:00+00:00</td>\n",
       "      <td>2019-01-17 11:30:00+00:00</td>\n",
       "      <td>cancel</td>\n",
       "    </tr>\n",
       "    <tr>\n",
       "      <th>782092</th>\n",
       "      <td>2019-01-16 10:50:00+00:00</td>\n",
       "      <td>2019-01-17 11:30:00+00:00</td>\n",
       "      <td>book</td>\n",
       "    </tr>\n",
       "  </tbody>\n",
       "</table>\n",
       "</div>"
      ],
      "text/plain": [
       "                            grab               appointment     key\n",
       "29569  2019-01-15 14:10:00+00:00 2019-01-17 11:30:00+00:00  cancel\n",
       "782092 2019-01-16 10:50:00+00:00 2019-01-17 11:30:00+00:00    book"
      ]
     },
     "execution_count": 21,
     "metadata": {},
     "output_type": "execute_result"
    }
   ],
   "source": [
    "df0_history[df0_history['appointment'] == selected_appointment]"
   ]
  },
  {
   "cell_type": "markdown",
   "metadata": {},
   "source": [
    "We can visualize the booking history for all the appointments at the selected center, where bookings are in blue and cancellations in red:"
   ]
  },
  {
   "cell_type": "code",
   "execution_count": 22,
   "metadata": {},
   "outputs": [],
   "source": [
    "df0_bookings = df0_history.loc[df0_history['key'] == 'book', ['appointment', 'grab']]\n",
    "df0_cancellations = df0_history.loc[df0_history['key'] == 'cancel', ['appointment', 'grab']]"
   ]
  },
  {
   "cell_type": "code",
   "execution_count": 23,
   "metadata": {},
   "outputs": [
    {
     "data": {
      "image/png": "[encoded data removed]",
      "text/plain": [
       "<Figure size 864x360 with 1 Axes>"
      ]
     },
     "metadata": {
      "needs_background": "light"
     },
     "output_type": "display_data"
    }
   ],
   "source": [
    "# Plot\n",
    "ax = df0_bookings.plot(\n",
    "    x='appointment', y='grab',\n",
    "    #style='.b', \n",
    "    **{\"marker\": \"+\", \"markersize\": 8, \"markeredgewidth\": 2, \"linestyle\": \"\"},\n",
    "    figsize=(12, 5)\n",
    ");\n",
    "df0_cancellations.plot(    \n",
    "    x='appointment', y='grab',\n",
    "    #style='.r', \n",
    "    **{\"marker\": \"+\", \"markersize\": 8, \"markeredgewidth\": 2, \"linestyle\": \"\"},\n",
    "    ax=ax\n",
    ");\n",
    "\n",
    "# x-labeling\n",
    "ax.set_xlabel(\"Appointment\");\n",
    "appt_min = df.loc[df['id'] == 10254, 'appointment'].min()\n",
    "appt_max = df.loc[df['id'] == 10254, 'appointment'].max()\n",
    "appt_date_range = pd.date_range(\n",
    "    pd.Timestamp(appt_min.year, appt_min.month, appt_min.day),\n",
    "    pd.Timestamp(appt_max.year, appt_max.month, appt_max.day),\n",
    "    freq=\"W-MON\"\n",
    ")\n",
    "appt_date_range = appt_date_range.append(\n",
    "    pd.DatetimeIndex([x.date() for x in [appt_min, appt_max]])\n",
    ")\n",
    "ax.set_xticks(appt_date_range);\n",
    "ax.set_xticklabels([pd.to_datetime(x).strftime(\"%d %b %Y\")\n",
    "                   for x in appt_date_range])\n",
    "\n",
    "# y-labeling\n",
    "ax.set_ylabel(\"Booking/cancellation\");\n",
    "grab_min = df['grab'].min()\n",
    "grab_max = df['grab'].max()\n",
    "grab_date_range = pd.date_range(\n",
    "    pd.Timestamp(grab_min.year, grab_min.month, grab_min.day, grab_min.hour-1), \n",
    "    pd.Timestamp(grab_max.year, grab_max.month, grab_max.day, grab_min.hour+3), \n",
    "    freq=\"3H\");\n",
    "ax.set_yticks(grab_date_range);\n",
    "ax.set_yticklabels([pd.to_datetime(x).strftime(\"%d %b %H:00\")\n",
    "                    if x.hour == 0\n",
    "                    else pd.to_datetime(x).strftime(\"%H:00\")\n",
    "                   for x in grab_date_range])\n",
    "\n",
    "# Further plot layout\n",
    "ax.get_legend().remove()\n",
    "ax.set_title(\"Booking (in blue) and cancellation (in red) history for center {}\".format(selected_centers[0]), fontsize=18);\n",
    "ax.grid()\n",
    "#plt.savefig(\"center-10254-history-with-artefacts.png\")"
   ]
  },
  {
   "cell_type": "markdown",
   "metadata": {},
   "source": [
    "---\n",
    "## Reconstruct *entire* booking history (of *all* appointments in *all* centers)\n",
    "\n",
    "We will now revisit what we did above for one test center in a way that will make it possible to apply to the entire dataset.  \n",
    "\n",
    "For speed, we restrict `df` to a smaller subset, namely to two centers:"
   ]
  },
  {
   "cell_type": "code",
   "execution_count": 24,
   "metadata": {},
   "outputs": [],
   "source": [
    "df = df.loc[df['id'].apply(lambda x: x in selected_centers), df.columns]"
   ]
  },
  {
   "cell_type": "markdown",
   "metadata": {},
   "source": [
    "We duplicate `schedule`, one for each (`id`, `test type`) pair: "
   ]
  },
  {
   "cell_type": "code",
   "execution_count": 25,
   "metadata": {},
   "outputs": [
    {
     "name": "stdout",
     "output_type": "stream",
     "text": [
      "Thursday 07 February 2019, 23:55:55\n",
      "<class 'pandas.core.frame.DataFrame'>\n",
      "Index: 3712300 entries, 0 to 930619\n",
      "Data columns (total 4 columns):\n",
      "id             int64\n",
      "test type      object\n",
      "grab           datetime64[ns, Europe/London]\n",
      "appointment    datetime64[ns, Europe/London]\n",
      "dtypes: datetime64[ns, Europe/London](2), int64(1), object(1)\n",
      "memory usage: 141.6+ MB\n",
      "CPU times: user 1.61 s, sys: 350 ms, total: 1.96 s\n",
      "Wall time: 1.96 s\n"
     ]
    }
   ],
   "source": [
    "%%time \n",
    "print(datetime.datetime.now().strftime(\"%A %d %B %Y, %H:%M:%S\"))\n",
    "schedule_duplicate = pd.concat(\n",
    "    [schedule.assign(id=id_item).assign(type=type_item)\n",
    "     for id_item in list(df['id'].unique())\n",
    "     for type_item in list(df['test type'].unique())\n",
    "     ]\n",
    "    )\n",
    "schedule_duplicate.rename(index=str, columns={'type': 'test type'}, inplace=True)\n",
    "schedule_duplicate = schedule_duplicate[['id', 'test type', 'grab', 'appointment']]\n",
    "schedule_duplicate.sort_values(['id', 'test type', 'grab', 'appointment'],\n",
    "    inplace=True\n",
    ")\n",
    "schedule_duplicate.info()"
   ]
  },
  {
   "cell_type": "markdown",
   "metadata": {},
   "source": [
    "We now compare the recorded data in `df` against the schedule:"
   ]
  },
  {
   "cell_type": "code",
   "execution_count": 26,
   "metadata": {},
   "outputs": [
    {
     "name": "stdout",
     "output_type": "stream",
     "text": [
      "Thursday 07 February 2019, 23:55:57\n",
      "CPU times: user 735 ms, sys: 210 ms, total: 945 ms\n",
      "Wall time: 942 ms\n"
     ]
    }
   ],
   "source": [
    "%%time\n",
    "print(datetime.datetime.now().strftime(\"%A %d %B %Y, %H:%M:%S\"))\n",
    "df_compare = pd.merge(\n",
    "    schedule_duplicate,\n",
    "    df.assign(key=1),\n",
    "    on=['id', 'test type', 'appointment', 'grab'],\n",
    "    how='outer'\n",
    ")\n",
    "df_compare.fillna(0, inplace=True)\n",
    "df_compare['key'] = df_compare['key'].astype(int)"
   ]
  },
  {
   "cell_type": "markdown",
   "metadata": {},
   "source": [
    "For example, we may verify that we obtain the same results as earlier, whenwe worked with the single test center 10254:"
   ]
  },
  {
   "cell_type": "code",
   "execution_count": 27,
   "metadata": {},
   "outputs": [
    {
     "data": {
      "text/html": [
       "<div>\n",
       "<style scoped>\n",
       "    .dataframe tbody tr th:only-of-type {\n",
       "        vertical-align: middle;\n",
       "    }\n",
       "\n",
       "    .dataframe tbody tr th {\n",
       "        vertical-align: top;\n",
       "    }\n",
       "\n",
       "    .dataframe thead th {\n",
       "        text-align: right;\n",
       "    }\n",
       "</style>\n",
       "<table border=\"1\" class=\"dataframe\">\n",
       "  <thead>\n",
       "    <tr style=\"text-align: right;\">\n",
       "      <th></th>\n",
       "      <th>id</th>\n",
       "      <th>test type</th>\n",
       "      <th>grab</th>\n",
       "      <th>appointment</th>\n",
       "      <th>key</th>\n",
       "    </tr>\n",
       "  </thead>\n",
       "  <tbody>\n",
       "    <tr>\n",
       "      <th>181</th>\n",
       "      <td>10254</td>\n",
       "      <td>Blood Test</td>\n",
       "      <td>2019-01-15 13:40:00+00:00</td>\n",
       "      <td>2019-01-17 11:30:00+00:00</td>\n",
       "      <td>0</td>\n",
       "    </tr>\n",
       "    <tr>\n",
       "      <th>9977</th>\n",
       "      <td>10254</td>\n",
       "      <td>Blood Test</td>\n",
       "      <td>2019-01-15 13:50:00+00:00</td>\n",
       "      <td>2019-01-17 11:30:00+00:00</td>\n",
       "      <td>0</td>\n",
       "    </tr>\n",
       "    <tr>\n",
       "      <th>19773</th>\n",
       "      <td>10254</td>\n",
       "      <td>Blood Test</td>\n",
       "      <td>2019-01-15 14:00:00+00:00</td>\n",
       "      <td>2019-01-17 11:30:00+00:00</td>\n",
       "      <td>0</td>\n",
       "    </tr>\n",
       "    <tr>\n",
       "      <th>29569</th>\n",
       "      <td>10254</td>\n",
       "      <td>Blood Test</td>\n",
       "      <td>2019-01-15 14:10:00+00:00</td>\n",
       "      <td>2019-01-17 11:30:00+00:00</td>\n",
       "      <td>1</td>\n",
       "    </tr>\n",
       "    <tr>\n",
       "      <th>39365</th>\n",
       "      <td>10254</td>\n",
       "      <td>Blood Test</td>\n",
       "      <td>2019-01-15 14:20:00+00:00</td>\n",
       "      <td>2019-01-17 11:30:00+00:00</td>\n",
       "      <td>1</td>\n",
       "    </tr>\n",
       "  </tbody>\n",
       "</table>\n",
       "</div>"
      ],
      "text/plain": [
       "          id   test type                      grab               appointment  \\\n",
       "181    10254  Blood Test 2019-01-15 13:40:00+00:00 2019-01-17 11:30:00+00:00   \n",
       "9977   10254  Blood Test 2019-01-15 13:50:00+00:00 2019-01-17 11:30:00+00:00   \n",
       "19773  10254  Blood Test 2019-01-15 14:00:00+00:00 2019-01-17 11:30:00+00:00   \n",
       "29569  10254  Blood Test 2019-01-15 14:10:00+00:00 2019-01-17 11:30:00+00:00   \n",
       "39365  10254  Blood Test 2019-01-15 14:20:00+00:00 2019-01-17 11:30:00+00:00   \n",
       "\n",
       "       key  \n",
       "181      0  \n",
       "9977     0  \n",
       "19773    0  \n",
       "29569    1  \n",
       "39365    1  "
      ]
     },
     "execution_count": 27,
     "metadata": {},
     "output_type": "execute_result"
    }
   ],
   "source": [
    "df_compare[\n",
    "    (df_compare['appointment'] == selected_appointment)\n",
    "    & (df_compare['id'] == selected_centers[0])\n",
    "].head()"
   ]
  },
  {
   "cell_type": "markdown",
   "metadata": {},
   "source": [
    "Calculate the booking history:"
   ]
  },
  {
   "cell_type": "code",
   "execution_count": 28,
   "metadata": {},
   "outputs": [
    {
     "name": "stdout",
     "output_type": "stream",
     "text": [
      "Thursday 07 February 2019, 23:55:58\n",
      "<class 'pandas.core.frame.DataFrame'>\n",
      "Int64Index: 114 entries, 20250 to 3702675\n",
      "Data columns (total 5 columns):\n",
      "id             114 non-null int64\n",
      "test type      114 non-null object\n",
      "grab           114 non-null datetime64[ns, Europe/London]\n",
      "appointment    114 non-null datetime64[ns, Europe/London]\n",
      "key            114 non-null object\n",
      "dtypes: datetime64[ns, Europe/London](2), int64(1), object(2)\n",
      "memory usage: 5.3+ KB\n",
      "CPU times: user 1min 13s, sys: 1.48 s, total: 1min 14s\n",
      "Wall time: 1min 14s\n"
     ]
    }
   ],
   "source": [
    "%%time\n",
    "print(datetime.datetime.now().strftime(\"%A %d %B %Y, %H:%M:%S\"))\n",
    "\n",
    "df_action = df_compare.groupby(['id', 'test type', 'appointment']).apply(spot_action)\n",
    "\n",
    "df_history = df_action.loc[df_action['key'] != \"none\", :]\n",
    "\n",
    "df_history.info()"
   ]
  },
  {
   "cell_type": "code",
   "execution_count": 29,
   "metadata": {},
   "outputs": [],
   "source": [
    "df_bookings = df_history.loc[df_history['key'] == 'book', ['id', 'test type', 'appointment', 'grab']]\n",
    "df_cancellations = df_history.loc[df_history['key'] == 'cancel', ['id', 'test type', 'appointment', 'grab']]"
   ]
  },
  {
   "cell_type": "code",
   "execution_count": 30,
   "metadata": {},
   "outputs": [
    {
     "data": {
      "image/png": "[encoded data removed]",
      "text/plain": [
       "<Figure size 1152x432 with 1 Axes>"
      ]
     },
     "metadata": {
      "needs_background": "light"
     },
     "output_type": "display_data"
    }
   ],
   "source": [
    "fig, ax = plt.subplots(figsize=(16, 6));\n",
    "df_bookings.plot(x='appointment', y='grab', style='+b', ax=ax);\n",
    "df_cancellations.plot(x='appointment', y='grab', style='+r', ax=ax);\n",
    "\n",
    "# x-labeling\n",
    "ax.set_xlabel(\"Appointment\");\n",
    "appt_min = df['appointment'].min()\n",
    "appt_max = df['appointment'].max()\n",
    "appt_date_range = pd.date_range(\n",
    "    pd.Timestamp(appt_min.year, appt_min.month, appt_min.day),\n",
    "    pd.Timestamp(appt_max.year, appt_max.month, appt_max.day),\n",
    "    freq=\"W-MON\"\n",
    ")\n",
    "appt_date_range = appt_date_range.append(\n",
    "    pd.DatetimeIndex([x.date() for x in [appt_min, appt_max]])\n",
    ")\n",
    "ax.set_xticks(appt_date_range);\n",
    "ax.set_xticklabels([pd.to_datetime(x).strftime(\"%d %b %Y\")\n",
    "                   for x in appt_date_range])\n",
    "\n",
    "# y-labeling\n",
    "ax.set_ylabel(\"Booking/cancellation\");\n",
    "grab_min = df['grab'].min()\n",
    "grab_max = df['grab'].max()\n",
    "grab_date_range = pd.date_range(\n",
    "    pd.Timestamp(grab_min.year, grab_min.month, grab_min.day, grab_min.hour-1), \n",
    "    pd.Timestamp(grab_max.year, grab_max.month, grab_max.day, grab_min.hour+3), \n",
    "    freq=\"3H\");\n",
    "ax.set_yticks(grab_date_range);\n",
    "ax.set_yticklabels([pd.to_datetime(x).strftime(\"%d %b %H:00\")\n",
    "                    if x.hour == 0\n",
    "                    else pd.to_datetime(x).strftime(\"%H:00\")\n",
    "                   for x in grab_date_range])\n",
    "\n",
    "\n",
    "ax.set_xlabel(\"Appointment\");\n",
    "ax.set_ylabel(\"Booking/cancellation\");\n",
    "ax.get_legend().remove()\n",
    "ax.set_title(\"Booking & cancellation history for centers {}\".format(selected_centers), fontsize=18);\n",
    "ax.grid()"
   ]
  },
  {
   "cell_type": "markdown",
   "metadata": {},
   "source": [
    "Let's zoom in on the first two weeks of appointments:"
   ]
  },
  {
   "cell_type": "code",
   "execution_count": 31,
   "metadata": {},
   "outputs": [],
   "source": [
    "dt = pd.Timedelta(\"15D\")\n",
    "last_appointment = (appointments.min() + dt)[0].tz_localize(tz_london)"
   ]
  },
  {
   "cell_type": "code",
   "execution_count": 32,
   "metadata": {},
   "outputs": [
    {
     "data": {
      "image/png": "[encoded data removed]",
      "text/plain": [
       "<Figure size 1152x432 with 1 Axes>"
      ]
     },
     "metadata": {
      "needs_background": "light"
     },
     "output_type": "display_data"
    }
   ],
   "source": [
    "fig, ax = plt.subplots(figsize=(16, 6));\n",
    "df_bookings.query('appointment < @last_appointment').plot(x='appointment', y='grab', style='+b', ax=ax);\n",
    "df_cancellations.query('appointment < @last_appointment').plot(x='appointment', y='grab', style='+r', ax=ax);\n",
    "\n",
    "\n",
    "# x-labeling\n",
    "ax.set_xlabel(\"Appointment\");\n",
    "appt_min = df_bookings.query('appointment < @last_appointment')['appointment'].min()\n",
    "appt_max = df_bookings.query('appointment < @last_appointment')['appointment'].max()\n",
    "appt_date_range = pd.date_range(\n",
    "    pd.Timestamp(appt_min.year, appt_min.month, appt_min.day),\n",
    "    pd.Timestamp(appt_max.year, appt_max.month, appt_max.day),\n",
    "    freq=\"W-MON\"\n",
    ")\n",
    "appt_date_range = appt_date_range.append(\n",
    "    pd.DatetimeIndex([x.date() for x in [appt_min, appt_max]])\n",
    ")\n",
    "ax.set_xticks(appt_date_range);\n",
    "ax.set_xticklabels([pd.to_datetime(x).strftime(\"%d %b %Y\")\n",
    "                   for x in appt_date_range])\n",
    "\n",
    "# y-labeling\n",
    "ax.set_ylabel(\"Booking/cancellation\");\n",
    "grab_min = df['grab'].min()\n",
    "grab_max = df['grab'].max()\n",
    "grab_date_range = pd.date_range(\n",
    "    pd.Timestamp(grab_min.year, grab_min.month, grab_min.day, grab_min.hour-1), \n",
    "    pd.Timestamp(grab_max.year, grab_max.month, grab_max.day, grab_min.hour+3), \n",
    "    freq=\"3H\");\n",
    "ax.set_yticks(grab_date_range);\n",
    "ax.set_yticklabels([pd.to_datetime(x).strftime(\"%d %b %H:00\")\n",
    "                    if x.hour == 0\n",
    "                    else pd.to_datetime(x).strftime(\"%H:00\")\n",
    "                   for x in grab_date_range])\n",
    "\n",
    "# Further plot layout\n",
    "ax.get_legend().remove()\n",
    "ax.set_title(\"Booking & cancellation history for centers {}\".format(selected_centers), fontsize=18);\n",
    "ax.grid()"
   ]
  },
  {
   "cell_type": "code",
   "execution_count": null,
   "metadata": {},
   "outputs": [],
   "source": []
  }
 ],
 "metadata": {
  "kernelspec": {
   "display_name": "Python 3",
   "language": "python",
   "name": "python3"
  },
  "language_info": {
   "codemirror_mode": {
    "name": "ipython",
    "version": 3
   },
   "file_extension": ".py",
   "mimetype": "text/x-python",
   "name": "python",
   "nbconvert_exporter": "python",
   "pygments_lexer": "ipython3",
   "version": "3.7.1"
  }
 },
 "nbformat": 4,
 "nbformat_minor": 2
}

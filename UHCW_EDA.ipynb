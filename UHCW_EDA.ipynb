{
 "cells": [
  {
   "cell_type": "markdown",
   "metadata": {},
   "source": [
    "# Preliminary investigation of the *UHCW* dataset\n",
    "The [University Hospitals - Coventry & Warwickshire](https://www.uhcw.nhs.uk) (UHCW) has set up an online [portal](https://www.swiftqueue.co.uk/uhcw.php) to facilitate the booking of blood tests appointments in 18 centers around Coventry (UK).  \n",
    "\n",
    "\n",
    "Available appointments have been recorded in the dataset `appointments.csv`. \n",
    "In this notebook we take a first look at this dataset."
   ]
  },
  {
   "cell_type": "markdown",
   "metadata": {},
   "source": [
    "## Imports"
   ]
  },
  {
   "cell_type": "code",
   "execution_count": 1,
   "metadata": {},
   "outputs": [],
   "source": [
    "import os\n",
    "import pandas as pd\n",
    "import numpy as np\n",
    "import datetime\n",
    "import matplotlib.pyplot as plt\n",
    "import matplotlib.ticker as tkr\n",
    "%matplotlib inline"
   ]
  },
  {
   "cell_type": "markdown",
   "metadata": {},
   "source": [
    "## Helper functions"
   ]
  },
  {
   "cell_type": "code",
   "execution_count": 2,
   "metadata": {},
   "outputs": [],
   "source": [
    "def cartesianProduct(left, right):\n",
    "    \"\"\"Returns Cartesian product of dataframe.\n",
    "    From https://stackoverflow.com/a/53699013/9472676 with some arrangement:\n",
    "    \"\"\"\n",
    "    # Rename columns if \"key\" already exists.\n",
    "    if \"key\" in list(left.columns):\n",
    "        key_x = \"key_x\"\n",
    "    else:\n",
    "        key_x = \"\"\n",
    "    if \"key\" in list(right.columns):\n",
    "        key_y = \"key_x\"\n",
    "    else:\n",
    "        key_y = \"\"\n",
    "    new_key = hash(\"\".join(list(left.columns) + list(right.columns)))\n",
    "    left.rename(index=str, columns={\"key\": str(new_key)}, inplace=True)\n",
    "    right.rename(index=str, columns={\"key\": str(new_key)}, inplace=True)\n",
    "    # Calculate Cartesian product\n",
    "    df_cartesian = left.assign(key=1).merge(\n",
    "        right.assign(key=1), on='key'\n",
    "    ).drop('key', 1)\n",
    "    # Rename columns back to \"key\" if they had been changed\n",
    "    left.rename(index=str, columns={str(new_key): \"key\"}, inplace=True)\n",
    "    right.rename(index=str, columns={str(new_key): \"key\"}, inplace=True)\n",
    "    if (key_x != \"\") and (key_y != \"\"):\n",
    "        df_cartesian.rename(index=str, columns={str(new_key)+\"_x\": \"key_x\"}, inplace=True)\n",
    "        df_cartesian.rename(index=str, columns={str(new_key)+\"_y\": \"key_y\"}, inplace=True)\n",
    "    else:\n",
    "        df_cartesian.rename(index=str, columns={str(new_key): \"key\"}, inplace=True)\n",
    "    return df_cartesian\n"
   ]
  },
  {
   "cell_type": "code",
   "execution_count": 3,
   "metadata": {},
   "outputs": [],
   "source": [
    "def spot_action(df, col='key'):\n",
    "    \"\"\"\n",
    "    Detects booking and cancellation of dataframe.\n",
    "    \n",
    "    Parameter\n",
    "    ---------\n",
    "    df: dataframe with 0's and 1's\n",
    "    \n",
    "    Returns\n",
    "    -------\n",
    "    df, modified in place, replacing a transition from 0 to 1 with \"cancel\",\n",
    "    a transition from 1 to 0 with \"book\",\n",
    "    and \"none\" otherwise.\n",
    "    \"\"\"\n",
    "    df[col] = df[col] - df[col].shift(1)\n",
    "    df[col].fillna(method='bfill', inplace=True)\n",
    "    df[col] = df[col].astype(int)\n",
    "    df[col] = df[col].apply(lambda delta: \"cancel\" if delta == -1 else (\"book\" if delta == 1 else \"none\"))\n",
    "    return df"
   ]
  },
  {
   "cell_type": "markdown",
   "metadata": {},
   "source": [
    "## Data\n",
    "Read in the `csv` file."
   ]
  },
  {
   "cell_type": "code",
   "execution_count": 4,
   "metadata": {},
   "outputs": [
    {
     "name": "stdout",
     "output_type": "stream",
     "text": [
      "Tuesday 05 February 2019, 22:42:10\n",
      "Size of data file: 291MB.\n",
      "Loading data...\n",
      "Number of records: 5117059.\n",
      "Column names:\n",
      "appointment timestamp\n",
      "center age group\n",
      "center id\n",
      "test type\n",
      "grab timestamp\n",
      "CPU times: user 2.71 s, sys: 207 ms, total: 2.92 s\n",
      "Wall time: 2.92 s\n"
     ]
    }
   ],
   "source": [
    "%%time\n",
    "print(datetime.datetime.now().strftime(\"%A %d %B %Y, %H:%M:%S\"))\n",
    "filename = 'sample_appointments.csv'  # appointments.csv\n",
    "foldername = 'Data/UHCW'\n",
    "filepath = os.path.join(os.path.expanduser(\"~\"), foldername, filename)\n",
    "\n",
    "filesize = os.path.getsize(filepath)\n",
    "if filesize > 1e6:\n",
    "    print(\"Size of data file: {}MB.\".format(filesize//1000000))\n",
    "elif filesize > 1e3:\n",
    "    print(\"Size of data file: {}KB.\".format(filesize//1000))\n",
    "else:\n",
    "    print(\"Size of data file: {}B.\".format(filesize))\n",
    "print(\"Loading data...\")\n",
    "raw_data = pd.read_csv(filepath, sep=';')\n",
    "print(\"Number of records: {0}.\".format(raw_data.shape[0]))\n",
    "print(\"Column names:\\n{}\".format(\"\\n\".join(raw_data.columns)))"
   ]
  },
  {
   "cell_type": "markdown",
   "metadata": {},
   "source": [
    "Work with a copy `df` of the `raw_data` dataframe."
   ]
  },
  {
   "cell_type": "code",
   "execution_count": 7,
   "metadata": {},
   "outputs": [
    {
     "name": "stdout",
     "output_type": "stream",
     "text": [
      "Tuesday 05 February 2019, 22:43:33\n",
      "CPU times: user 2.1 s, sys: 154 ms, total: 2.25 s\n",
      "Wall time: 2.25 s\n"
     ]
    }
   ],
   "source": [
    "%%time\n",
    "print(datetime.datetime.now().strftime(\"%A %d %B %Y, %H:%M:%S\"))\n",
    "\n",
    "df = raw_data.copy()\n",
    "df = df[['appointment timestamp', 'center id', 'center age group', 'test type', 'grab timestamp']]\n",
    "df.columns = ['appointment', 'id', 'age group', 'test type', 'grab']\n",
    "df['appointment'] = pd.to_datetime(df['appointment'])\n",
    "df['grab'] = pd.to_datetime(df['grab'])\n",
    "df = df[['id', 'test type', 'age group', 'grab', 'appointment']]"
   ]
  },
  {
   "cell_type": "markdown",
   "metadata": {},
   "source": [
    "## First observations"
   ]
  },
  {
   "cell_type": "code",
   "execution_count": null,
   "metadata": {},
   "outputs": [],
   "source": [
    "df.info()"
   ]
  },
  {
   "cell_type": "markdown",
   "metadata": {},
   "source": [
    "There are 18 test centers surving 2 age groups and 5 types of blood tests:"
   ]
  },
  {
   "cell_type": "code",
   "execution_count": null,
   "metadata": {},
   "outputs": [],
   "source": [
    "df[['id', 'age group', 'test type']].nunique()"
   ]
  },
  {
   "cell_type": "markdown",
   "metadata": {},
   "source": [
    "The age groups are \"child\" and \"adult\":"
   ]
  },
  {
   "cell_type": "code",
   "execution_count": null,
   "metadata": {},
   "outputs": [],
   "source": [
    "print(list(df['age group'].unique()))"
   ]
  },
  {
   "cell_type": "markdown",
   "metadata": {},
   "source": [
    "Each test center serves only one age group but delivers up to three types of blood test:"
   ]
  },
  {
   "cell_type": "code",
   "execution_count": null,
   "metadata": {},
   "outputs": [],
   "source": [
    "df.groupby('id')['age group'].unique()"
   ]
  },
  {
   "cell_type": "code",
   "execution_count": null,
   "metadata": {
    "scrolled": true
   },
   "outputs": [],
   "source": [
    "df.groupby('id')['test type'].unique()"
   ]
  },
  {
   "cell_type": "markdown",
   "metadata": {},
   "source": [
    "We can sort the test centers by number of test types:"
   ]
  },
  {
   "cell_type": "code",
   "execution_count": null,
   "metadata": {},
   "outputs": [],
   "source": [
    "df.groupby('id')['test type'].nunique().reset_index().sort_values(['test type', 'id'])"
   ]
  },
  {
   "cell_type": "markdown",
   "metadata": {},
   "source": [
    "We can sort the centers by their number of records:"
   ]
  },
  {
   "cell_type": "code",
   "execution_count": null,
   "metadata": {},
   "outputs": [],
   "source": [
    "df.groupby('id')['test type'].count().reset_index().sort_values(['test type', 'id'])"
   ]
  },
  {
   "cell_type": "markdown",
   "metadata": {},
   "source": [
    "We can combine these two in a new dataframe:"
   ]
  },
  {
   "cell_type": "code",
   "execution_count": null,
   "metadata": {},
   "outputs": [],
   "source": [
    "grouped_cid = df.groupby('id')\n",
    "df1 = grouped_cid['test type'].nunique().reset_index()\n",
    "df1['count'] = grouped_cid['test type'].count().reset_index()['test type']\n",
    "\n",
    "df1.sort_values(by=['test type', 'count'])"
   ]
  },
  {
   "cell_type": "markdown",
   "metadata": {},
   "source": [
    "## Drop *age group* \n",
    "We will not need the column `age group`:"
   ]
  },
  {
   "cell_type": "code",
   "execution_count": 8,
   "metadata": {},
   "outputs": [
    {
     "data": {
      "text/html": [
       "<div>\n",
       "<style scoped>\n",
       "    .dataframe tbody tr th:only-of-type {\n",
       "        vertical-align: middle;\n",
       "    }\n",
       "\n",
       "    .dataframe tbody tr th {\n",
       "        vertical-align: top;\n",
       "    }\n",
       "\n",
       "    .dataframe thead th {\n",
       "        text-align: right;\n",
       "    }\n",
       "</style>\n",
       "<table border=\"1\" class=\"dataframe\">\n",
       "  <thead>\n",
       "    <tr style=\"text-align: right;\">\n",
       "      <th></th>\n",
       "      <th>id</th>\n",
       "      <th>test type</th>\n",
       "      <th>grab</th>\n",
       "      <th>appointment</th>\n",
       "    </tr>\n",
       "  </thead>\n",
       "  <tbody>\n",
       "    <tr>\n",
       "      <th>0</th>\n",
       "      <td>10243</td>\n",
       "      <td>Blood Test</td>\n",
       "      <td>2019-01-15 13:40:00</td>\n",
       "      <td>2019-01-15 14:40:00</td>\n",
       "    </tr>\n",
       "    <tr>\n",
       "      <th>1</th>\n",
       "      <td>10243</td>\n",
       "      <td>Blood Test</td>\n",
       "      <td>2019-01-15 13:40:00</td>\n",
       "      <td>2019-01-15 14:45:00</td>\n",
       "    </tr>\n",
       "    <tr>\n",
       "      <th>2</th>\n",
       "      <td>10243</td>\n",
       "      <td>Blood Test</td>\n",
       "      <td>2019-01-15 13:40:00</td>\n",
       "      <td>2019-01-15 14:50:00</td>\n",
       "    </tr>\n",
       "    <tr>\n",
       "      <th>3</th>\n",
       "      <td>10243</td>\n",
       "      <td>Blood Test</td>\n",
       "      <td>2019-01-15 13:40:00</td>\n",
       "      <td>2019-01-15 14:55:00</td>\n",
       "    </tr>\n",
       "    <tr>\n",
       "      <th>4</th>\n",
       "      <td>10243</td>\n",
       "      <td>Blood Test</td>\n",
       "      <td>2019-01-15 13:40:00</td>\n",
       "      <td>2019-01-15 15:10:00</td>\n",
       "    </tr>\n",
       "  </tbody>\n",
       "</table>\n",
       "</div>"
      ],
      "text/plain": [
       "      id   test type                grab         appointment\n",
       "0  10243  Blood Test 2019-01-15 13:40:00 2019-01-15 14:40:00\n",
       "1  10243  Blood Test 2019-01-15 13:40:00 2019-01-15 14:45:00\n",
       "2  10243  Blood Test 2019-01-15 13:40:00 2019-01-15 14:50:00\n",
       "3  10243  Blood Test 2019-01-15 13:40:00 2019-01-15 14:55:00\n",
       "4  10243  Blood Test 2019-01-15 13:40:00 2019-01-15 15:10:00"
      ]
     },
     "execution_count": 8,
     "metadata": {},
     "output_type": "execute_result"
    }
   ],
   "source": [
    "df.drop('age group', axis=1, inplace=True)\n",
    "df.head()"
   ]
  },
  {
   "cell_type": "markdown",
   "metadata": {},
   "source": [
    "## Sort values for convenience of reading"
   ]
  },
  {
   "cell_type": "code",
   "execution_count": null,
   "metadata": {},
   "outputs": [],
   "source": [
    "df.sort_values(['id', 'test type', 'appointment', 'grab'], inplace=True)"
   ]
  },
  {
   "cell_type": "code",
   "execution_count": null,
   "metadata": {},
   "outputs": [],
   "source": [
    "df.head()"
   ]
  },
  {
   "cell_type": "markdown",
   "metadata": {},
   "source": [
    "## Restricted dataset\n",
    "For speed, we will restrict to a smaller subset: test center `10254` with only one test type and test center `10352` with two test types, and both have minimal number of records given their number of test types."
   ]
  },
  {
   "cell_type": "code",
   "execution_count": 9,
   "metadata": {},
   "outputs": [],
   "source": [
    "selected_centers = [10254] # [10254, 10352]"
   ]
  },
  {
   "cell_type": "code",
   "execution_count": 10,
   "metadata": {},
   "outputs": [],
   "source": [
    "df = df.loc[df['id'].apply(lambda x: x in selected_centers), :]"
   ]
  },
  {
   "cell_type": "markdown",
   "metadata": {},
   "source": [
    "We will also inspect one particular appointment:"
   ]
  },
  {
   "cell_type": "code",
   "execution_count": 11,
   "metadata": {},
   "outputs": [],
   "source": [
    "selected_appointment = datetime.datetime(2019, 1, 17, 11, 30)"
   ]
  },
  {
   "cell_type": "code",
   "execution_count": 13,
   "metadata": {},
   "outputs": [
    {
     "data": {
      "text/html": [
       "<div>\n",
       "<style scoped>\n",
       "    .dataframe tbody tr th:only-of-type {\n",
       "        vertical-align: middle;\n",
       "    }\n",
       "\n",
       "    .dataframe tbody tr th {\n",
       "        vertical-align: top;\n",
       "    }\n",
       "\n",
       "    .dataframe thead th {\n",
       "        text-align: right;\n",
       "    }\n",
       "</style>\n",
       "<table border=\"1\" class=\"dataframe\">\n",
       "  <thead>\n",
       "    <tr style=\"text-align: right;\">\n",
       "      <th></th>\n",
       "      <th>id</th>\n",
       "      <th>test type</th>\n",
       "      <th>grab</th>\n",
       "      <th>appointment</th>\n",
       "    </tr>\n",
       "  </thead>\n",
       "  <tbody>\n",
       "    <tr>\n",
       "      <th>213759</th>\n",
       "      <td>10254</td>\n",
       "      <td>Blood Test</td>\n",
       "      <td>2019-01-15 14:10:00</td>\n",
       "      <td>2019-01-17 11:30:00</td>\n",
       "    </tr>\n",
       "    <tr>\n",
       "      <th>267453</th>\n",
       "      <td>10254</td>\n",
       "      <td>Blood Test</td>\n",
       "      <td>2019-01-15 14:20:00</td>\n",
       "      <td>2019-01-17 11:30:00</td>\n",
       "    </tr>\n",
       "    <tr>\n",
       "      <th>321128</th>\n",
       "      <td>10254</td>\n",
       "      <td>Blood Test</td>\n",
       "      <td>2019-01-15 14:30:00</td>\n",
       "      <td>2019-01-17 11:30:00</td>\n",
       "    </tr>\n",
       "    <tr>\n",
       "      <th>374779</th>\n",
       "      <td>10254</td>\n",
       "      <td>Blood Test</td>\n",
       "      <td>2019-01-15 14:40:00</td>\n",
       "      <td>2019-01-17 11:30:00</td>\n",
       "    </tr>\n",
       "    <tr>\n",
       "      <th>428669</th>\n",
       "      <td>10254</td>\n",
       "      <td>Blood Test</td>\n",
       "      <td>2019-01-15 14:50:00</td>\n",
       "      <td>2019-01-17 11:30:00</td>\n",
       "    </tr>\n",
       "  </tbody>\n",
       "</table>\n",
       "</div>"
      ],
      "text/plain": [
       "           id   test type                grab         appointment\n",
       "213759  10254  Blood Test 2019-01-15 14:10:00 2019-01-17 11:30:00\n",
       "267453  10254  Blood Test 2019-01-15 14:20:00 2019-01-17 11:30:00\n",
       "321128  10254  Blood Test 2019-01-15 14:30:00 2019-01-17 11:30:00\n",
       "374779  10254  Blood Test 2019-01-15 14:40:00 2019-01-17 11:30:00\n",
       "428669  10254  Blood Test 2019-01-15 14:50:00 2019-01-17 11:30:00"
      ]
     },
     "execution_count": 13,
     "metadata": {},
     "output_type": "execute_result"
    }
   ],
   "source": [
    "df[df['appointment'] == selected_appointment].head()"
   ]
  },
  {
   "cell_type": "markdown",
   "metadata": {},
   "source": [
    "## Recording all `grab` and `appointment` timestamps\n",
    "We will shortly need to collect all the `grab` and `appointment` timestamps."
   ]
  },
  {
   "cell_type": "code",
   "execution_count": 14,
   "metadata": {},
   "outputs": [
    {
     "name": "stdout",
     "output_type": "stream",
     "text": [
      "Tuesday 05 February 2019, 22:44:28\n",
      "CPU times: user 2.89 ms, sys: 1.58 ms, total: 4.47 ms\n",
      "Wall time: 2.86 ms\n"
     ]
    }
   ],
   "source": [
    "%%time\n",
    "print(datetime.datetime.now().strftime(\"%A %d %B %Y, %H:%M:%S\"))\n",
    "grabs = pd.DataFrame()\n",
    "grabs['grab'] = df['grab'].drop_duplicates().reset_index(drop=True).sort_values(ascending=True)\n",
    "#first_grab = grabs.iloc[0, 0 ]\n",
    "#last_grab = grabs.iloc[-1, 0]\n",
    "#first_grab, last_grab\n",
    "#grabs.head()\n",
    "#grabs.info()"
   ]
  },
  {
   "cell_type": "code",
   "execution_count": 15,
   "metadata": {},
   "outputs": [
    {
     "name": "stdout",
     "output_type": "stream",
     "text": [
      "Tuesday 05 February 2019, 22:44:35\n",
      "CPU times: user 3.23 ms, sys: 757 µs, total: 3.99 ms\n",
      "Wall time: 3.05 ms\n"
     ]
    }
   ],
   "source": [
    "%%time\n",
    "print(datetime.datetime.now().strftime(\"%A %d %B %Y, %H:%M:%S\"))\n",
    "appointments = pd.DataFrame()\n",
    "appointments['appointment'] = df['appointment'].drop_duplicates().reset_index(drop=True).sort_values(ascending=True)\n",
    "#first_appointment = appointments.iloc[0, 0]\n",
    "#last_appointment = appointments.iloc[-1, 0]"
   ]
  },
  {
   "cell_type": "markdown",
   "metadata": {},
   "source": [
    "It will be convenient to crete the full list of (`grab`, `appointment`) pairs where the `grab` timestamp does not come after the `appointment` timestamp."
   ]
  },
  {
   "cell_type": "code",
   "execution_count": 16,
   "metadata": {},
   "outputs": [
    {
     "name": "stdout",
     "output_type": "stream",
     "text": [
      "Tuesday 05 February 2019, 22:44:43\n",
      "CPU times: user 26.1 ms, sys: 4.62 ms, total: 30.7 ms\n",
      "Wall time: 29.2 ms\n"
     ]
    }
   ],
   "source": [
    "%%time\n",
    "print(datetime.datetime.now().strftime(\"%A %d %B %Y, %H:%M:%S\"))\n",
    "schedule = cartesianProduct(grabs, appointments)\n",
    "schedule.query('grab <= appointment', inplace=True)\n",
    "#schedule.sort_values(['grab', 'appointment'])[1000:1020]"
   ]
  },
  {
   "cell_type": "code",
   "execution_count": null,
   "metadata": {},
   "outputs": [],
   "source": [
    "schedule.info()"
   ]
  },
  {
   "cell_type": "code",
   "execution_count": 17,
   "metadata": {},
   "outputs": [
    {
     "data": {
      "text/html": [
       "<div>\n",
       "<style scoped>\n",
       "    .dataframe tbody tr th:only-of-type {\n",
       "        vertical-align: middle;\n",
       "    }\n",
       "\n",
       "    .dataframe tbody tr th {\n",
       "        vertical-align: top;\n",
       "    }\n",
       "\n",
       "    .dataframe thead th {\n",
       "        text-align: right;\n",
       "    }\n",
       "</style>\n",
       "<table border=\"1\" class=\"dataframe\">\n",
       "  <thead>\n",
       "    <tr style=\"text-align: right;\">\n",
       "      <th></th>\n",
       "      <th>grab</th>\n",
       "      <th>appointment</th>\n",
       "    </tr>\n",
       "  </thead>\n",
       "  <tbody>\n",
       "    <tr>\n",
       "      <th>1</th>\n",
       "      <td>2019-01-15 13:40:00</td>\n",
       "      <td>2019-01-17 11:30:00</td>\n",
       "    </tr>\n",
       "    <tr>\n",
       "      <th>278</th>\n",
       "      <td>2019-01-15 13:50:00</td>\n",
       "      <td>2019-01-17 11:30:00</td>\n",
       "    </tr>\n",
       "    <tr>\n",
       "      <th>555</th>\n",
       "      <td>2019-01-15 14:00:00</td>\n",
       "      <td>2019-01-17 11:30:00</td>\n",
       "    </tr>\n",
       "    <tr>\n",
       "      <th>832</th>\n",
       "      <td>2019-01-15 14:10:00</td>\n",
       "      <td>2019-01-17 11:30:00</td>\n",
       "    </tr>\n",
       "    <tr>\n",
       "      <th>1109</th>\n",
       "      <td>2019-01-15 14:20:00</td>\n",
       "      <td>2019-01-17 11:30:00</td>\n",
       "    </tr>\n",
       "  </tbody>\n",
       "</table>\n",
       "</div>"
      ],
      "text/plain": [
       "                    grab         appointment\n",
       "1    2019-01-15 13:40:00 2019-01-17 11:30:00\n",
       "278  2019-01-15 13:50:00 2019-01-17 11:30:00\n",
       "555  2019-01-15 14:00:00 2019-01-17 11:30:00\n",
       "832  2019-01-15 14:10:00 2019-01-17 11:30:00\n",
       "1109 2019-01-15 14:20:00 2019-01-17 11:30:00"
      ]
     },
     "execution_count": 17,
     "metadata": {},
     "output_type": "execute_result"
    }
   ],
   "source": [
    "schedule[schedule['appointment'] == selected_appointment].head()"
   ]
  },
  {
   "cell_type": "markdown",
   "metadata": {},
   "source": [
    "# Reconstruct *entire* booking history (of *all* appointments in *all* centers)?"
   ]
  },
  {
   "cell_type": "markdown",
   "metadata": {},
   "source": [
    "Duplicate `schedule`, one for each `id`: "
   ]
  },
  {
   "cell_type": "code",
   "execution_count": 18,
   "metadata": {},
   "outputs": [
    {
     "name": "stdout",
     "output_type": "stream",
     "text": [
      "Tuesday 05 February 2019, 22:44:54\n",
      "CPU times: user 5.03 ms, sys: 1.88 ms, total: 6.91 ms\n",
      "Wall time: 4.87 ms\n"
     ]
    }
   ],
   "source": [
    "%%time \n",
    "print(datetime.datetime.now().strftime(\"%A %d %B %Y, %H:%M:%S\"))\n",
    "schedule_duplicate = pd.concat(\n",
    "    [schedule.assign(id=id_item).assign(type=type_item)\n",
    "     for id_item in list(df['id'].unique())\n",
    "     for type_item in list(df['test type'].unique())\n",
    "     ]\n",
    "    )"
   ]
  },
  {
   "cell_type": "code",
   "execution_count": 19,
   "metadata": {},
   "outputs": [
    {
     "name": "stdout",
     "output_type": "stream",
     "text": [
      "Tuesday 05 February 2019, 22:44:56\n",
      "CPU times: user 6.11 ms, sys: 836 µs, total: 6.95 ms\n",
      "Wall time: 6.29 ms\n"
     ]
    }
   ],
   "source": [
    "%%time\n",
    "print(datetime.datetime.now().strftime(\"%A %d %B %Y, %H:%M:%S\"))\n",
    "schedule_duplicate.rename(index=str, columns={'type': 'test type'}, inplace=True)"
   ]
  },
  {
   "cell_type": "code",
   "execution_count": 20,
   "metadata": {},
   "outputs": [
    {
     "name": "stdout",
     "output_type": "stream",
     "text": [
      "Tuesday 05 February 2019, 22:45:05\n",
      "CPU times: user 1.27 ms, sys: 70 µs, total: 1.34 ms\n",
      "Wall time: 1.3 ms\n"
     ]
    }
   ],
   "source": [
    "%%time\n",
    "print(datetime.datetime.now().strftime(\"%A %d %B %Y, %H:%M:%S\"))\n",
    "schedule_duplicate = schedule_duplicate[['id', 'test type', 'grab', 'appointment']]"
   ]
  },
  {
   "cell_type": "code",
   "execution_count": 21,
   "metadata": {},
   "outputs": [
    {
     "name": "stdout",
     "output_type": "stream",
     "text": [
      "Tuesday 05 February 2019, 22:45:12\n",
      "CPU times: user 29.4 ms, sys: 16 ms, total: 45.3 ms\n",
      "Wall time: 43.5 ms\n"
     ]
    }
   ],
   "source": [
    "%%time\n",
    "print(datetime.datetime.now().strftime(\"%A %d %B %Y, %H:%M:%S\"))\n",
    "schedule_duplicate.sort_values(['id', 'test type', 'grab', 'appointment'],\n",
    "    inplace=True\n",
    ")"
   ]
  },
  {
   "cell_type": "code",
   "execution_count": 22,
   "metadata": {},
   "outputs": [
    {
     "data": {
      "text/html": [
       "<div>\n",
       "<style scoped>\n",
       "    .dataframe tbody tr th:only-of-type {\n",
       "        vertical-align: middle;\n",
       "    }\n",
       "\n",
       "    .dataframe tbody tr th {\n",
       "        vertical-align: top;\n",
       "    }\n",
       "\n",
       "    .dataframe thead th {\n",
       "        text-align: right;\n",
       "    }\n",
       "</style>\n",
       "<table border=\"1\" class=\"dataframe\">\n",
       "  <thead>\n",
       "    <tr style=\"text-align: right;\">\n",
       "      <th></th>\n",
       "      <th>id</th>\n",
       "      <th>test type</th>\n",
       "      <th>grab</th>\n",
       "      <th>appointment</th>\n",
       "    </tr>\n",
       "  </thead>\n",
       "  <tbody>\n",
       "    <tr>\n",
       "      <th>1</th>\n",
       "      <td>10254</td>\n",
       "      <td>Blood Test</td>\n",
       "      <td>2019-01-15 13:40:00</td>\n",
       "      <td>2019-01-17 11:30:00</td>\n",
       "    </tr>\n",
       "    <tr>\n",
       "      <th>278</th>\n",
       "      <td>10254</td>\n",
       "      <td>Blood Test</td>\n",
       "      <td>2019-01-15 13:50:00</td>\n",
       "      <td>2019-01-17 11:30:00</td>\n",
       "    </tr>\n",
       "    <tr>\n",
       "      <th>555</th>\n",
       "      <td>10254</td>\n",
       "      <td>Blood Test</td>\n",
       "      <td>2019-01-15 14:00:00</td>\n",
       "      <td>2019-01-17 11:30:00</td>\n",
       "    </tr>\n",
       "    <tr>\n",
       "      <th>832</th>\n",
       "      <td>10254</td>\n",
       "      <td>Blood Test</td>\n",
       "      <td>2019-01-15 14:10:00</td>\n",
       "      <td>2019-01-17 11:30:00</td>\n",
       "    </tr>\n",
       "    <tr>\n",
       "      <th>1109</th>\n",
       "      <td>10254</td>\n",
       "      <td>Blood Test</td>\n",
       "      <td>2019-01-15 14:20:00</td>\n",
       "      <td>2019-01-17 11:30:00</td>\n",
       "    </tr>\n",
       "  </tbody>\n",
       "</table>\n",
       "</div>"
      ],
      "text/plain": [
       "         id   test type                grab         appointment\n",
       "1     10254  Blood Test 2019-01-15 13:40:00 2019-01-17 11:30:00\n",
       "278   10254  Blood Test 2019-01-15 13:50:00 2019-01-17 11:30:00\n",
       "555   10254  Blood Test 2019-01-15 14:00:00 2019-01-17 11:30:00\n",
       "832   10254  Blood Test 2019-01-15 14:10:00 2019-01-17 11:30:00\n",
       "1109  10254  Blood Test 2019-01-15 14:20:00 2019-01-17 11:30:00"
      ]
     },
     "execution_count": 22,
     "metadata": {},
     "output_type": "execute_result"
    }
   ],
   "source": [
    "schedule_duplicate[schedule_duplicate['appointment'] == selected_appointment].head()"
   ]
  },
  {
   "cell_type": "code",
   "execution_count": null,
   "metadata": {},
   "outputs": [],
   "source": [
    "df0_cart = schedule_duplicate[schedule_duplicate['appointment'] == selected_appointment]"
   ]
  },
  {
   "cell_type": "code",
   "execution_count": null,
   "metadata": {},
   "outputs": [],
   "source": [
    "df0 = df[df['appointment'] == selected_appointment]"
   ]
  },
  {
   "cell_type": "code",
   "execution_count": null,
   "metadata": {},
   "outputs": [],
   "source": [
    "df0.assign(key=1).head()"
   ]
  },
  {
   "cell_type": "code",
   "execution_count": 25,
   "metadata": {},
   "outputs": [
    {
     "name": "stdout",
     "output_type": "stream",
     "text": [
      "Tuesday 05 February 2019, 22:46:48\n",
      "CPU times: user 12.2 ms, sys: 2.85 ms, total: 15.1 ms\n",
      "Wall time: 13.6 ms\n"
     ]
    }
   ],
   "source": [
    "%%time\n",
    "print(datetime.datetime.now().strftime(\"%A %d %B %Y, %H:%M:%S\"))\n",
    "df_compare = pd.merge(\n",
    "    schedule_duplicate,\n",
    "    df.assign(key=1),\n",
    "    on=['id', 'test type', 'appointment', 'grab'],\n",
    "    how='outer'\n",
    ")"
   ]
  },
  {
   "cell_type": "code",
   "execution_count": 26,
   "metadata": {},
   "outputs": [
    {
     "data": {
      "text/html": [
       "<div>\n",
       "<style scoped>\n",
       "    .dataframe tbody tr th:only-of-type {\n",
       "        vertical-align: middle;\n",
       "    }\n",
       "\n",
       "    .dataframe tbody tr th {\n",
       "        vertical-align: top;\n",
       "    }\n",
       "\n",
       "    .dataframe thead th {\n",
       "        text-align: right;\n",
       "    }\n",
       "</style>\n",
       "<table border=\"1\" class=\"dataframe\">\n",
       "  <thead>\n",
       "    <tr style=\"text-align: right;\">\n",
       "      <th></th>\n",
       "      <th>id</th>\n",
       "      <th>test type</th>\n",
       "      <th>grab</th>\n",
       "      <th>appointment</th>\n",
       "      <th>key</th>\n",
       "    </tr>\n",
       "  </thead>\n",
       "  <tbody>\n",
       "    <tr>\n",
       "      <th>1</th>\n",
       "      <td>10254</td>\n",
       "      <td>Blood Test</td>\n",
       "      <td>2019-01-15 13:40:00</td>\n",
       "      <td>2019-01-17 11:30:00</td>\n",
       "      <td>NaN</td>\n",
       "    </tr>\n",
       "    <tr>\n",
       "      <th>278</th>\n",
       "      <td>10254</td>\n",
       "      <td>Blood Test</td>\n",
       "      <td>2019-01-15 13:50:00</td>\n",
       "      <td>2019-01-17 11:30:00</td>\n",
       "      <td>NaN</td>\n",
       "    </tr>\n",
       "    <tr>\n",
       "      <th>555</th>\n",
       "      <td>10254</td>\n",
       "      <td>Blood Test</td>\n",
       "      <td>2019-01-15 14:00:00</td>\n",
       "      <td>2019-01-17 11:30:00</td>\n",
       "      <td>NaN</td>\n",
       "    </tr>\n",
       "    <tr>\n",
       "      <th>832</th>\n",
       "      <td>10254</td>\n",
       "      <td>Blood Test</td>\n",
       "      <td>2019-01-15 14:10:00</td>\n",
       "      <td>2019-01-17 11:30:00</td>\n",
       "      <td>1.0</td>\n",
       "    </tr>\n",
       "    <tr>\n",
       "      <th>1109</th>\n",
       "      <td>10254</td>\n",
       "      <td>Blood Test</td>\n",
       "      <td>2019-01-15 14:20:00</td>\n",
       "      <td>2019-01-17 11:30:00</td>\n",
       "      <td>1.0</td>\n",
       "    </tr>\n",
       "  </tbody>\n",
       "</table>\n",
       "</div>"
      ],
      "text/plain": [
       "         id   test type                grab         appointment  key\n",
       "1     10254  Blood Test 2019-01-15 13:40:00 2019-01-17 11:30:00  NaN\n",
       "278   10254  Blood Test 2019-01-15 13:50:00 2019-01-17 11:30:00  NaN\n",
       "555   10254  Blood Test 2019-01-15 14:00:00 2019-01-17 11:30:00  NaN\n",
       "832   10254  Blood Test 2019-01-15 14:10:00 2019-01-17 11:30:00  1.0\n",
       "1109  10254  Blood Test 2019-01-15 14:20:00 2019-01-17 11:30:00  1.0"
      ]
     },
     "execution_count": 26,
     "metadata": {},
     "output_type": "execute_result"
    }
   ],
   "source": [
    "df_compare[df_compare['appointment'] == selected_appointment].head()"
   ]
  },
  {
   "cell_type": "code",
   "execution_count": 27,
   "metadata": {},
   "outputs": [],
   "source": [
    "#%%time\n",
    "#print(datetime.datetime.now().strftime(\"%A %d %B %Y, %H:%M:%S\"))\n",
    "#df_compare = pd.merge(\n",
    "#    df.assign(key=1),\n",
    "#    schedule_duplicate,\n",
    "#    how='outer',\n",
    "#    #how='right',\n",
    "#    #left_on=['grab', 'appointment', 'id', 'test type'],\n",
    "#    #right_on=['grab', 'appointment', 'id', 'test type']\n",
    "##    on=['id', 'test type', 'appointment', 'grab']\n",
    "#    #on=['appointment', 'grab']\n",
    "#)"
   ]
  },
  {
   "cell_type": "code",
   "execution_count": 28,
   "metadata": {},
   "outputs": [
    {
     "name": "stdout",
     "output_type": "stream",
     "text": [
      "Tuesday 05 February 2019, 22:47:23\n",
      "CPU times: user 3.11 ms, sys: 804 µs, total: 3.91 ms\n",
      "Wall time: 3.06 ms\n"
     ]
    }
   ],
   "source": [
    "%%time\n",
    "print(datetime.datetime.now().strftime(\"%A %d %B %Y, %H:%M:%S\"))\n",
    "\n",
    "df_compare.fillna(0, inplace=True)"
   ]
  },
  {
   "cell_type": "code",
   "execution_count": 29,
   "metadata": {},
   "outputs": [
    {
     "data": {
      "text/html": [
       "<div>\n",
       "<style scoped>\n",
       "    .dataframe tbody tr th:only-of-type {\n",
       "        vertical-align: middle;\n",
       "    }\n",
       "\n",
       "    .dataframe tbody tr th {\n",
       "        vertical-align: top;\n",
       "    }\n",
       "\n",
       "    .dataframe thead th {\n",
       "        text-align: right;\n",
       "    }\n",
       "</style>\n",
       "<table border=\"1\" class=\"dataframe\">\n",
       "  <thead>\n",
       "    <tr style=\"text-align: right;\">\n",
       "      <th></th>\n",
       "      <th>id</th>\n",
       "      <th>test type</th>\n",
       "      <th>grab</th>\n",
       "      <th>appointment</th>\n",
       "      <th>key</th>\n",
       "    </tr>\n",
       "  </thead>\n",
       "  <tbody>\n",
       "    <tr>\n",
       "      <th>1</th>\n",
       "      <td>10254</td>\n",
       "      <td>Blood Test</td>\n",
       "      <td>2019-01-15 13:40:00</td>\n",
       "      <td>2019-01-17 11:30:00</td>\n",
       "      <td>0.0</td>\n",
       "    </tr>\n",
       "    <tr>\n",
       "      <th>278</th>\n",
       "      <td>10254</td>\n",
       "      <td>Blood Test</td>\n",
       "      <td>2019-01-15 13:50:00</td>\n",
       "      <td>2019-01-17 11:30:00</td>\n",
       "      <td>0.0</td>\n",
       "    </tr>\n",
       "    <tr>\n",
       "      <th>555</th>\n",
       "      <td>10254</td>\n",
       "      <td>Blood Test</td>\n",
       "      <td>2019-01-15 14:00:00</td>\n",
       "      <td>2019-01-17 11:30:00</td>\n",
       "      <td>0.0</td>\n",
       "    </tr>\n",
       "    <tr>\n",
       "      <th>832</th>\n",
       "      <td>10254</td>\n",
       "      <td>Blood Test</td>\n",
       "      <td>2019-01-15 14:10:00</td>\n",
       "      <td>2019-01-17 11:30:00</td>\n",
       "      <td>1.0</td>\n",
       "    </tr>\n",
       "    <tr>\n",
       "      <th>1109</th>\n",
       "      <td>10254</td>\n",
       "      <td>Blood Test</td>\n",
       "      <td>2019-01-15 14:20:00</td>\n",
       "      <td>2019-01-17 11:30:00</td>\n",
       "      <td>1.0</td>\n",
       "    </tr>\n",
       "  </tbody>\n",
       "</table>\n",
       "</div>"
      ],
      "text/plain": [
       "         id   test type                grab         appointment  key\n",
       "1     10254  Blood Test 2019-01-15 13:40:00 2019-01-17 11:30:00  0.0\n",
       "278   10254  Blood Test 2019-01-15 13:50:00 2019-01-17 11:30:00  0.0\n",
       "555   10254  Blood Test 2019-01-15 14:00:00 2019-01-17 11:30:00  0.0\n",
       "832   10254  Blood Test 2019-01-15 14:10:00 2019-01-17 11:30:00  1.0\n",
       "1109  10254  Blood Test 2019-01-15 14:20:00 2019-01-17 11:30:00  1.0"
      ]
     },
     "execution_count": 29,
     "metadata": {},
     "output_type": "execute_result"
    }
   ],
   "source": [
    "df_compare[df_compare['appointment'] == selected_appointment].head()"
   ]
  },
  {
   "cell_type": "code",
   "execution_count": 30,
   "metadata": {},
   "outputs": [
    {
     "name": "stdout",
     "output_type": "stream",
     "text": [
      "Tuesday 05 February 2019, 22:47:57\n",
      "CPU times: user 716 µs, sys: 90 µs, total: 806 µs\n",
      "Wall time: 718 µs\n"
     ]
    }
   ],
   "source": [
    "%%time\n",
    "print(datetime.datetime.now().strftime(\"%A %d %B %Y, %H:%M:%S\"))\n",
    "df_compare['key'] = df_compare['key'].astype(int)"
   ]
  },
  {
   "cell_type": "code",
   "execution_count": 31,
   "metadata": {},
   "outputs": [
    {
     "data": {
      "text/html": [
       "<div>\n",
       "<style scoped>\n",
       "    .dataframe tbody tr th:only-of-type {\n",
       "        vertical-align: middle;\n",
       "    }\n",
       "\n",
       "    .dataframe tbody tr th {\n",
       "        vertical-align: top;\n",
       "    }\n",
       "\n",
       "    .dataframe thead th {\n",
       "        text-align: right;\n",
       "    }\n",
       "</style>\n",
       "<table border=\"1\" class=\"dataframe\">\n",
       "  <thead>\n",
       "    <tr style=\"text-align: right;\">\n",
       "      <th></th>\n",
       "      <th>id</th>\n",
       "      <th>test type</th>\n",
       "      <th>grab</th>\n",
       "      <th>appointment</th>\n",
       "      <th>key</th>\n",
       "    </tr>\n",
       "  </thead>\n",
       "  <tbody>\n",
       "    <tr>\n",
       "      <th>1</th>\n",
       "      <td>10254</td>\n",
       "      <td>Blood Test</td>\n",
       "      <td>2019-01-15 13:40:00</td>\n",
       "      <td>2019-01-17 11:30:00</td>\n",
       "      <td>0</td>\n",
       "    </tr>\n",
       "    <tr>\n",
       "      <th>278</th>\n",
       "      <td>10254</td>\n",
       "      <td>Blood Test</td>\n",
       "      <td>2019-01-15 13:50:00</td>\n",
       "      <td>2019-01-17 11:30:00</td>\n",
       "      <td>0</td>\n",
       "    </tr>\n",
       "    <tr>\n",
       "      <th>555</th>\n",
       "      <td>10254</td>\n",
       "      <td>Blood Test</td>\n",
       "      <td>2019-01-15 14:00:00</td>\n",
       "      <td>2019-01-17 11:30:00</td>\n",
       "      <td>0</td>\n",
       "    </tr>\n",
       "    <tr>\n",
       "      <th>832</th>\n",
       "      <td>10254</td>\n",
       "      <td>Blood Test</td>\n",
       "      <td>2019-01-15 14:10:00</td>\n",
       "      <td>2019-01-17 11:30:00</td>\n",
       "      <td>1</td>\n",
       "    </tr>\n",
       "    <tr>\n",
       "      <th>1109</th>\n",
       "      <td>10254</td>\n",
       "      <td>Blood Test</td>\n",
       "      <td>2019-01-15 14:20:00</td>\n",
       "      <td>2019-01-17 11:30:00</td>\n",
       "      <td>1</td>\n",
       "    </tr>\n",
       "  </tbody>\n",
       "</table>\n",
       "</div>"
      ],
      "text/plain": [
       "         id   test type                grab         appointment  key\n",
       "1     10254  Blood Test 2019-01-15 13:40:00 2019-01-17 11:30:00    0\n",
       "278   10254  Blood Test 2019-01-15 13:50:00 2019-01-17 11:30:00    0\n",
       "555   10254  Blood Test 2019-01-15 14:00:00 2019-01-17 11:30:00    0\n",
       "832   10254  Blood Test 2019-01-15 14:10:00 2019-01-17 11:30:00    1\n",
       "1109  10254  Blood Test 2019-01-15 14:20:00 2019-01-17 11:30:00    1"
      ]
     },
     "execution_count": 31,
     "metadata": {},
     "output_type": "execute_result"
    }
   ],
   "source": [
    "df_compare[df_compare['appointment'] == selected_appointment].head()"
   ]
  },
  {
   "cell_type": "code",
   "execution_count": 32,
   "metadata": {},
   "outputs": [
    {
     "name": "stdout",
     "output_type": "stream",
     "text": [
      "Tuesday 05 February 2019, 22:48:12\n",
      "CPU times: user 485 ms, sys: 24.5 ms, total: 510 ms\n",
      "Wall time: 491 ms\n"
     ]
    }
   ],
   "source": [
    "%%time\n",
    "print(datetime.datetime.now().strftime(\"%A %d %B %Y, %H:%M:%S\"))\n",
    "\n",
    "df_action = df_compare.groupby(['id', 'test type', 'appointment']).apply(spot_action)"
   ]
  },
  {
   "cell_type": "code",
   "execution_count": 34,
   "metadata": {},
   "outputs": [
    {
     "data": {
      "text/html": [
       "<div>\n",
       "<style scoped>\n",
       "    .dataframe tbody tr th:only-of-type {\n",
       "        vertical-align: middle;\n",
       "    }\n",
       "\n",
       "    .dataframe tbody tr th {\n",
       "        vertical-align: top;\n",
       "    }\n",
       "\n",
       "    .dataframe thead th {\n",
       "        text-align: right;\n",
       "    }\n",
       "</style>\n",
       "<table border=\"1\" class=\"dataframe\">\n",
       "  <thead>\n",
       "    <tr style=\"text-align: right;\">\n",
       "      <th></th>\n",
       "      <th>id</th>\n",
       "      <th>test type</th>\n",
       "      <th>grab</th>\n",
       "      <th>appointment</th>\n",
       "      <th>key</th>\n",
       "    </tr>\n",
       "  </thead>\n",
       "  <tbody>\n",
       "    <tr>\n",
       "      <th>1</th>\n",
       "      <td>10254</td>\n",
       "      <td>Blood Test</td>\n",
       "      <td>2019-01-15 13:40:00</td>\n",
       "      <td>2019-01-17 11:30:00</td>\n",
       "      <td>none</td>\n",
       "    </tr>\n",
       "    <tr>\n",
       "      <th>278</th>\n",
       "      <td>10254</td>\n",
       "      <td>Blood Test</td>\n",
       "      <td>2019-01-15 13:50:00</td>\n",
       "      <td>2019-01-17 11:30:00</td>\n",
       "      <td>none</td>\n",
       "    </tr>\n",
       "    <tr>\n",
       "      <th>555</th>\n",
       "      <td>10254</td>\n",
       "      <td>Blood Test</td>\n",
       "      <td>2019-01-15 14:00:00</td>\n",
       "      <td>2019-01-17 11:30:00</td>\n",
       "      <td>none</td>\n",
       "    </tr>\n",
       "    <tr>\n",
       "      <th>832</th>\n",
       "      <td>10254</td>\n",
       "      <td>Blood Test</td>\n",
       "      <td>2019-01-15 14:10:00</td>\n",
       "      <td>2019-01-17 11:30:00</td>\n",
       "      <td>book</td>\n",
       "    </tr>\n",
       "    <tr>\n",
       "      <th>1109</th>\n",
       "      <td>10254</td>\n",
       "      <td>Blood Test</td>\n",
       "      <td>2019-01-15 14:20:00</td>\n",
       "      <td>2019-01-17 11:30:00</td>\n",
       "      <td>none</td>\n",
       "    </tr>\n",
       "  </tbody>\n",
       "</table>\n",
       "</div>"
      ],
      "text/plain": [
       "         id   test type                grab         appointment   key\n",
       "1     10254  Blood Test 2019-01-15 13:40:00 2019-01-17 11:30:00  none\n",
       "278   10254  Blood Test 2019-01-15 13:50:00 2019-01-17 11:30:00  none\n",
       "555   10254  Blood Test 2019-01-15 14:00:00 2019-01-17 11:30:00  none\n",
       "832   10254  Blood Test 2019-01-15 14:10:00 2019-01-17 11:30:00  book\n",
       "1109  10254  Blood Test 2019-01-15 14:20:00 2019-01-17 11:30:00  none"
      ]
     },
     "execution_count": 34,
     "metadata": {},
     "output_type": "execute_result"
    }
   ],
   "source": [
    "df_action[df_action['appointment'] == selected_appointment].head()"
   ]
  },
  {
   "cell_type": "code",
   "execution_count": 35,
   "metadata": {},
   "outputs": [],
   "source": [
    "df_history = df_action.loc[df_action['key'] != \"none\", :]"
   ]
  },
  {
   "cell_type": "code",
   "execution_count": null,
   "metadata": {},
   "outputs": [],
   "source": [
    "df_history.info()"
   ]
  },
  {
   "cell_type": "code",
   "execution_count": 39,
   "metadata": {},
   "outputs": [
    {
     "data": {
      "text/html": [
       "<div>\n",
       "<style scoped>\n",
       "    .dataframe tbody tr th:only-of-type {\n",
       "        vertical-align: middle;\n",
       "    }\n",
       "\n",
       "    .dataframe tbody tr th {\n",
       "        vertical-align: top;\n",
       "    }\n",
       "\n",
       "    .dataframe thead th {\n",
       "        text-align: right;\n",
       "    }\n",
       "</style>\n",
       "<table border=\"1\" class=\"dataframe\">\n",
       "  <thead>\n",
       "    <tr style=\"text-align: right;\">\n",
       "      <th></th>\n",
       "      <th>id</th>\n",
       "      <th>test type</th>\n",
       "      <th>grab</th>\n",
       "      <th>appointment</th>\n",
       "      <th>key</th>\n",
       "    </tr>\n",
       "  </thead>\n",
       "  <tbody>\n",
       "    <tr>\n",
       "      <th>832</th>\n",
       "      <td>10254</td>\n",
       "      <td>Blood Test</td>\n",
       "      <td>2019-01-15 14:10:00</td>\n",
       "      <td>2019-01-17 11:30:00</td>\n",
       "      <td>book</td>\n",
       "    </tr>\n",
       "    <tr>\n",
       "      <th>22161</th>\n",
       "      <td>10254</td>\n",
       "      <td>Blood Test</td>\n",
       "      <td>2019-01-16 10:50:00</td>\n",
       "      <td>2019-01-17 11:30:00</td>\n",
       "      <td>cancel</td>\n",
       "    </tr>\n",
       "  </tbody>\n",
       "</table>\n",
       "</div>"
      ],
      "text/plain": [
       "          id   test type                grab         appointment     key\n",
       "832    10254  Blood Test 2019-01-15 14:10:00 2019-01-17 11:30:00    book\n",
       "22161  10254  Blood Test 2019-01-16 10:50:00 2019-01-17 11:30:00  cancel"
      ]
     },
     "execution_count": 39,
     "metadata": {},
     "output_type": "execute_result"
    }
   ],
   "source": [
    "df_history[df_history['appointment'] == selected_appointment]"
   ]
  },
  {
   "cell_type": "markdown",
   "metadata": {},
   "source": [
    "====================================================================================="
   ]
  },
  {
   "cell_type": "markdown",
   "metadata": {},
   "source": [
    "====================================================================================="
   ]
  },
  {
   "cell_type": "code",
   "execution_count": null,
   "metadata": {},
   "outputs": [],
   "source": []
  },
  {
   "cell_type": "code",
   "execution_count": null,
   "metadata": {},
   "outputs": [],
   "source": []
  },
  {
   "cell_type": "markdown",
   "metadata": {},
   "source": [
    "## Selecting a test center\n",
    "As a warmup, we will select center with only one test type and lowest number of records for speed."
   ]
  },
  {
   "cell_type": "code",
   "execution_count": null,
   "metadata": {},
   "outputs": [],
   "source": [
    "cid = 10254\n",
    "df0 = df.loc[df['id'] == cid, ['appointment', 'grab']]\n",
    "df0.reset_index(drop=True, inplace=True)\n",
    "#df0.head()"
   ]
  },
  {
   "cell_type": "code",
   "execution_count": null,
   "metadata": {},
   "outputs": [],
   "source": [
    "df0.info()"
   ]
  },
  {
   "cell_type": "markdown",
   "metadata": {},
   "source": [
    "## Selecting an appointment"
   ]
  },
  {
   "cell_type": "markdown",
   "metadata": {},
   "source": [
    "As discussed in the other notebook `EDA_2.ipynb`, the 11:30 appointment on 17 Jan 2019 has been cancelled."
   ]
  },
  {
   "cell_type": "code",
   "execution_count": null,
   "metadata": {},
   "outputs": [],
   "source": [
    "ts_selected = datetime.datetime(2019, 1, 17, 11, 30)"
   ]
  },
  {
   "cell_type": "markdown",
   "metadata": {},
   "source": [
    "We will find in the dataframes when the appointment was cancelled and in fact when it was rebooked.  \n",
    "**Caveat.**  *We will miss pairs of cancellation+booking or booking+cancellation if they occur between two grabs.*"
   ]
  },
  {
   "cell_type": "markdown",
   "metadata": {},
   "source": [
    "First extract the `grab` timestamps for this particular appointment."
   ]
  },
  {
   "cell_type": "code",
   "execution_count": null,
   "metadata": {},
   "outputs": [],
   "source": [
    "df00 = df0.loc[df0['appointment'] == ts_selected, ['grab']]\n",
    "df00.head()"
   ]
  },
  {
   "cell_type": "markdown",
   "metadata": {},
   "source": [
    "# Reconstructing the booking history of the selected appointment at the selected center"
   ]
  },
  {
   "cell_type": "markdown",
   "metadata": {},
   "source": [
    "We need to compare the `grab` timestamps of the selected appointment with the complete list of `grab` values present in the dataset and recorded in `grabs`."
   ]
  },
  {
   "cell_type": "code",
   "execution_count": null,
   "metadata": {},
   "outputs": [],
   "source": [
    "df00_compare = compareDataframes(grabs, df00)\n",
    "df00_compare.index.names = ['timestamp']\n",
    "df00_compare.head()"
   ]
  },
  {
   "cell_type": "markdown",
   "metadata": {},
   "source": [
    "With the comparison dataframe `df00_compare`, we can detect bookings and cancellations:"
   ]
  },
  {
   "cell_type": "code",
   "execution_count": null,
   "metadata": {},
   "outputs": [],
   "source": [
    "df00_action = df00_compare.loc[:, 'present_2'].to_frame('present')\n",
    "df00_action.columns = ['action']\n",
    "df00_action.iloc[:, 0] = df00_action.iloc[:, 0] - df00_action.iloc[:, 0].shift(1)\n",
    "df00_action.iloc[:, 0].fillna(method='bfill', inplace=True)\n",
    "df00_action.iloc[:, 0] = df00_action.iloc[:, 0].astype(int)\n",
    "df00_action['action'] = df00_action['action'].apply(lambda delta: \"cancel\" if delta == -1 else (\"book\" if delta == 1 else \"none\"))\n",
    "df00_action.head()"
   ]
  },
  {
   "cell_type": "markdown",
   "metadata": {},
   "source": [
    "We are now ready to extract the booking history of the isolated appointment."
   ]
  },
  {
   "cell_type": "code",
   "execution_count": null,
   "metadata": {},
   "outputs": [],
   "source": [
    "df00_history = df00_action.loc[df00_action['action'] != \"none\", ['action']]\n",
    "df00_history"
   ]
  },
  {
   "cell_type": "markdown",
   "metadata": {},
   "source": [
    "# Reconstruct the booking history of *all* appointments (for the selected center)"
   ]
  },
  {
   "cell_type": "markdown",
   "metadata": {},
   "source": [
    "First we generate the Cartesian product of the `grab` and `appointment` timestamp dataframes."
   ]
  },
  {
   "cell_type": "code",
   "execution_count": null,
   "metadata": {},
   "outputs": [],
   "source": [
    "df_cartesian = cartesianProduct(appointments, grabs)\n",
    "df_cartesian.columns = ['appointment', 'grab']\n",
    "df_cartesian.info()"
   ]
  },
  {
   "cell_type": "markdown",
   "metadata": {},
   "source": [
    "Visualize slice of Cartesian product for the selected appointment:"
   ]
  },
  {
   "cell_type": "code",
   "execution_count": null,
   "metadata": {},
   "outputs": [],
   "source": [
    "df_cartesian.loc[df_cartesian['appointment'] == ts_selected, :].head()"
   ]
  },
  {
   "cell_type": "markdown",
   "metadata": {},
   "source": [
    "Some of these records will be missing from the records for the isolated appointment."
   ]
  },
  {
   "cell_type": "code",
   "execution_count": null,
   "metadata": {},
   "outputs": [],
   "source": [
    "df0.loc[df0['appointment'] == ts_selected, :].head()"
   ]
  },
  {
   "cell_type": "markdown",
   "metadata": {},
   "source": [
    "Comparing these two dataframes, we will be able to identify when an appoinment was booked or cancelled.  Specifically we may compare the `grab` timestamps for all appointments with the full list of `grab` timestamps in `grabs` ."
   ]
  },
  {
   "cell_type": "code",
   "execution_count": null,
   "metadata": {},
   "outputs": [],
   "source": [
    "df0_ones = pd.DataFrame([1]*df0.shape[0], columns=['key'])\n",
    "df0_ext = pd.concat([df0, df0_ones], axis=1)  # extend df0 with a column of 1's\n",
    "df0_ext.info()"
   ]
  },
  {
   "cell_type": "markdown",
   "metadata": {},
   "source": [
    "Compare `df0_ext` with `df_cartesian` to detect missing (`appointment`, `grab`) pairs:"
   ]
  },
  {
   "cell_type": "code",
   "execution_count": null,
   "metadata": {},
   "outputs": [],
   "source": [
    "df0_compare = pd.merge(df_cartesian, df0_ext, on=['appointment', 'grab'], how='outer')\n",
    "df0_compare['key'].fillna(0, inplace=True)\n",
    "df0_compare['key'] = df0_compare['key'].astype(int)\n",
    "df0_compare.info()"
   ]
  },
  {
   "cell_type": "markdown",
   "metadata": {},
   "source": [
    "For instance, consider the records corresponding to the selected center and the selected appointment:"
   ]
  },
  {
   "cell_type": "code",
   "execution_count": null,
   "metadata": {},
   "outputs": [],
   "source": [
    "df0_compare.loc[df0_compare['appointment'] == ts_selected, :].head()"
   ]
  },
  {
   "cell_type": "markdown",
   "metadata": {},
   "source": [
    "The last column `key` indicates whether an appointment was available (with a `1`) at the indicated `grab` timestamp, or not (with a `0`).  "
   ]
  },
  {
   "cell_type": "markdown",
   "metadata": {},
   "source": [
    "With this we determine the `action` at each `grab` time on the `appointment`: `book` if the appointment was booked at that `grab` time, `cancel` if it was cancelled, and `none` if the appointment was still available at the next `grab` time."
   ]
  },
  {
   "cell_type": "code",
   "execution_count": null,
   "metadata": {},
   "outputs": [],
   "source": [
    "df0_action = df0_compare.groupby('appointment').apply(spot_action)"
   ]
  },
  {
   "cell_type": "markdown",
   "metadata": {},
   "source": [
    "For instance, consider the records corresponding to the selected center and the selected appointment:"
   ]
  },
  {
   "cell_type": "code",
   "execution_count": null,
   "metadata": {},
   "outputs": [],
   "source": [
    "df0_action[df0_action['appointment'] == ts_selected].head()"
   ]
  },
  {
   "cell_type": "markdown",
   "metadata": {},
   "source": [
    "Selecting \"book\" and \"cancel\" gives the booking (and cancellation) history of all appointments for the selected center."
   ]
  },
  {
   "cell_type": "code",
   "execution_count": null,
   "metadata": {},
   "outputs": [],
   "source": [
    "df0_history = df0_action.loc[df0_action['key'] != \"none\", df0_action.columns]\n",
    "df0_history.head()"
   ]
  },
  {
   "cell_type": "markdown",
   "metadata": {},
   "source": [
    "Add \"anticipation\", that is, the amount of time between booking or cancellation and actual appointment."
   ]
  },
  {
   "cell_type": "code",
   "execution_count": null,
   "metadata": {},
   "outputs": [],
   "source": [
    "df0_history['anticipation'] = df0_history['appointment'] - df0_history['grab']\n",
    "df0_history[df0_history['appointment'] == ts_selected].head()"
   ]
  },
  {
   "cell_type": "markdown",
   "metadata": {},
   "source": [
    "## Visualize booking history"
   ]
  },
  {
   "cell_type": "markdown",
   "metadata": {},
   "source": [
    "Separate bookings and cancellations.  \n",
    "**TODO:** achieve the same but without splitting into two dataframes."
   ]
  },
  {
   "cell_type": "code",
   "execution_count": null,
   "metadata": {},
   "outputs": [],
   "source": [
    "df0_bookings = df0_history.loc[df0_history['key'] == 'book', ['appointment', 'grab', 'anticipation']]\n",
    "df0_cancellations = df0_history.loc[df0_history['key'] == 'cancel', ['appointment', 'grab', 'anticipation']]"
   ]
  },
  {
   "cell_type": "code",
   "execution_count": null,
   "metadata": {
    "scrolled": true
   },
   "outputs": [],
   "source": [
    "fig, ax = plt.subplots(figsize=(16, 4));\n",
    "df0_bookings.plot(x='appointment', y='grab', style='.b', ax=ax);\n",
    "df0_cancellations.plot(x='appointment', y='grab', style='.r', ax=ax);\n",
    "ax.set_xlabel(\"appointment date/time\");\n",
    "ax.set_ylabel(\"booking/cancellation date/time\");\n",
    "ax.get_legend().remove()\n",
    "ax.set_title(\"Booking & cancellation history for center {}\".format(cid), fontsize=18);"
   ]
  },
  {
   "cell_type": "markdown",
   "metadata": {},
   "source": [
    "The following to save as `png` image file."
   ]
  },
  {
   "cell_type": "code",
   "execution_count": null,
   "metadata": {},
   "outputs": [],
   "source": [
    "fig, ax = plt.subplots(figsize=(10, 4));\n",
    "df0_bookings.plot(x='appointment', y='grab', style='.b', ax=ax);\n",
    "df0_cancellations.plot(x='appointment', y='grab', style='.r', ax=ax);\n",
    "ax.set_xlabel(\"appointment\");\n",
    "ax.set_ylabel(\"booking/cancellation\");\n",
    "ax.legend(['booking', 'cancellation'])\n",
    "#ax.get_legend().remove()\n",
    "ax.set_title(\"Booking history for center {}\".format(cid), fontsize=18);\n",
    "#plt.savefig('center-10254-history.png')"
   ]
  },
  {
   "cell_type": "markdown",
   "metadata": {},
   "source": [
    "# Visualizing \"anticipation\"\n",
    "That is, amount of time between booking or cancellation and actual appointment."
   ]
  },
  {
   "cell_type": "code",
   "execution_count": null,
   "metadata": {},
   "outputs": [],
   "source": [
    "df0_history.head()"
   ]
  },
  {
   "cell_type": "code",
   "execution_count": null,
   "metadata": {},
   "outputs": [],
   "source": [
    "df0_history[df0_history['appointment'] == ts_cancelled].head()"
   ]
  },
  {
   "cell_type": "code",
   "execution_count": null,
   "metadata": {},
   "outputs": [],
   "source": [
    "def y_func_days(y, pos):\n",
    "    \"\"\"Format for labels on y-axis when data is of type pd.Timedelta.  Unit is day.\"\"\"\n",
    "    return str(pd.to_timedelta(y).days)\n",
    "y_fmt_days = tkr.FuncFormatter(y_func_days)"
   ]
  },
  {
   "cell_type": "code",
   "execution_count": null,
   "metadata": {},
   "outputs": [],
   "source": [
    "fig, ax = plt.subplots(figsize=(16, 4));\n",
    "\n",
    "df0_bookings.plot(x='appointment', y='anticipation', rot=45, figsize=(16, 6), style=':ob', ax=ax)\n",
    "df0_cancellations.plot(x='appointment', y='anticipation', rot=45, figsize=(16, 6), style=':or', ax=ax)\n",
    "\n",
    "ax.yaxis.set_major_formatter(y_fmt_days)\n",
    "ax.set_ylabel(\"anticipation (days)\");\n",
    "ax.get_legend().remove()\n",
    "ax.set_title(\"Anticipation prior to appointment time\", fontsize=18);"
   ]
  },
  {
   "cell_type": "markdown",
   "metadata": {},
   "source": [
    "======================================================================================="
   ]
  },
  {
   "cell_type": "markdown",
   "metadata": {},
   "source": [
    "Helper function"
   ]
  },
  {
   "cell_type": "code",
   "execution_count": null,
   "metadata": {},
   "outputs": [],
   "source": [
    "def compareDataframes(df1, df2):\n",
    "    \"\"\"Compares two dataframes.\n",
    "    \n",
    "    Parameters\n",
    "    ----------\n",
    "    df1, df2: dataframes with one column\n",
    "    \n",
    "    Returns\n",
    "    -------\n",
    "    result: dataframe with index the values of df1 and df2 combined,\n",
    "    and one column for each of df1 and df2,\n",
    "    indicating whether the value is present (with a \"1\")\n",
    "    or not (with a \"0\")\n",
    "    \n",
    "    \"\"\"\n",
    "    df1 = df1.copy()\n",
    "    df1['value'] = df1.iloc[:, 0]\n",
    "    df1.set_index('value', inplace=True)\n",
    "    df2 = df2.copy()\n",
    "    df2['value'] = df2.iloc[:, 0]\n",
    "    df2.set_index('value', inplace=True)\n",
    "    result = pd.merge(df1, df2, left_index=True, right_index=True, how='outer')\n",
    "    result = result.applymap(lambda x: 0 if pd.isnull(x) else 1)\n",
    "    result.columns = ['present_1', 'present_2']\n",
    "    return result"
   ]
  }
 ],
 "metadata": {
  "kernelspec": {
   "display_name": "Python 3",
   "language": "python",
   "name": "python3"
  },
  "language_info": {
   "codemirror_mode": {
    "name": "ipython",
    "version": 3
   },
   "file_extension": ".py",
   "mimetype": "text/x-python",
   "name": "python",
   "nbconvert_exporter": "python",
   "pygments_lexer": "ipython3",
   "version": "3.7.1"
  }
 },
 "nbformat": 4,
 "nbformat_minor": 2
}

{
 "cells": [
  {
   "cell_type": "markdown",
   "metadata": {},
   "source": [
    "# Understanding the *UHCW* dataset\n",
    "The [University Hospitals - Coventry & Warwickshire](https://www.uhcw.nhs.uk) (UHCW) has set up an online [portal](https://www.swiftqueue.co.uk/uhcw.php) to facilitate the booking of blood tests appointments in 18 centers around Coventry (UK).  \n",
    "\n",
    "\n",
    "Available appointments have been recorded in the dataset `appointments.csv`. \n",
    "In this notebook we take a first look at this dataset.  \n",
    "\n",
    "For speed and since this is still preliminary work, this notebook uses a relatively smaller subset, `sample_appointments.csv`.\n",
    "\n",
    "---\n",
    "\n",
    "## Summary of findings\n",
    "- There are:\n",
    " - 18 test centers,\n",
    " - serving 2 age groups (\"adult\" and \"child\"),\n",
    " - delivering a total of 5 different test types, labeled:\n",
    "   - 'Blood Test'\n",
    "   - 'INR Test',\n",
    "   - 'Fasting Bloods',\n",
    "   - 'Non Fasting Bloods',\n",
    "   - 'Glucose Tolerance Test'\n",
    "- Each test center serves only 1 age group.\n",
    "- Each center delivers 1, 2, or 3 different types of test.\n",
    "- The centers open their appointments for booking with a varying number of days ahead of time, between 52 and 125.\n",
    "- Most centers which deliver tests of multiple types put the appointments for all types at the same time."
   ]
  },
  {
   "cell_type": "markdown",
   "metadata": {},
   "source": [
    "---"
   ]
  },
  {
   "cell_type": "markdown",
   "metadata": {},
   "source": [
    "## Imports"
   ]
  },
  {
   "cell_type": "code",
   "execution_count": 1,
   "metadata": {},
   "outputs": [],
   "source": [
    "import os\n",
    "import pytz\n",
    "import pandas as pd\n",
    "import datetime\n",
    "import matplotlib.pyplot as plt\n",
    "%matplotlib inline"
   ]
  },
  {
   "cell_type": "markdown",
   "metadata": {},
   "source": [
    "## Constants"
   ]
  },
  {
   "cell_type": "code",
   "execution_count": 2,
   "metadata": {},
   "outputs": [],
   "source": [
    "tz_utc = pytz.timezone(\"UTC\")  # timestamp is in UTC standard\n",
    "tz_london = pytz.timezone(\"Europe/London\")  # test centers are in Coventry, UK"
   ]
  },
  {
   "cell_type": "markdown",
   "metadata": {},
   "source": [
    "## Data\n",
    "Read in the `csv` file."
   ]
  },
  {
   "cell_type": "code",
   "execution_count": 3,
   "metadata": {},
   "outputs": [
    {
     "name": "stdout",
     "output_type": "stream",
     "text": [
      "Thursday 07 February 2019, 23:02:51\n",
      "Size of data file: 291MB.\n",
      "Loading data...\n",
      "Number of records: 5117059.\n",
      "Column names:\n",
      "appointment timestamp\n",
      "center age group\n",
      "center id\n",
      "test type\n",
      "grab timestamp\n",
      "CPU times: user 2.51 s, sys: 216 ms, total: 2.73 s\n",
      "Wall time: 2.73 s\n"
     ]
    }
   ],
   "source": [
    "%%time\n",
    "print(datetime.datetime.now().strftime(\"%A %d %B %Y, %H:%M:%S\"))\n",
    "filename = 'sample_appointments.csv'\n",
    "foldername = 'Projects/UHCW'\n",
    "filepath = os.path.join(os.path.expanduser(\"~\"), foldername, filename)\n",
    "\n",
    "filesize = os.path.getsize(filepath)\n",
    "if filesize > 1e6:\n",
    "    print(\"Size of data file: {}MB.\".format(filesize//1000000))\n",
    "elif filesize > 1e3:\n",
    "    print(\"Size of data file: {}KB.\".format(filesize//1000))\n",
    "else:\n",
    "    print(\"Size of data file: {}B.\".format(filesize))\n",
    "print(\"Loading data...\")\n",
    "raw_data = pd.read_csv(filepath, sep=';')\n",
    "print(\"Number of records: {0}.\".format(raw_data.shape[0]))\n",
    "print(\"Column names:\\n{}\".format(\"\\n\".join(raw_data.columns)))"
   ]
  },
  {
   "cell_type": "markdown",
   "metadata": {},
   "source": [
    "Work with a copy, `df`, do some preprocessing.  \n",
    "**Note.** The timestamp localization and conversion may take some time on a regular computer (several minutes for 5117059 records)."
   ]
  },
  {
   "cell_type": "code",
   "execution_count": 4,
   "metadata": {},
   "outputs": [
    {
     "name": "stdout",
     "output_type": "stream",
     "text": [
      "Thursday 07 February 2019, 23:02:54\n",
      "CPU times: user 4min 25s, sys: 3.81 s, total: 4min 29s\n",
      "Wall time: 4min 27s\n"
     ]
    }
   ],
   "source": [
    "%%time\n",
    "print(datetime.datetime.now().strftime(\"%A %d %B %Y, %H:%M:%S\"))\n",
    "\n",
    "df = raw_data.copy()\n",
    "\n",
    "df = df[['appointment timestamp', 'center id', 'center age group', 'test type', 'grab timestamp']]\n",
    "df.columns = ['appointment', 'id', 'age group', 'test type', 'grab']\n",
    "\n",
    "df['appointment'] = pd.to_datetime(df['appointment'])\n",
    "\n",
    "df['appointment'] = df['appointment'].apply(lambda ts: ts.tz_localize(tz_london))\n",
    "\n",
    "df['grab'] = pd.to_datetime(df['grab'])\n",
    "\n",
    "\n",
    "df['grab'] = df['grab'].apply(lambda ts: ts.tz_localize(tz_utc).tz_convert(tz_london))\n",
    "\n",
    "df = df[['id', 'test type', 'age group', 'grab', 'appointment']]"
   ]
  },
  {
   "cell_type": "markdown",
   "metadata": {},
   "source": [
    "---\n",
    "## First observations\n",
    "Each row contains information about an available appointment at the time the data was collected:"
   ]
  },
  {
   "cell_type": "code",
   "execution_count": 5,
   "metadata": {},
   "outputs": [
    {
     "name": "stdout",
     "output_type": "stream",
     "text": [
      "<class 'pandas.core.frame.DataFrame'>\n",
      "RangeIndex: 5117059 entries, 0 to 5117058\n",
      "Data columns (total 5 columns):\n",
      "id             int64\n",
      "test type      object\n",
      "age group      object\n",
      "grab           datetime64[ns, Europe/London]\n",
      "appointment    datetime64[ns, Europe/London]\n",
      "dtypes: datetime64[ns, Europe/London](2), int64(1), object(2)\n",
      "memory usage: 195.2+ MB\n"
     ]
    }
   ],
   "source": [
    "df.info()"
   ]
  },
  {
   "cell_type": "markdown",
   "metadata": {},
   "source": [
    "More precisely, each row in the dataframe `df` corresponds to one appointment listed on the portal, and the 5 fields are as follows:\n",
    "- `grab`: timestamp of data collection, converted to the *local timezone*, in the format \"YYYY-MM-DD hh:mm:ss\"\n",
    "- `appointment`: timestamp of appointment, given in the *local timezone*, in the format \"YYYY-MM-DD hh:mm:ss\";\n",
    "- `id`: the id number of the test center offering the appointment;\n",
    "- `test type`: the type of test of the appointment; \n",
    "- `age group`: age group serviced for the appointment."
   ]
  },
  {
   "cell_type": "markdown",
   "metadata": {},
   "source": [
    "There are 18 test centers serving 2 age groups and delivering a total of 5 types of blood tests:"
   ]
  },
  {
   "cell_type": "code",
   "execution_count": 6,
   "metadata": {},
   "outputs": [
    {
     "data": {
      "text/plain": [
       "id           18\n",
       "age group     2\n",
       "test type     5\n",
       "dtype: int64"
      ]
     },
     "execution_count": 6,
     "metadata": {},
     "output_type": "execute_result"
    }
   ],
   "source": [
    "df[['id', 'age group', 'test type']].nunique()"
   ]
  },
  {
   "cell_type": "markdown",
   "metadata": {},
   "source": [
    "The age groups are \"child\" and \"adult\":"
   ]
  },
  {
   "cell_type": "code",
   "execution_count": 7,
   "metadata": {},
   "outputs": [
    {
     "data": {
      "text/plain": [
       "['adult', 'child']"
      ]
     },
     "execution_count": 7,
     "metadata": {},
     "output_type": "execute_result"
    }
   ],
   "source": [
    "list(df['age group'].unique())"
   ]
  },
  {
   "cell_type": "markdown",
   "metadata": {},
   "source": [
    "The test types are:"
   ]
  },
  {
   "cell_type": "code",
   "execution_count": 8,
   "metadata": {},
   "outputs": [
    {
     "data": {
      "text/plain": [
       "['Blood Test',\n",
       " 'INR Test',\n",
       " 'Fasting Bloods',\n",
       " 'Non Fasting Bloods',\n",
       " 'Glucose Tolerance Test']"
      ]
     },
     "execution_count": 8,
     "metadata": {},
     "output_type": "execute_result"
    }
   ],
   "source": [
    "list(df['test type'].unique())"
   ]
  },
  {
   "cell_type": "markdown",
   "metadata": {},
   "source": [
    "Each test center serves only one age group but delivers up to three types of blood test:"
   ]
  },
  {
   "cell_type": "code",
   "execution_count": 9,
   "metadata": {},
   "outputs": [
    {
     "data": {
      "text/plain": [
       "id\n",
       "10136    [adult]\n",
       "10137    [adult]\n",
       "10138    [adult]\n",
       "10188    [adult]\n",
       "10207    [adult]\n",
       "10243    [adult]\n",
       "10244    [adult]\n",
       "10250    [adult]\n",
       "10254    [child]\n",
       "10263    [adult]\n",
       "10266    [adult]\n",
       "10294    [child]\n",
       "10299    [adult]\n",
       "10301    [child]\n",
       "10336    [child]\n",
       "10341    [adult]\n",
       "10352    [adult]\n",
       "10449    [adult]\n",
       "Name: age group, dtype: object"
      ]
     },
     "execution_count": 9,
     "metadata": {},
     "output_type": "execute_result"
    }
   ],
   "source": [
    "df.groupby('id')['age group'].unique()"
   ]
  },
  {
   "cell_type": "code",
   "execution_count": 10,
   "metadata": {
    "scrolled": true
   },
   "outputs": [
    {
     "data": {
      "text/plain": [
       "id\n",
       "10136    [Fasting Bloods, Non Fasting Bloods, INR Test]\n",
       "10137                                      [Blood Test]\n",
       "10138                                      [Blood Test]\n",
       "10188                            [Blood Test, INR Test]\n",
       "10207                                      [Blood Test]\n",
       "10243                            [Blood Test, INR Test]\n",
       "10244                            [Blood Test, INR Test]\n",
       "10250                            [Blood Test, INR Test]\n",
       "10254                                      [Blood Test]\n",
       "10263                            [Blood Test, INR Test]\n",
       "10266                            [Blood Test, INR Test]\n",
       "10294                                      [Blood Test]\n",
       "10299                          [Glucose Tolerance Test]\n",
       "10301                                      [Blood Test]\n",
       "10336                                      [Blood Test]\n",
       "10341                                      [Blood Test]\n",
       "10352                            [Blood Test, INR Test]\n",
       "10449                                      [Blood Test]\n",
       "Name: test type, dtype: object"
      ]
     },
     "execution_count": 10,
     "metadata": {},
     "output_type": "execute_result"
    }
   ],
   "source": [
    "df.groupby('id')['test type'].unique()"
   ]
  },
  {
   "cell_type": "markdown",
   "metadata": {},
   "source": [
    "## Dropping the column `age group`\n",
    "We will no longer be using the column `age group`:"
   ]
  },
  {
   "cell_type": "code",
   "execution_count": 11,
   "metadata": {},
   "outputs": [],
   "source": [
    "df.drop('age group', axis=1, inplace=True)"
   ]
  },
  {
   "cell_type": "markdown",
   "metadata": {},
   "source": [
    "## Ordering the data by test center"
   ]
  },
  {
   "cell_type": "markdown",
   "metadata": {},
   "source": [
    "We can sort the test centers by the number of test types:"
   ]
  },
  {
   "cell_type": "code",
   "execution_count": 12,
   "metadata": {},
   "outputs": [
    {
     "data": {
      "text/html": [
       "<div>\n",
       "<style scoped>\n",
       "    .dataframe tbody tr th:only-of-type {\n",
       "        vertical-align: middle;\n",
       "    }\n",
       "\n",
       "    .dataframe tbody tr th {\n",
       "        vertical-align: top;\n",
       "    }\n",
       "\n",
       "    .dataframe thead th {\n",
       "        text-align: right;\n",
       "    }\n",
       "</style>\n",
       "<table border=\"1\" class=\"dataframe\">\n",
       "  <thead>\n",
       "    <tr style=\"text-align: right;\">\n",
       "      <th></th>\n",
       "      <th>center id</th>\n",
       "      <th>nb of test types</th>\n",
       "    </tr>\n",
       "  </thead>\n",
       "  <tbody>\n",
       "    <tr>\n",
       "      <th>0</th>\n",
       "      <td>10137</td>\n",
       "      <td>1</td>\n",
       "    </tr>\n",
       "    <tr>\n",
       "      <th>1</th>\n",
       "      <td>10138</td>\n",
       "      <td>1</td>\n",
       "    </tr>\n",
       "    <tr>\n",
       "      <th>2</th>\n",
       "      <td>10207</td>\n",
       "      <td>1</td>\n",
       "    </tr>\n",
       "    <tr>\n",
       "      <th>3</th>\n",
       "      <td>10254</td>\n",
       "      <td>1</td>\n",
       "    </tr>\n",
       "    <tr>\n",
       "      <th>4</th>\n",
       "      <td>10294</td>\n",
       "      <td>1</td>\n",
       "    </tr>\n",
       "    <tr>\n",
       "      <th>5</th>\n",
       "      <td>10299</td>\n",
       "      <td>1</td>\n",
       "    </tr>\n",
       "    <tr>\n",
       "      <th>6</th>\n",
       "      <td>10301</td>\n",
       "      <td>1</td>\n",
       "    </tr>\n",
       "    <tr>\n",
       "      <th>7</th>\n",
       "      <td>10336</td>\n",
       "      <td>1</td>\n",
       "    </tr>\n",
       "    <tr>\n",
       "      <th>8</th>\n",
       "      <td>10341</td>\n",
       "      <td>1</td>\n",
       "    </tr>\n",
       "    <tr>\n",
       "      <th>9</th>\n",
       "      <td>10449</td>\n",
       "      <td>1</td>\n",
       "    </tr>\n",
       "    <tr>\n",
       "      <th>10</th>\n",
       "      <td>10188</td>\n",
       "      <td>2</td>\n",
       "    </tr>\n",
       "    <tr>\n",
       "      <th>11</th>\n",
       "      <td>10243</td>\n",
       "      <td>2</td>\n",
       "    </tr>\n",
       "    <tr>\n",
       "      <th>12</th>\n",
       "      <td>10244</td>\n",
       "      <td>2</td>\n",
       "    </tr>\n",
       "    <tr>\n",
       "      <th>13</th>\n",
       "      <td>10250</td>\n",
       "      <td>2</td>\n",
       "    </tr>\n",
       "    <tr>\n",
       "      <th>14</th>\n",
       "      <td>10263</td>\n",
       "      <td>2</td>\n",
       "    </tr>\n",
       "    <tr>\n",
       "      <th>15</th>\n",
       "      <td>10266</td>\n",
       "      <td>2</td>\n",
       "    </tr>\n",
       "    <tr>\n",
       "      <th>16</th>\n",
       "      <td>10352</td>\n",
       "      <td>2</td>\n",
       "    </tr>\n",
       "    <tr>\n",
       "      <th>17</th>\n",
       "      <td>10136</td>\n",
       "      <td>3</td>\n",
       "    </tr>\n",
       "  </tbody>\n",
       "</table>\n",
       "</div>"
      ],
      "text/plain": [
       "    center id  nb of test types\n",
       "0       10137                 1\n",
       "1       10138                 1\n",
       "2       10207                 1\n",
       "3       10254                 1\n",
       "4       10294                 1\n",
       "5       10299                 1\n",
       "6       10301                 1\n",
       "7       10336                 1\n",
       "8       10341                 1\n",
       "9       10449                 1\n",
       "10      10188                 2\n",
       "11      10243                 2\n",
       "12      10244                 2\n",
       "13      10250                 2\n",
       "14      10263                 2\n",
       "15      10266                 2\n",
       "16      10352                 2\n",
       "17      10136                 3"
      ]
     },
     "execution_count": 12,
     "metadata": {},
     "output_type": "execute_result"
    }
   ],
   "source": [
    "centers_ordered_by_test_types = df.groupby('id')['test type'].nunique().reset_index().sort_values(\n",
    "    ['test type', 'id']).rename(\n",
    "    index=str, columns={'id': 'center id', 'test type': 'nb of test types'}\n",
    ").reset_index(drop=True)\n",
    "centers_ordered_by_test_types"
   ]
  },
  {
   "cell_type": "code",
   "execution_count": 13,
   "metadata": {},
   "outputs": [
    {
     "data": {
      "image/png": "[encoded data removed]",
      "text/plain": [
       "<Figure size 432x288 with 1 Axes>"
      ]
     },
     "metadata": {
      "needs_background": "light"
     },
     "output_type": "display_data"
    }
   ],
   "source": [
    "fig, ax = plt.subplots()\n",
    "centers_ordered_by_test_types['nb of test types'].hist(range=(0.5, 3.5), bins=9);\n",
    "ax.set_title(\"Number of test types delivered per center\", fontsize=18);\n",
    "ax.set_xlabel(\"Number of test types\");\n",
    "ax.set_xticks([1, 2, 3]);\n",
    "ax.set_ylabel(\"Frequency\");\n",
    "ax.grid();"
   ]
  },
  {
   "cell_type": "markdown",
   "metadata": {},
   "source": [
    "We can sort the centers by the number of records:"
   ]
  },
  {
   "cell_type": "code",
   "execution_count": 14,
   "metadata": {},
   "outputs": [
    {
     "data": {
      "text/html": [
       "<div>\n",
       "<style scoped>\n",
       "    .dataframe tbody tr th:only-of-type {\n",
       "        vertical-align: middle;\n",
       "    }\n",
       "\n",
       "    .dataframe tbody tr th {\n",
       "        vertical-align: top;\n",
       "    }\n",
       "\n",
       "    .dataframe thead th {\n",
       "        text-align: right;\n",
       "    }\n",
       "</style>\n",
       "<table border=\"1\" class=\"dataframe\">\n",
       "  <thead>\n",
       "    <tr style=\"text-align: right;\">\n",
       "      <th></th>\n",
       "      <th>center id</th>\n",
       "      <th>nb of records</th>\n",
       "    </tr>\n",
       "  </thead>\n",
       "  <tbody>\n",
       "    <tr>\n",
       "      <th>0</th>\n",
       "      <td>10254</td>\n",
       "      <td>25479</td>\n",
       "    </tr>\n",
       "    <tr>\n",
       "      <th>1</th>\n",
       "      <td>10336</td>\n",
       "      <td>32729</td>\n",
       "    </tr>\n",
       "    <tr>\n",
       "      <th>2</th>\n",
       "      <td>10299</td>\n",
       "      <td>34530</td>\n",
       "    </tr>\n",
       "    <tr>\n",
       "      <th>3</th>\n",
       "      <td>10294</td>\n",
       "      <td>40068</td>\n",
       "    </tr>\n",
       "    <tr>\n",
       "      <th>4</th>\n",
       "      <td>10301</td>\n",
       "      <td>49209</td>\n",
       "    </tr>\n",
       "    <tr>\n",
       "      <th>5</th>\n",
       "      <td>10138</td>\n",
       "      <td>118360</td>\n",
       "    </tr>\n",
       "    <tr>\n",
       "      <th>6</th>\n",
       "      <td>10263</td>\n",
       "      <td>157930</td>\n",
       "    </tr>\n",
       "    <tr>\n",
       "      <th>7</th>\n",
       "      <td>10341</td>\n",
       "      <td>179054</td>\n",
       "    </tr>\n",
       "    <tr>\n",
       "      <th>8</th>\n",
       "      <td>10449</td>\n",
       "      <td>212447</td>\n",
       "    </tr>\n",
       "    <tr>\n",
       "      <th>9</th>\n",
       "      <td>10137</td>\n",
       "      <td>249141</td>\n",
       "    </tr>\n",
       "    <tr>\n",
       "      <th>10</th>\n",
       "      <td>10352</td>\n",
       "      <td>275392</td>\n",
       "    </tr>\n",
       "    <tr>\n",
       "      <th>11</th>\n",
       "      <td>10250</td>\n",
       "      <td>310930</td>\n",
       "    </tr>\n",
       "    <tr>\n",
       "      <th>12</th>\n",
       "      <td>10207</td>\n",
       "      <td>380060</td>\n",
       "    </tr>\n",
       "    <tr>\n",
       "      <th>13</th>\n",
       "      <td>10244</td>\n",
       "      <td>392522</td>\n",
       "    </tr>\n",
       "    <tr>\n",
       "      <th>14</th>\n",
       "      <td>10266</td>\n",
       "      <td>448616</td>\n",
       "    </tr>\n",
       "    <tr>\n",
       "      <th>15</th>\n",
       "      <td>10188</td>\n",
       "      <td>542420</td>\n",
       "    </tr>\n",
       "    <tr>\n",
       "      <th>16</th>\n",
       "      <td>10136</td>\n",
       "      <td>733797</td>\n",
       "    </tr>\n",
       "    <tr>\n",
       "      <th>17</th>\n",
       "      <td>10243</td>\n",
       "      <td>934375</td>\n",
       "    </tr>\n",
       "  </tbody>\n",
       "</table>\n",
       "</div>"
      ],
      "text/plain": [
       "    center id  nb of records\n",
       "0       10254          25479\n",
       "1       10336          32729\n",
       "2       10299          34530\n",
       "3       10294          40068\n",
       "4       10301          49209\n",
       "5       10138         118360\n",
       "6       10263         157930\n",
       "7       10341         179054\n",
       "8       10449         212447\n",
       "9       10137         249141\n",
       "10      10352         275392\n",
       "11      10250         310930\n",
       "12      10207         380060\n",
       "13      10244         392522\n",
       "14      10266         448616\n",
       "15      10188         542420\n",
       "16      10136         733797\n",
       "17      10243         934375"
      ]
     },
     "execution_count": 14,
     "metadata": {},
     "output_type": "execute_result"
    }
   ],
   "source": [
    "centers_ordered_by_records = df.groupby('id')['test type'].count().reset_index().sort_values(\n",
    "    ['test type', 'id']).rename(\n",
    "    index=str, columns={'id': 'center id', 'test type': 'nb of records'}\n",
    ").reset_index(drop=True)\n",
    "centers_ordered_by_records"
   ]
  },
  {
   "cell_type": "code",
   "execution_count": 15,
   "metadata": {},
   "outputs": [
    {
     "data": {
      "image/png": "[encoded data removed]",
      "text/plain": [
       "<Figure size 432x288 with 1 Axes>"
      ]
     },
     "metadata": {
      "needs_background": "light"
     },
     "output_type": "display_data"
    }
   ],
   "source": [
    "fig, ax = plt.subplots()\n",
    "centers_ordered_by_records['nb of records'].hist(ax=ax, range=(0, 1e6), bins=40);\n",
    "ax.set_title(\"Number of records per center\", fontsize=18);\n",
    "ax.set_xlabel(\"Number of records\");\n",
    "ax.set_ylabel(\"Frequency\");\n",
    "ax.grid();"
   ]
  },
  {
   "cell_type": "markdown",
   "metadata": {},
   "source": [
    "We can combine these two in a new dataframe:"
   ]
  },
  {
   "cell_type": "code",
   "execution_count": 16,
   "metadata": {},
   "outputs": [
    {
     "data": {
      "text/html": [
       "<div>\n",
       "<style scoped>\n",
       "    .dataframe tbody tr th:only-of-type {\n",
       "        vertical-align: middle;\n",
       "    }\n",
       "\n",
       "    .dataframe tbody tr th {\n",
       "        vertical-align: top;\n",
       "    }\n",
       "\n",
       "    .dataframe thead th {\n",
       "        text-align: right;\n",
       "    }\n",
       "</style>\n",
       "<table border=\"1\" class=\"dataframe\">\n",
       "  <thead>\n",
       "    <tr style=\"text-align: right;\">\n",
       "      <th></th>\n",
       "      <th>center id</th>\n",
       "      <th>nb of test types</th>\n",
       "      <th>nb of records</th>\n",
       "    </tr>\n",
       "  </thead>\n",
       "  <tbody>\n",
       "    <tr>\n",
       "      <th>0</th>\n",
       "      <td>10254</td>\n",
       "      <td>1</td>\n",
       "      <td>25479</td>\n",
       "    </tr>\n",
       "    <tr>\n",
       "      <th>1</th>\n",
       "      <td>10336</td>\n",
       "      <td>1</td>\n",
       "      <td>32729</td>\n",
       "    </tr>\n",
       "    <tr>\n",
       "      <th>2</th>\n",
       "      <td>10299</td>\n",
       "      <td>1</td>\n",
       "      <td>34530</td>\n",
       "    </tr>\n",
       "    <tr>\n",
       "      <th>3</th>\n",
       "      <td>10294</td>\n",
       "      <td>1</td>\n",
       "      <td>40068</td>\n",
       "    </tr>\n",
       "    <tr>\n",
       "      <th>4</th>\n",
       "      <td>10301</td>\n",
       "      <td>1</td>\n",
       "      <td>49209</td>\n",
       "    </tr>\n",
       "    <tr>\n",
       "      <th>5</th>\n",
       "      <td>10138</td>\n",
       "      <td>1</td>\n",
       "      <td>118360</td>\n",
       "    </tr>\n",
       "    <tr>\n",
       "      <th>6</th>\n",
       "      <td>10341</td>\n",
       "      <td>1</td>\n",
       "      <td>179054</td>\n",
       "    </tr>\n",
       "    <tr>\n",
       "      <th>7</th>\n",
       "      <td>10449</td>\n",
       "      <td>1</td>\n",
       "      <td>212447</td>\n",
       "    </tr>\n",
       "    <tr>\n",
       "      <th>8</th>\n",
       "      <td>10137</td>\n",
       "      <td>1</td>\n",
       "      <td>249141</td>\n",
       "    </tr>\n",
       "    <tr>\n",
       "      <th>9</th>\n",
       "      <td>10207</td>\n",
       "      <td>1</td>\n",
       "      <td>380060</td>\n",
       "    </tr>\n",
       "    <tr>\n",
       "      <th>10</th>\n",
       "      <td>10263</td>\n",
       "      <td>2</td>\n",
       "      <td>157930</td>\n",
       "    </tr>\n",
       "    <tr>\n",
       "      <th>11</th>\n",
       "      <td>10352</td>\n",
       "      <td>2</td>\n",
       "      <td>275392</td>\n",
       "    </tr>\n",
       "    <tr>\n",
       "      <th>12</th>\n",
       "      <td>10250</td>\n",
       "      <td>2</td>\n",
       "      <td>310930</td>\n",
       "    </tr>\n",
       "    <tr>\n",
       "      <th>13</th>\n",
       "      <td>10244</td>\n",
       "      <td>2</td>\n",
       "      <td>392522</td>\n",
       "    </tr>\n",
       "    <tr>\n",
       "      <th>14</th>\n",
       "      <td>10266</td>\n",
       "      <td>2</td>\n",
       "      <td>448616</td>\n",
       "    </tr>\n",
       "    <tr>\n",
       "      <th>15</th>\n",
       "      <td>10188</td>\n",
       "      <td>2</td>\n",
       "      <td>542420</td>\n",
       "    </tr>\n",
       "    <tr>\n",
       "      <th>16</th>\n",
       "      <td>10243</td>\n",
       "      <td>2</td>\n",
       "      <td>934375</td>\n",
       "    </tr>\n",
       "    <tr>\n",
       "      <th>17</th>\n",
       "      <td>10136</td>\n",
       "      <td>3</td>\n",
       "      <td>733797</td>\n",
       "    </tr>\n",
       "  </tbody>\n",
       "</table>\n",
       "</div>"
      ],
      "text/plain": [
       "    center id  nb of test types  nb of records\n",
       "0       10254                 1          25479\n",
       "1       10336                 1          32729\n",
       "2       10299                 1          34530\n",
       "3       10294                 1          40068\n",
       "4       10301                 1          49209\n",
       "5       10138                 1         118360\n",
       "6       10341                 1         179054\n",
       "7       10449                 1         212447\n",
       "8       10137                 1         249141\n",
       "9       10207                 1         380060\n",
       "10      10263                 2         157930\n",
       "11      10352                 2         275392\n",
       "12      10250                 2         310930\n",
       "13      10244                 2         392522\n",
       "14      10266                 2         448616\n",
       "15      10188                 2         542420\n",
       "16      10243                 2         934375\n",
       "17      10136                 3         733797"
      ]
     },
     "execution_count": 16,
     "metadata": {},
     "output_type": "execute_result"
    }
   ],
   "source": [
    "grouped_cid = df.groupby('id')\n",
    "df1 = grouped_cid['test type'].nunique().reset_index()\n",
    "df1['count'] = grouped_cid['test type'].count().reset_index()['test type']\n",
    "\n",
    "df1.sort_values(by=['test type', 'count']).rename(\n",
    "    index=str, columns={'id': 'center id', 'test type': 'nb of test types', 'count': 'nb of records'}\n",
    ").reset_index(drop=True)"
   ]
  },
  {
   "cell_type": "markdown",
   "metadata": {},
   "source": [
    "---\n",
    "## Visualization\n",
    "\n",
    "Plot `grab` vs `appointment` for center `10254`:"
   ]
  },
  {
   "cell_type": "code",
   "execution_count": 17,
   "metadata": {},
   "outputs": [
    {
     "name": "stdout",
     "output_type": "stream",
     "text": [
      "CPU times: user 172 ms, sys: 9.75 ms, total: 182 ms\n",
      "Wall time: 182 ms\n"
     ]
    },
    {
     "data": {
      "image/png": "[encoded data removed]",
      "text/plain": [
       "<Figure size 864x504 with 1 Axes>"
      ]
     },
     "metadata": {
      "needs_background": "light"
     },
     "output_type": "display_data"
    }
   ],
   "source": [
    "%%time\n",
    "\n",
    "# Plot data\n",
    "ax = df[df['id'] == 10254].plot(\n",
    "    x='grab', y='appointment', \n",
    "    #style='.', \n",
    "    **{\"marker\": \".\", \"markersize\": 3, \"linestyle\": \"\"},\n",
    "    figsize=(12, 7)\n",
    ");\n",
    "\n",
    "# x-axis labeling\n",
    "ax.set_xlabel(\"Timestamp of data collection\");\n",
    "grab_min = df['grab'].min()\n",
    "grab_max = df['grab'].max()\n",
    "grab_date_range = pd.date_range(\n",
    "    pd.Timestamp(grab_min.year, grab_min.month, grab_min.day, grab_min.hour), \n",
    "    pd.Timestamp(grab_max.year, grab_max.month, grab_max.day, grab_min.hour+1), \n",
    "    freq=\"H\");\n",
    "ax.set_xticks(grab_date_range);\n",
    "ax.set_xticklabels([pd.to_datetime(x).strftime(\"%d %b %H:00\")\n",
    "                    if x.hour == 0\n",
    "                    else pd.to_datetime(x).strftime(\"%H:00\")\n",
    "                   for x in grab_date_range])\n",
    "#ax.tick_params(axis='x', labelrotation=60)\n",
    "\n",
    "# y-axis labeling\n",
    "ax.set_ylabel(\"Appointment\");\n",
    "appt_min = df.loc[df['id'] == 10254, 'appointment'].min()\n",
    "appt_max = df.loc[df['id'] == 10254, 'appointment'].max()\n",
    "appt_date_range = pd.date_range(\n",
    "    pd.Timestamp(appt_min.year, appt_min.month, appt_min.day),\n",
    "    pd.Timestamp(appt_max.year, appt_max.month, appt_max.day),\n",
    "    freq=\"W-MON\"\n",
    ")\n",
    "appt_date_range = appt_date_range.append(pd.DatetimeIndex([x.date() for x in [appt_min, appt_max]]))\n",
    "ax.set_yticks(appt_date_range);\n",
    "ax.set_yticklabels([pd.to_datetime(x).strftime(\"%a %d %b %Y\")\n",
    "                   for x in appt_date_range])\n",
    "# Further layout options\n",
    "ax.get_legend().remove()\n",
    "ax.set_title(\"Available appointments for center 10254\", fontsize=18);\n",
    "ax.grid()\n",
    "#plt.savefig(\"center-10254-schedule.png\")"
   ]
  },
  {
   "cell_type": "markdown",
   "metadata": {},
   "source": [
    "---\n",
    "## Times the appointments go online\n",
    "\n",
    "Not all appointments in the future are accessible online at all times.  In this section of the notebook we will investigate how many days the appointments are posted ahead of time.\n",
    "\n",
    "### Remark: dealing with artefacts\n",
    "This is not merely a matter of curiosity.  Indeed, when we reconstruct the booking history of the appointments in notebook `UHCW_reconstruction.ipynb`, there will be artefacts if we do not account for the fact that only a finite number of appointments are visible on the portal.  Namely, we will erroneously interpret an appointment appearing on the dataset as an appointment having been cancelled and therefore become visible again on the chart.\n",
    "\n",
    "### Main questions\n",
    "\n",
    "1. Do all appointments on a new day go online at the same time?\n",
    "1. If so, how many days ahead, and at what time?\n",
    "1. Do all test centers follow the same rule?\n",
    "\n",
    "### Timestamps of `first appearance`\n",
    "We first look at the `grab` timestamp when each `appointment` appears in `df`.  Except for the very first results, this should indicate when the `appointment` first appeared online.\n",
    "\n",
    "More precisely, we construct the dataframe `df_post_appt`, where we record the `first appearance` timestamp for each `appointment`.  This is the earliest `grab` timestamp where the `appointment` appears in the dataset.  (Here, by `appointment` we mean a timestamp at a specific center and for a specific test type.)"
   ]
  },
  {
   "cell_type": "code",
   "execution_count": 18,
   "metadata": {},
   "outputs": [],
   "source": [
    "df_post_appt = df.groupby(['id', 'test type', 'appointment'])['grab'].min().to_frame()\n",
    "\n",
    "df_post_appt.reset_index(inplace=True)\n",
    "\n",
    "df_post_appt['appointment date'] = df_post_appt['appointment'].apply(lambda ts: ts.date())\n",
    "\n",
    "df_post_appt.rename(index=str, columns={'grab': 'first appearance'}, inplace=True)\n",
    "df_post_appt['first appearance date'] = df_post_appt['first appearance'].apply(lambda ts: ts.date())\n",
    "df_post_appt['open window'] = df_post_appt['appointment date'] - df_post_appt['first appearance date']"
   ]
  },
  {
   "cell_type": "code",
   "execution_count": 19,
   "metadata": {},
   "outputs": [
    {
     "data": {
      "text/html": [
       "<div>\n",
       "<style scoped>\n",
       "    .dataframe tbody tr th:only-of-type {\n",
       "        vertical-align: middle;\n",
       "    }\n",
       "\n",
       "    .dataframe tbody tr th {\n",
       "        vertical-align: top;\n",
       "    }\n",
       "\n",
       "    .dataframe thead th {\n",
       "        text-align: right;\n",
       "    }\n",
       "</style>\n",
       "<table border=\"1\" class=\"dataframe\">\n",
       "  <thead>\n",
       "    <tr style=\"text-align: right;\">\n",
       "      <th></th>\n",
       "      <th>id</th>\n",
       "      <th>test type</th>\n",
       "      <th>appointment</th>\n",
       "      <th>first appearance</th>\n",
       "      <th>appointment date</th>\n",
       "      <th>first appearance date</th>\n",
       "      <th>open window</th>\n",
       "    </tr>\n",
       "  </thead>\n",
       "  <tbody>\n",
       "    <tr>\n",
       "      <th>0</th>\n",
       "      <td>10136</td>\n",
       "      <td>Fasting Bloods</td>\n",
       "      <td>2019-01-17 07:20:00+00:00</td>\n",
       "      <td>2019-01-15 13:40:00+00:00</td>\n",
       "      <td>2019-01-17</td>\n",
       "      <td>2019-01-15</td>\n",
       "      <td>2 days</td>\n",
       "    </tr>\n",
       "    <tr>\n",
       "      <th>1</th>\n",
       "      <td>10136</td>\n",
       "      <td>Fasting Bloods</td>\n",
       "      <td>2019-01-17 07:25:00+00:00</td>\n",
       "      <td>2019-01-15 13:40:00+00:00</td>\n",
       "      <td>2019-01-17</td>\n",
       "      <td>2019-01-15</td>\n",
       "      <td>2 days</td>\n",
       "    </tr>\n",
       "    <tr>\n",
       "      <th>2</th>\n",
       "      <td>10136</td>\n",
       "      <td>Fasting Bloods</td>\n",
       "      <td>2019-01-17 07:30:00+00:00</td>\n",
       "      <td>2019-01-15 13:40:00+00:00</td>\n",
       "      <td>2019-01-17</td>\n",
       "      <td>2019-01-15</td>\n",
       "      <td>2 days</td>\n",
       "    </tr>\n",
       "    <tr>\n",
       "      <th>3</th>\n",
       "      <td>10136</td>\n",
       "      <td>Fasting Bloods</td>\n",
       "      <td>2019-01-17 07:35:00+00:00</td>\n",
       "      <td>2019-01-15 13:40:00+00:00</td>\n",
       "      <td>2019-01-17</td>\n",
       "      <td>2019-01-15</td>\n",
       "      <td>2 days</td>\n",
       "    </tr>\n",
       "    <tr>\n",
       "      <th>4</th>\n",
       "      <td>10136</td>\n",
       "      <td>Fasting Bloods</td>\n",
       "      <td>2019-01-17 07:40:00+00:00</td>\n",
       "      <td>2019-01-15 13:40:00+00:00</td>\n",
       "      <td>2019-01-17</td>\n",
       "      <td>2019-01-15</td>\n",
       "      <td>2 days</td>\n",
       "    </tr>\n",
       "  </tbody>\n",
       "</table>\n",
       "</div>"
      ],
      "text/plain": [
       "      id       test type               appointment          first appearance  \\\n",
       "0  10136  Fasting Bloods 2019-01-17 07:20:00+00:00 2019-01-15 13:40:00+00:00   \n",
       "1  10136  Fasting Bloods 2019-01-17 07:25:00+00:00 2019-01-15 13:40:00+00:00   \n",
       "2  10136  Fasting Bloods 2019-01-17 07:30:00+00:00 2019-01-15 13:40:00+00:00   \n",
       "3  10136  Fasting Bloods 2019-01-17 07:35:00+00:00 2019-01-15 13:40:00+00:00   \n",
       "4  10136  Fasting Bloods 2019-01-17 07:40:00+00:00 2019-01-15 13:40:00+00:00   \n",
       "\n",
       "  appointment date first appearance date open window  \n",
       "0       2019-01-17            2019-01-15      2 days  \n",
       "1       2019-01-17            2019-01-15      2 days  \n",
       "2       2019-01-17            2019-01-15      2 days  \n",
       "3       2019-01-17            2019-01-15      2 days  \n",
       "4       2019-01-17            2019-01-15      2 days  "
      ]
     },
     "execution_count": 19,
     "metadata": {},
     "output_type": "execute_result"
    }
   ],
   "source": [
    "df_post_appt.head()"
   ]
  },
  {
   "cell_type": "markdown",
   "metadata": {},
   "source": [
    "We generate a column with the `appointment date` since we expect that all appointments on a new appointment date go online at the same time, and the `open window` column records the number of days the `first appearance` occurs before the `appointment date`.  \n",
    "\n",
    "We observe that for most appointment *dates*, there is only one `first appearance` timestamp:"
   ]
  },
  {
   "cell_type": "code",
   "execution_count": 20,
   "metadata": {},
   "outputs": [
    {
     "data": {
      "text/html": [
       "<div>\n",
       "<style scoped>\n",
       "    .dataframe tbody tr th:only-of-type {\n",
       "        vertical-align: middle;\n",
       "    }\n",
       "\n",
       "    .dataframe tbody tr th {\n",
       "        vertical-align: top;\n",
       "    }\n",
       "\n",
       "    .dataframe thead th {\n",
       "        text-align: right;\n",
       "    }\n",
       "</style>\n",
       "<table border=\"1\" class=\"dataframe\">\n",
       "  <thead>\n",
       "    <tr style=\"text-align: right;\">\n",
       "      <th></th>\n",
       "      <th>nb of occurrences</th>\n",
       "    </tr>\n",
       "    <tr>\n",
       "      <th>nb of first appearance timestamps on a given day</th>\n",
       "      <th></th>\n",
       "    </tr>\n",
       "  </thead>\n",
       "  <tbody>\n",
       "    <tr>\n",
       "      <th>1</th>\n",
       "      <td>1354</td>\n",
       "    </tr>\n",
       "    <tr>\n",
       "      <th>2</th>\n",
       "      <td>19</td>\n",
       "    </tr>\n",
       "    <tr>\n",
       "      <th>3</th>\n",
       "      <td>4</td>\n",
       "    </tr>\n",
       "    <tr>\n",
       "      <th>4</th>\n",
       "      <td>3</td>\n",
       "    </tr>\n",
       "    <tr>\n",
       "      <th>8</th>\n",
       "      <td>2</td>\n",
       "    </tr>\n",
       "    <tr>\n",
       "      <th>9</th>\n",
       "      <td>1</td>\n",
       "    </tr>\n",
       "    <tr>\n",
       "      <th>5</th>\n",
       "      <td>1</td>\n",
       "    </tr>\n",
       "  </tbody>\n",
       "</table>\n",
       "</div>"
      ],
      "text/plain": [
       "                                                  nb of occurrences\n",
       "nb of first appearance timestamps on a given day                   \n",
       "1                                                              1354\n",
       "2                                                                19\n",
       "3                                                                 4\n",
       "4                                                                 3\n",
       "8                                                                 2\n",
       "9                                                                 1\n",
       "5                                                                 1"
      ]
     },
     "execution_count": 20,
     "metadata": {},
     "output_type": "execute_result"
    }
   ],
   "source": [
    "df_post_appt.groupby(\n",
    "    ['id', 'test type', 'appointment date'])['first appearance'].nunique(\n",
    ").to_frame(\n",
    ")['first appearance'].value_counts().to_frame().rename_axis(\n",
    "    \"nb of first appearance timestamps on a given day\"\n",
    ").rename(index=str, columns={\"first appearance\": \"nb of occurrences\"})"
   ]
  },
  {
   "cell_type": "markdown",
   "metadata": {},
   "source": [
    "In fact, given the size of `df_post_appt`, there are few distinct `first appearance` timestamps:"
   ]
  },
  {
   "cell_type": "code",
   "execution_count": 21,
   "metadata": {},
   "outputs": [
    {
     "data": {
      "text/plain": [
       "36"
      ]
     },
     "execution_count": 21,
     "metadata": {},
     "output_type": "execute_result"
    }
   ],
   "source": [
    "df_post_appt['first appearance'].nunique()"
   ]
  },
  {
   "cell_type": "markdown",
   "metadata": {},
   "source": [
    "Let's look at the top 5 most occurring `first appearance` timestamps:"
   ]
  },
  {
   "cell_type": "code",
   "execution_count": 22,
   "metadata": {},
   "outputs": [
    {
     "data": {
      "text/html": [
       "<div>\n",
       "<style scoped>\n",
       "    .dataframe tbody tr th:only-of-type {\n",
       "        vertical-align: middle;\n",
       "    }\n",
       "\n",
       "    .dataframe tbody tr th {\n",
       "        vertical-align: top;\n",
       "    }\n",
       "\n",
       "    .dataframe thead th {\n",
       "        text-align: right;\n",
       "    }\n",
       "</style>\n",
       "<table border=\"1\" class=\"dataframe\">\n",
       "  <thead>\n",
       "    <tr style=\"text-align: right;\">\n",
       "      <th></th>\n",
       "      <th>nb of occurrences</th>\n",
       "    </tr>\n",
       "    <tr>\n",
       "      <th>first appearance timestamp</th>\n",
       "      <th></th>\n",
       "    </tr>\n",
       "  </thead>\n",
       "  <tbody>\n",
       "    <tr>\n",
       "      <th>2019-01-15 13:40:00+00:00</th>\n",
       "      <td>53761</td>\n",
       "    </tr>\n",
       "    <tr>\n",
       "      <th>2019-01-16 00:00:00+00:00</th>\n",
       "      <td>660</td>\n",
       "    </tr>\n",
       "    <tr>\n",
       "      <th>2019-01-15 14:50:00+00:00</th>\n",
       "      <td>288</td>\n",
       "    </tr>\n",
       "    <tr>\n",
       "      <th>2019-01-16 08:00:00+00:00</th>\n",
       "      <td>7</td>\n",
       "    </tr>\n",
       "    <tr>\n",
       "      <th>2019-01-16 09:50:00+00:00</th>\n",
       "      <td>6</td>\n",
       "    </tr>\n",
       "  </tbody>\n",
       "</table>\n",
       "</div>"
      ],
      "text/plain": [
       "                            nb of occurrences\n",
       "first appearance timestamp                   \n",
       "2019-01-15 13:40:00+00:00               53761\n",
       "2019-01-16 00:00:00+00:00                 660\n",
       "2019-01-15 14:50:00+00:00                 288\n",
       "2019-01-16 08:00:00+00:00                   7\n",
       "2019-01-16 09:50:00+00:00                   6"
      ]
     },
     "execution_count": 22,
     "metadata": {},
     "output_type": "execute_result"
    }
   ],
   "source": [
    "df_post_appt['first appearance'].value_counts()[0:5].to_frame().rename_axis(\n",
    "\"first appearance timestamp\"\n",
    ").rename(index=str, columns={'first appearance': \"nb of occurrences\"})"
   ]
  },
  {
   "cell_type": "markdown",
   "metadata": {},
   "source": [
    "The most occurring timestamp corresponds to the first `grab` timestamp in the dataframe `df`:"
   ]
  },
  {
   "cell_type": "code",
   "execution_count": 23,
   "metadata": {},
   "outputs": [
    {
     "data": {
      "text/plain": [
       "Timestamp('2019-01-15 13:40:00+0000', tz='Europe/London')"
      ]
     },
     "execution_count": 23,
     "metadata": {},
     "output_type": "execute_result"
    }
   ],
   "source": [
    "df['grab'].min()"
   ]
  },
  {
   "cell_type": "markdown",
   "metadata": {},
   "source": [
    "We will ignore this timestamp since it most likely is an artefact of the data collection having to start when the system is already in place.  \n",
    "\n",
    "### Classifying centers by `first appearance` timestamps\n",
    "We record the two most occurring `first appearance` timestamps:"
   ]
  },
  {
   "cell_type": "code",
   "execution_count": 24,
   "metadata": {},
   "outputs": [],
   "source": [
    "new_posting_timestamp_1 = df_post_appt['first appearance'].value_counts().index[1]\n",
    "new_posting_timestamp_2 = df_post_appt['first appearance'].value_counts().index[2]"
   ]
  },
  {
   "cell_type": "markdown",
   "metadata": {},
   "source": [
    "Next we look at the test centers with these `first appearance` values appearing in their data:\n",
    "\n",
    "These two timestamps split the centers into two disjoint subsets:"
   ]
  },
  {
   "cell_type": "code",
   "execution_count": 25,
   "metadata": {},
   "outputs": [
    {
     "data": {
      "text/html": [
       "<div>\n",
       "<style scoped>\n",
       "    .dataframe tbody tr th:only-of-type {\n",
       "        vertical-align: middle;\n",
       "    }\n",
       "\n",
       "    .dataframe tbody tr th {\n",
       "        vertical-align: top;\n",
       "    }\n",
       "\n",
       "    .dataframe thead th {\n",
       "        text-align: right;\n",
       "    }\n",
       "</style>\n",
       "<table border=\"1\" class=\"dataframe\">\n",
       "  <thead>\n",
       "    <tr style=\"text-align: right;\">\n",
       "      <th></th>\n",
       "      <th>id</th>\n",
       "    </tr>\n",
       "  </thead>\n",
       "  <tbody>\n",
       "  </tbody>\n",
       "</table>\n",
       "</div>"
      ],
      "text/plain": [
       "Empty DataFrame\n",
       "Columns: [id]\n",
       "Index: []"
      ]
     },
     "execution_count": 25,
     "metadata": {},
     "output_type": "execute_result"
    }
   ],
   "source": [
    "df_centers_1 = df_post_appt[df_post_appt['first appearance'] == new_posting_timestamp_1]['id'].drop_duplicates().to_frame().reset_index(drop=True)\n",
    "df_centers_2 = df_post_appt[df_post_appt['first appearance'] == new_posting_timestamp_2]['id'].drop_duplicates().to_frame().reset_index(drop=True)\n",
    "\n",
    "pd.merge(df_centers_1, df_centers_2, how='inner', on='id')"
   ]
  },
  {
   "cell_type": "markdown",
   "metadata": {},
   "source": [
    "The resulting dataframe is empty, showing that the two sets are disjoint."
   ]
  },
  {
   "cell_type": "markdown",
   "metadata": {},
   "source": [
    "### Appointments with most occurring `first appearance` timestamp"
   ]
  },
  {
   "cell_type": "markdown",
   "metadata": {},
   "source": [
    "The next most occuring `first appearance` timestamp falls at midnight:"
   ]
  },
  {
   "cell_type": "code",
   "execution_count": 26,
   "metadata": {},
   "outputs": [
    {
     "data": {
      "text/plain": [
       "Timestamp('2019-01-16 00:00:00+0000', tz='Europe/London')"
      ]
     },
     "execution_count": 26,
     "metadata": {},
     "output_type": "execute_result"
    }
   ],
   "source": [
    "new_posting_timestamp_1"
   ]
  },
  {
   "cell_type": "markdown",
   "metadata": {},
   "source": [
    "  This strongly suggests that all appointments on a new day go online at midnight a certain number of days ahead (which we will calculate later).  \n",
    "  \n",
    "We test this conjecture by looking at the dates of the appointments for which this is indeed the first appearance:"
   ]
  },
  {
   "cell_type": "code",
   "execution_count": 27,
   "metadata": {},
   "outputs": [
    {
     "data": {
      "text/html": [
       "<div>\n",
       "<style scoped>\n",
       "    .dataframe tbody tr th:only-of-type {\n",
       "        vertical-align: middle;\n",
       "    }\n",
       "\n",
       "    .dataframe tbody tr th {\n",
       "        vertical-align: top;\n",
       "    }\n",
       "\n",
       "    .dataframe thead th {\n",
       "        text-align: right;\n",
       "    }\n",
       "</style>\n",
       "<table border=\"1\" class=\"dataframe\">\n",
       "  <thead>\n",
       "    <tr style=\"text-align: right;\">\n",
       "      <th></th>\n",
       "      <th></th>\n",
       "      <th>appointment date</th>\n",
       "    </tr>\n",
       "    <tr>\n",
       "      <th>id</th>\n",
       "      <th>test type</th>\n",
       "      <th></th>\n",
       "    </tr>\n",
       "  </thead>\n",
       "  <tbody>\n",
       "    <tr>\n",
       "      <th rowspan=\"2\" valign=\"top\">10188</th>\n",
       "      <th>Blood Test</th>\n",
       "      <td>[2019-01-16, 2019-03-09]</td>\n",
       "    </tr>\n",
       "    <tr>\n",
       "      <th>INR Test</th>\n",
       "      <td>[2019-01-16, 2019-03-20]</td>\n",
       "    </tr>\n",
       "    <tr>\n",
       "      <th>10207</th>\n",
       "      <th>Blood Test</th>\n",
       "      <td>[2019-03-20]</td>\n",
       "    </tr>\n",
       "    <tr>\n",
       "      <th rowspan=\"2\" valign=\"top\">10243</th>\n",
       "      <th>Blood Test</th>\n",
       "      <td>[2019-05-21]</td>\n",
       "    </tr>\n",
       "    <tr>\n",
       "      <th>INR Test</th>\n",
       "      <td>[2019-05-21]</td>\n",
       "    </tr>\n",
       "    <tr>\n",
       "      <th rowspan=\"2\" valign=\"top\">10244</th>\n",
       "      <th>Blood Test</th>\n",
       "      <td>[2019-04-11]</td>\n",
       "    </tr>\n",
       "    <tr>\n",
       "      <th>INR Test</th>\n",
       "      <td>[2019-04-11]</td>\n",
       "    </tr>\n",
       "    <tr>\n",
       "      <th rowspan=\"2\" valign=\"top\">10250</th>\n",
       "      <th>Blood Test</th>\n",
       "      <td>[2019-04-10]</td>\n",
       "    </tr>\n",
       "    <tr>\n",
       "      <th>INR Test</th>\n",
       "      <td>[2019-04-10]</td>\n",
       "    </tr>\n",
       "    <tr>\n",
       "      <th>10254</th>\n",
       "      <th>Blood Test</th>\n",
       "      <td>[2019-03-20]</td>\n",
       "    </tr>\n",
       "    <tr>\n",
       "      <th>10263</th>\n",
       "      <th>Blood Test</th>\n",
       "      <td>[2019-03-11]</td>\n",
       "    </tr>\n",
       "    <tr>\n",
       "      <th rowspan=\"2\" valign=\"top\">10266</th>\n",
       "      <th>Blood Test</th>\n",
       "      <td>[2019-04-11]</td>\n",
       "    </tr>\n",
       "    <tr>\n",
       "      <th>INR Test</th>\n",
       "      <td>[2019-04-11]</td>\n",
       "    </tr>\n",
       "    <tr>\n",
       "      <th>10299</th>\n",
       "      <th>Glucose Tolerance Test</th>\n",
       "      <td>[2019-05-21]</td>\n",
       "    </tr>\n",
       "    <tr>\n",
       "      <th>10301</th>\n",
       "      <th>Blood Test</th>\n",
       "      <td>[2019-03-20]</td>\n",
       "    </tr>\n",
       "    <tr>\n",
       "      <th rowspan=\"2\" valign=\"top\">10352</th>\n",
       "      <th>Blood Test</th>\n",
       "      <td>[2019-04-11]</td>\n",
       "    </tr>\n",
       "    <tr>\n",
       "      <th>INR Test</th>\n",
       "      <td>[2019-04-11]</td>\n",
       "    </tr>\n",
       "    <tr>\n",
       "      <th>10449</th>\n",
       "      <th>Blood Test</th>\n",
       "      <td>[2019-04-11]</td>\n",
       "    </tr>\n",
       "  </tbody>\n",
       "</table>\n",
       "</div>"
      ],
      "text/plain": [
       "                                      appointment date\n",
       "id    test type                                       \n",
       "10188 Blood Test              [2019-01-16, 2019-03-09]\n",
       "      INR Test                [2019-01-16, 2019-03-20]\n",
       "10207 Blood Test                          [2019-03-20]\n",
       "10243 Blood Test                          [2019-05-21]\n",
       "      INR Test                            [2019-05-21]\n",
       "10244 Blood Test                          [2019-04-11]\n",
       "      INR Test                            [2019-04-11]\n",
       "10250 Blood Test                          [2019-04-10]\n",
       "      INR Test                            [2019-04-10]\n",
       "10254 Blood Test                          [2019-03-20]\n",
       "10263 Blood Test                          [2019-03-11]\n",
       "10266 Blood Test                          [2019-04-11]\n",
       "      INR Test                            [2019-04-11]\n",
       "10299 Glucose Tolerance Test              [2019-05-21]\n",
       "10301 Blood Test                          [2019-03-20]\n",
       "10352 Blood Test                          [2019-04-11]\n",
       "      INR Test                            [2019-04-11]\n",
       "10449 Blood Test                          [2019-04-11]"
      ]
     },
     "execution_count": 27,
     "metadata": {},
     "output_type": "execute_result"
    }
   ],
   "source": [
    "df_post_appt[df_post_appt['first appearance'] == new_posting_timestamp_1].groupby(\n",
    "    ['id', 'test type'])['appointment date'].unique().to_frame()"
   ]
  },
  {
   "cell_type": "markdown",
   "metadata": {},
   "source": [
    "A majority of the test centers (12 out of 18) appear in this table.\n",
    "If we discard the appointments with a date `2019-01-16`, occurring soon after the start of data collection, all appointments in this table with a `first appearance` timestamp of `2019-01-16 00:00:00` are on the same day (taking each test center and test type individually).\n",
    "\n",
    "This table also shows that the different test centers choose to open their appointments with a different number of days ahead of time.  \n",
    "\n",
    "On the other hand, again ignoring the `first appearance` date of `2019-01-16`, all test centers, except center `10188`, choose to open their appointments for all test types at the same time.  This follows directly by inspection, or programmatically with:"
   ]
  },
  {
   "cell_type": "code",
   "execution_count": 28,
   "metadata": {},
   "outputs": [
    {
     "data": {
      "text/html": [
       "<div>\n",
       "<style scoped>\n",
       "    .dataframe tbody tr th:only-of-type {\n",
       "        vertical-align: middle;\n",
       "    }\n",
       "\n",
       "    .dataframe tbody tr th {\n",
       "        vertical-align: top;\n",
       "    }\n",
       "\n",
       "    .dataframe thead th {\n",
       "        text-align: right;\n",
       "    }\n",
       "</style>\n",
       "<table border=\"1\" class=\"dataframe\">\n",
       "  <thead>\n",
       "    <tr style=\"text-align: right;\">\n",
       "      <th></th>\n",
       "      <th>appointment date</th>\n",
       "    </tr>\n",
       "    <tr>\n",
       "      <th>id</th>\n",
       "      <th></th>\n",
       "    </tr>\n",
       "  </thead>\n",
       "  <tbody>\n",
       "    <tr>\n",
       "      <th>10188</th>\n",
       "      <td>[2019-01-16, 2019-03-09, 2019-03-20]</td>\n",
       "    </tr>\n",
       "    <tr>\n",
       "      <th>10207</th>\n",
       "      <td>[2019-03-20]</td>\n",
       "    </tr>\n",
       "    <tr>\n",
       "      <th>10243</th>\n",
       "      <td>[2019-05-21]</td>\n",
       "    </tr>\n",
       "    <tr>\n",
       "      <th>10244</th>\n",
       "      <td>[2019-04-11]</td>\n",
       "    </tr>\n",
       "    <tr>\n",
       "      <th>10250</th>\n",
       "      <td>[2019-04-10]</td>\n",
       "    </tr>\n",
       "    <tr>\n",
       "      <th>10254</th>\n",
       "      <td>[2019-03-20]</td>\n",
       "    </tr>\n",
       "    <tr>\n",
       "      <th>10263</th>\n",
       "      <td>[2019-03-11]</td>\n",
       "    </tr>\n",
       "    <tr>\n",
       "      <th>10266</th>\n",
       "      <td>[2019-04-11]</td>\n",
       "    </tr>\n",
       "    <tr>\n",
       "      <th>10299</th>\n",
       "      <td>[2019-05-21]</td>\n",
       "    </tr>\n",
       "    <tr>\n",
       "      <th>10301</th>\n",
       "      <td>[2019-03-20]</td>\n",
       "    </tr>\n",
       "    <tr>\n",
       "      <th>10352</th>\n",
       "      <td>[2019-04-11]</td>\n",
       "    </tr>\n",
       "    <tr>\n",
       "      <th>10449</th>\n",
       "      <td>[2019-04-11]</td>\n",
       "    </tr>\n",
       "  </tbody>\n",
       "</table>\n",
       "</div>"
      ],
      "text/plain": [
       "                           appointment date\n",
       "id                                         \n",
       "10188  [2019-01-16, 2019-03-09, 2019-03-20]\n",
       "10207                          [2019-03-20]\n",
       "10243                          [2019-05-21]\n",
       "10244                          [2019-04-11]\n",
       "10250                          [2019-04-10]\n",
       "10254                          [2019-03-20]\n",
       "10263                          [2019-03-11]\n",
       "10266                          [2019-04-11]\n",
       "10299                          [2019-05-21]\n",
       "10301                          [2019-03-20]\n",
       "10352                          [2019-04-11]\n",
       "10449                          [2019-04-11]"
      ]
     },
     "execution_count": 28,
     "metadata": {},
     "output_type": "execute_result"
    }
   ],
   "source": [
    "df_post_appt[df_post_appt['first appearance'] == new_posting_timestamp_1].groupby(\n",
    "    ['id'])['appointment date'].unique().to_frame()"
   ]
  },
  {
   "cell_type": "markdown",
   "metadata": {},
   "source": [
    "Let's look at the number of days the appointments are put online ahead of time."
   ]
  },
  {
   "cell_type": "code",
   "execution_count": 29,
   "metadata": {},
   "outputs": [
    {
     "data": {
      "text/html": [
       "<div>\n",
       "<style scoped>\n",
       "    .dataframe tbody tr th:only-of-type {\n",
       "        vertical-align: middle;\n",
       "    }\n",
       "\n",
       "    .dataframe tbody tr th {\n",
       "        vertical-align: top;\n",
       "    }\n",
       "\n",
       "    .dataframe thead th {\n",
       "        text-align: right;\n",
       "    }\n",
       "</style>\n",
       "<table border=\"1\" class=\"dataframe\">\n",
       "  <thead>\n",
       "    <tr style=\"text-align: right;\">\n",
       "      <th></th>\n",
       "      <th></th>\n",
       "      <th>open window</th>\n",
       "    </tr>\n",
       "    <tr>\n",
       "      <th>id</th>\n",
       "      <th>test type</th>\n",
       "      <th></th>\n",
       "    </tr>\n",
       "  </thead>\n",
       "  <tbody>\n",
       "    <tr>\n",
       "      <th rowspan=\"2\" valign=\"top\">10188</th>\n",
       "      <th>Blood Test</th>\n",
       "      <td>52 days</td>\n",
       "    </tr>\n",
       "    <tr>\n",
       "      <th>INR Test</th>\n",
       "      <td>63 days</td>\n",
       "    </tr>\n",
       "    <tr>\n",
       "      <th>10207</th>\n",
       "      <th>Blood Test</th>\n",
       "      <td>63 days</td>\n",
       "    </tr>\n",
       "    <tr>\n",
       "      <th rowspan=\"2\" valign=\"top\">10243</th>\n",
       "      <th>Blood Test</th>\n",
       "      <td>125 days</td>\n",
       "    </tr>\n",
       "    <tr>\n",
       "      <th>INR Test</th>\n",
       "      <td>125 days</td>\n",
       "    </tr>\n",
       "    <tr>\n",
       "      <th rowspan=\"2\" valign=\"top\">10244</th>\n",
       "      <th>Blood Test</th>\n",
       "      <td>85 days</td>\n",
       "    </tr>\n",
       "    <tr>\n",
       "      <th>INR Test</th>\n",
       "      <td>85 days</td>\n",
       "    </tr>\n",
       "    <tr>\n",
       "      <th rowspan=\"2\" valign=\"top\">10250</th>\n",
       "      <th>Blood Test</th>\n",
       "      <td>84 days</td>\n",
       "    </tr>\n",
       "    <tr>\n",
       "      <th>INR Test</th>\n",
       "      <td>84 days</td>\n",
       "    </tr>\n",
       "    <tr>\n",
       "      <th>10254</th>\n",
       "      <th>Blood Test</th>\n",
       "      <td>63 days</td>\n",
       "    </tr>\n",
       "    <tr>\n",
       "      <th>10263</th>\n",
       "      <th>Blood Test</th>\n",
       "      <td>54 days</td>\n",
       "    </tr>\n",
       "    <tr>\n",
       "      <th rowspan=\"2\" valign=\"top\">10266</th>\n",
       "      <th>Blood Test</th>\n",
       "      <td>85 days</td>\n",
       "    </tr>\n",
       "    <tr>\n",
       "      <th>INR Test</th>\n",
       "      <td>85 days</td>\n",
       "    </tr>\n",
       "    <tr>\n",
       "      <th>10299</th>\n",
       "      <th>Glucose Tolerance Test</th>\n",
       "      <td>125 days</td>\n",
       "    </tr>\n",
       "    <tr>\n",
       "      <th>10301</th>\n",
       "      <th>Blood Test</th>\n",
       "      <td>63 days</td>\n",
       "    </tr>\n",
       "    <tr>\n",
       "      <th rowspan=\"2\" valign=\"top\">10352</th>\n",
       "      <th>Blood Test</th>\n",
       "      <td>85 days</td>\n",
       "    </tr>\n",
       "    <tr>\n",
       "      <th>INR Test</th>\n",
       "      <td>85 days</td>\n",
       "    </tr>\n",
       "    <tr>\n",
       "      <th>10449</th>\n",
       "      <th>Blood Test</th>\n",
       "      <td>85 days</td>\n",
       "    </tr>\n",
       "  </tbody>\n",
       "</table>\n",
       "</div>"
      ],
      "text/plain": [
       "                             open window\n",
       "id    test type                         \n",
       "10188 Blood Test                 52 days\n",
       "      INR Test                   63 days\n",
       "10207 Blood Test                 63 days\n",
       "10243 Blood Test                125 days\n",
       "      INR Test                  125 days\n",
       "10244 Blood Test                 85 days\n",
       "      INR Test                   85 days\n",
       "10250 Blood Test                 84 days\n",
       "      INR Test                   84 days\n",
       "10254 Blood Test                 63 days\n",
       "10263 Blood Test                 54 days\n",
       "10266 Blood Test                 85 days\n",
       "      INR Test                   85 days\n",
       "10299 Glucose Tolerance Test    125 days\n",
       "10301 Blood Test                 63 days\n",
       "10352 Blood Test                 85 days\n",
       "      INR Test                   85 days\n",
       "10449 Blood Test                 85 days"
      ]
     },
     "execution_count": 29,
     "metadata": {},
     "output_type": "execute_result"
    }
   ],
   "source": [
    "df_open_window_1 = df_post_appt[df_post_appt['first appearance'] == new_posting_timestamp_1].groupby(\n",
    "    ['id', 'test type'])['open window'].unique().to_frame()['open window'].apply(\n",
    "    lambda ow: ow[-1]).to_frame()\n",
    "df_open_window_1"
   ]
  },
  {
   "cell_type": "code",
   "execution_count": 30,
   "metadata": {},
   "outputs": [
    {
     "data": {
      "image/png": "[encoded data removed]",
      "text/plain": [
       "<Figure size 1152x432 with 1 Axes>"
      ]
     },
     "metadata": {
      "needs_background": "light"
     },
     "output_type": "display_data"
    }
   ],
   "source": [
    "fig, ax = plt.subplots(figsize=(16, 6))\n",
    "df_open_window_1['open window'].apply(lambda dt: dt.days).astype(int).hist(bins=8, range=(50, 130), ax=ax);\n",
    "ax.set_title(\"Number of days appointments go online before date\", fontsize=20)\n",
    "ax.set_xlabel(\"Number of days\");\n",
    "ax.set_ylabel(\"Frequency\");"
   ]
  },
  {
   "cell_type": "markdown",
   "metadata": {},
   "source": [
    "### Appointments with next most occurring `first appearance` timestamp\n",
    "We now perform the same analysis for the next most occurring `first appearance` timestamp:"
   ]
  },
  {
   "cell_type": "code",
   "execution_count": 31,
   "metadata": {},
   "outputs": [
    {
     "data": {
      "text/plain": [
       "Timestamp('2019-01-15 14:50:00+0000', tz='Europe/London')"
      ]
     },
     "execution_count": 31,
     "metadata": {},
     "output_type": "execute_result"
    }
   ],
   "source": [
    "new_posting_timestamp_2"
   ]
  },
  {
   "cell_type": "markdown",
   "metadata": {},
   "source": [
    "The time of `14:50` is quite unusual.\n",
    "Remember that the data was collected at discrete times:"
   ]
  },
  {
   "cell_type": "code",
   "execution_count": 32,
   "metadata": {},
   "outputs": [
    {
     "data": {
      "text/plain": [
       "array([Timestamp('2019-01-15 14:40:00+0000', tz='Europe/London'),\n",
       "       Timestamp('2019-01-15 14:50:00+0000', tz='Europe/London'),\n",
       "       Timestamp('2019-01-15 15:00:00+0000', tz='Europe/London')],\n",
       "      dtype=object)"
      ]
     },
     "execution_count": 32,
     "metadata": {},
     "output_type": "execute_result"
    }
   ],
   "source": [
    "df['grab'].unique()[6:9]"
   ]
  },
  {
   "cell_type": "markdown",
   "metadata": {},
   "source": [
    "Thus, the corresponding appointments have been posted any time between `14:40` and `14:50`.\n",
    "\n",
    "As earlier, let's look at the appointment dates for which `new_posting_timestamp_2` is the `first appearance` timestamp:"
   ]
  },
  {
   "cell_type": "code",
   "execution_count": 33,
   "metadata": {},
   "outputs": [
    {
     "data": {
      "text/html": [
       "<div>\n",
       "<style scoped>\n",
       "    .dataframe tbody tr th:only-of-type {\n",
       "        vertical-align: middle;\n",
       "    }\n",
       "\n",
       "    .dataframe tbody tr th {\n",
       "        vertical-align: top;\n",
       "    }\n",
       "\n",
       "    .dataframe thead th {\n",
       "        text-align: right;\n",
       "    }\n",
       "</style>\n",
       "<table border=\"1\" class=\"dataframe\">\n",
       "  <thead>\n",
       "    <tr style=\"text-align: right;\">\n",
       "      <th></th>\n",
       "      <th></th>\n",
       "      <th>appointment date</th>\n",
       "    </tr>\n",
       "    <tr>\n",
       "      <th>id</th>\n",
       "      <th>test type</th>\n",
       "      <th></th>\n",
       "    </tr>\n",
       "  </thead>\n",
       "  <tbody>\n",
       "    <tr>\n",
       "      <th rowspan=\"3\" valign=\"top\">10136</th>\n",
       "      <th>Fasting Bloods</th>\n",
       "      <td>[2019-03-20]</td>\n",
       "    </tr>\n",
       "    <tr>\n",
       "      <th>INR Test</th>\n",
       "      <td>[2019-01-16, 2019-04-04]</td>\n",
       "    </tr>\n",
       "    <tr>\n",
       "      <th>Non Fasting Bloods</th>\n",
       "      <td>[2019-01-16, 2019-03-20]</td>\n",
       "    </tr>\n",
       "    <tr>\n",
       "      <th>10137</th>\n",
       "      <th>Blood Test</th>\n",
       "      <td>[2019-05-03]</td>\n",
       "    </tr>\n",
       "    <tr>\n",
       "      <th>10138</th>\n",
       "      <th>Blood Test</th>\n",
       "      <td>[2019-03-21]</td>\n",
       "    </tr>\n",
       "    <tr>\n",
       "      <th>10294</th>\n",
       "      <th>Blood Test</th>\n",
       "      <td>[2019-03-20]</td>\n",
       "    </tr>\n",
       "    <tr>\n",
       "      <th>10341</th>\n",
       "      <th>Blood Test</th>\n",
       "      <td>[2019-05-02]</td>\n",
       "    </tr>\n",
       "  </tbody>\n",
       "</table>\n",
       "</div>"
      ],
      "text/plain": [
       "                                  appointment date\n",
       "id    test type                                   \n",
       "10136 Fasting Bloods                  [2019-03-20]\n",
       "      INR Test            [2019-01-16, 2019-04-04]\n",
       "      Non Fasting Bloods  [2019-01-16, 2019-03-20]\n",
       "10137 Blood Test                      [2019-05-03]\n",
       "10138 Blood Test                      [2019-03-21]\n",
       "10294 Blood Test                      [2019-03-20]\n",
       "10341 Blood Test                      [2019-05-02]"
      ]
     },
     "execution_count": 33,
     "metadata": {},
     "output_type": "execute_result"
    }
   ],
   "source": [
    "df_post_appt[df_post_appt['first appearance'] == new_posting_timestamp_2].groupby(\n",
    "    ['id', 'test type'])['appointment date'].unique().to_frame()"
   ]
  },
  {
   "cell_type": "markdown",
   "metadata": {},
   "source": [
    "We see that 5 out of remaining 6 test centers appear in this table.\n",
    "Similar conclusions hold: ignoring the date of `2019-01-16`, for any given test center and test type, all appointments with a `first appearance` timestamp of `2019-01-15 14:50:00` occur on the same day.\n",
    "\n",
    "Let's look at the number of days the appointments are put online ahead of time:"
   ]
  },
  {
   "cell_type": "code",
   "execution_count": 34,
   "metadata": {},
   "outputs": [
    {
     "data": {
      "text/html": [
       "<div>\n",
       "<style scoped>\n",
       "    .dataframe tbody tr th:only-of-type {\n",
       "        vertical-align: middle;\n",
       "    }\n",
       "\n",
       "    .dataframe tbody tr th {\n",
       "        vertical-align: top;\n",
       "    }\n",
       "\n",
       "    .dataframe thead th {\n",
       "        text-align: right;\n",
       "    }\n",
       "</style>\n",
       "<table border=\"1\" class=\"dataframe\">\n",
       "  <thead>\n",
       "    <tr style=\"text-align: right;\">\n",
       "      <th></th>\n",
       "      <th></th>\n",
       "      <th>open window</th>\n",
       "    </tr>\n",
       "    <tr>\n",
       "      <th>id</th>\n",
       "      <th>test type</th>\n",
       "      <th></th>\n",
       "    </tr>\n",
       "  </thead>\n",
       "  <tbody>\n",
       "    <tr>\n",
       "      <th rowspan=\"3\" valign=\"top\">10136</th>\n",
       "      <th>Fasting Bloods</th>\n",
       "      <td>64 days</td>\n",
       "    </tr>\n",
       "    <tr>\n",
       "      <th>INR Test</th>\n",
       "      <td>79 days</td>\n",
       "    </tr>\n",
       "    <tr>\n",
       "      <th>Non Fasting Bloods</th>\n",
       "      <td>64 days</td>\n",
       "    </tr>\n",
       "    <tr>\n",
       "      <th>10137</th>\n",
       "      <th>Blood Test</th>\n",
       "      <td>108 days</td>\n",
       "    </tr>\n",
       "    <tr>\n",
       "      <th>10138</th>\n",
       "      <th>Blood Test</th>\n",
       "      <td>65 days</td>\n",
       "    </tr>\n",
       "    <tr>\n",
       "      <th>10294</th>\n",
       "      <th>Blood Test</th>\n",
       "      <td>64 days</td>\n",
       "    </tr>\n",
       "    <tr>\n",
       "      <th>10341</th>\n",
       "      <th>Blood Test</th>\n",
       "      <td>107 days</td>\n",
       "    </tr>\n",
       "  </tbody>\n",
       "</table>\n",
       "</div>"
      ],
      "text/plain": [
       "                         open window\n",
       "id    test type                     \n",
       "10136 Fasting Bloods         64 days\n",
       "      INR Test               79 days\n",
       "      Non Fasting Bloods     64 days\n",
       "10137 Blood Test            108 days\n",
       "10138 Blood Test             65 days\n",
       "10294 Blood Test             64 days\n",
       "10341 Blood Test            107 days"
      ]
     },
     "execution_count": 34,
     "metadata": {},
     "output_type": "execute_result"
    }
   ],
   "source": [
    "df_open_window_2 = df_post_appt[df_post_appt['first appearance'] == new_posting_timestamp_2].groupby(\n",
    "    ['id', 'test type'])['open window'].unique().to_frame()['open window'].apply(\n",
    "    lambda ow: ow[-1]).to_frame()\n",
    "df_open_window_2"
   ]
  },
  {
   "cell_type": "code",
   "execution_count": 35,
   "metadata": {},
   "outputs": [
    {
     "data": {
      "image/png": "[encoded data removed]",
      "text/plain": [
       "<Figure size 1152x432 with 1 Axes>"
      ]
     },
     "metadata": {
      "needs_background": "light"
     },
     "output_type": "display_data"
    }
   ],
   "source": [
    "fig, ax = plt.subplots(figsize=(16, 6))\n",
    "df_open_window_2['open window'].apply(lambda dt: dt.days).astype(int).hist(bins=5, range=(60, 110), ax=ax);\n",
    "ax.set_title(\"Number of days appointments go online before date\", fontsize=20)\n",
    "ax.set_xlabel(\"Number of days\");\n",
    "ax.set_ylabel(\"Frequency\");"
   ]
  },
  {
   "cell_type": "markdown",
   "metadata": {},
   "source": [
    "### The remaining test center\n",
    "Let's now find the remaining center:"
   ]
  },
  {
   "cell_type": "code",
   "execution_count": 36,
   "metadata": {},
   "outputs": [
    {
     "data": {
      "text/plain": [
       "10336"
      ]
     },
     "execution_count": 36,
     "metadata": {},
     "output_type": "execute_result"
    }
   ],
   "source": [
    "all_centers = set(df['id'].values)\n",
    "centers_1 = set(df_centers_1['id'])\n",
    "centers_2 = set(df_centers_2['id'])\n",
    "remaining_center = list(all_centers.difference(centers_1.union(centers_2)))[0]\n",
    "remaining_center"
   ]
  },
  {
   "cell_type": "markdown",
   "metadata": {},
   "source": [
    "Let's look at its data.  We already know that it delivers one test type:"
   ]
  },
  {
   "cell_type": "code",
   "execution_count": 37,
   "metadata": {},
   "outputs": [
    {
     "data": {
      "text/plain": [
       "['Blood Test']"
      ]
     },
     "execution_count": 37,
     "metadata": {},
     "output_type": "execute_result"
    }
   ],
   "source": [
    "list(df[df['id'] == remaining_center]['test type'].unique())"
   ]
  },
  {
   "cell_type": "markdown",
   "metadata": {},
   "source": [
    "Save it in a separate dataframe, for convenience:"
   ]
  },
  {
   "cell_type": "code",
   "execution_count": 38,
   "metadata": {},
   "outputs": [],
   "source": [
    "df0 = df.loc[df['id'] == remaining_center, ['grab', 'appointment']].reset_index(drop=True)"
   ]
  },
  {
   "cell_type": "markdown",
   "metadata": {},
   "source": [
    "We follow the procedure we used earlier for the entire dataframe `df`.\n",
    "That is, we construct the dataframe `df0_post_appt`, where we record the `first appearance` timestamps of all appointments falling on the same day:"
   ]
  },
  {
   "cell_type": "code",
   "execution_count": 39,
   "metadata": {},
   "outputs": [],
   "source": [
    "df0_post_appt = df0.groupby(['appointment'])['grab'].min().to_frame()\n",
    "\n",
    "df0_post_appt.reset_index(inplace=True)\n",
    "\n",
    "df0_post_appt['appointment date'] = df0_post_appt['appointment'].apply(lambda ts: ts.date())\n",
    "df0_post_appt.rename(index=str, columns={'grab': 'first appearance'}, inplace=True)"
   ]
  },
  {
   "cell_type": "markdown",
   "metadata": {},
   "source": [
    "For this center, *all* appointments appeared in `df` at the same time:"
   ]
  },
  {
   "cell_type": "code",
   "execution_count": 40,
   "metadata": {},
   "outputs": [
    {
     "data": {
      "text/plain": [
       "{Timestamp('2019-01-15 13:40:00+0000', tz='Europe/London')}"
      ]
     },
     "execution_count": 40,
     "metadata": {},
     "output_type": "execute_result"
    }
   ],
   "source": [
    "set(df0_post_appt['first appearance'])"
   ]
  },
  {
   "cell_type": "markdown",
   "metadata": {},
   "source": [
    "---\n",
    "## Visualization of last bookings\n",
    "\n",
    "To finish this preliminary investigation of the dataset, we plot the *last* booking of the appointments for test center `10254`, which delivers only one type of blood test."
   ]
  },
  {
   "cell_type": "code",
   "execution_count": 41,
   "metadata": {},
   "outputs": [],
   "source": [
    "cid = 10254\n",
    "df0 = df.loc[df['id'] == cid, ['appointment', 'grab']]\n",
    "df0.reset_index(drop=True, inplace=True)\n",
    "\n",
    "last_grab = df0['grab'].max()\n",
    "\n",
    "df0_last_booking = pd.DataFrame()\n",
    "df0_last_booking['last booking'] = df0.groupby('appointment')['grab'].max()\n",
    "\n",
    "df0_last_booking.drop(df0_last_booking[df0_last_booking['last booking'] == last_grab].index, inplace=True)\n",
    "df0_last_booking.reset_index(inplace=True)"
   ]
  },
  {
   "cell_type": "code",
   "execution_count": 42,
   "metadata": {},
   "outputs": [
    {
     "data": {
      "image/png": "[encoded data removed]",
      "text/plain": [
       "<Figure size 1152x432 with 1 Axes>"
      ]
     },
     "metadata": {
      "needs_background": "light"
     },
     "output_type": "display_data"
    }
   ],
   "source": [
    "ax = df0_last_booking.plot(\n",
    "    x='appointment', y='last booking', \n",
    "    figsize=(16, 6), **{\"marker\": \"+\", \"markersize\": 10, 'markeredgecolor': 'b', \"linestyle\": \"\"}\n",
    ");\n",
    "\n",
    "\n",
    "# x-labeling\n",
    "ax.set_xlabel(\"Appointment\");\n",
    "appt_min = df0['appointment'].min()\n",
    "appt_max = df0['appointment'].max()\n",
    "appt_date_range = pd.date_range(\n",
    "    pd.Timestamp(appt_min.year, appt_min.month, appt_min.day),\n",
    "    pd.Timestamp(appt_max.year, appt_max.month, appt_max.day),\n",
    "    freq=\"W-MON\"\n",
    ")\n",
    "appt_date_range = appt_date_range.append(\n",
    "    pd.DatetimeIndex([x.date() for x in [appt_min, appt_max]])\n",
    ")\n",
    "ax.set_xticks(appt_date_range);\n",
    "ax.set_xticklabels([pd.to_datetime(x).strftime(\"%d %b %Y\")\n",
    "                   for x in appt_date_range])\n",
    "\n",
    "# y-labeling\n",
    "ax.set_ylabel(\"Last booking\");\n",
    "grab_min = df0['grab'].min()\n",
    "grab_max = df0['grab'].max()\n",
    "grab_date_range = pd.date_range(\n",
    "    pd.Timestamp(grab_min.year, grab_min.month, grab_min.day, grab_min.hour-1), \n",
    "    pd.Timestamp(grab_max.year, grab_max.month, grab_max.day, grab_min.hour+3), \n",
    "    freq=\"3H\");\n",
    "ax.set_yticks(grab_date_range);\n",
    "ax.set_yticklabels([pd.to_datetime(x).strftime(\"%d %b %H:00\")\n",
    "                    if x.hour == 0\n",
    "                    else pd.to_datetime(x).strftime(\"%H:00\")\n",
    "                   for x in grab_date_range])\n",
    "\n",
    "# Further plot layout\n",
    "ax.get_legend().remove()\n",
    "ax.set_title(\"Last bookings for test center {}\".format(cid), fontsize=18);\n",
    "ax.grid()"
   ]
  },
  {
   "cell_type": "markdown",
   "metadata": {},
   "source": [
    "This is far from satisfactory, though.  Booked appointments can be cancelled, thus resurfacing in the dataset, and rebooked again, thus disappearing again, and all this history is not visible in the above plot.\n",
    "We will need more sophisticated processing to reconstruct the exact booking history of all appointments.\n",
    "This we will do in the separate notebook `UHCW_reconstruction.ipynb`."
   ]
  }
 ],
 "metadata": {
  "kernelspec": {
   "display_name": "Python 3",
   "language": "python",
   "name": "python3"
  },
  "language_info": {
   "codemirror_mode": {
    "name": "ipython",
    "version": 3
   },
   "file_extension": ".py",
   "mimetype": "text/x-python",
   "name": "python",
   "nbconvert_exporter": "python",
   "pygments_lexer": "ipython3",
   "version": "3.7.1"
  }
 },
 "nbformat": 4,
 "nbformat_minor": 2
}
